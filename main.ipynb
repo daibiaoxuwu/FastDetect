{
 "cells": [
  {
   "cell_type": "markdown",
   "id": "4ccb4621",
   "metadata": {},
   "source": [
    "# FastDetect\n",
    "\n",
    "### Utils.py"
   ]
  },
  {
   "cell_type": "code",
   "execution_count": null,
   "id": "f32785d4",
   "metadata": {},
   "outputs": [],
   "source": [
    "import plotly.graph_objects as go\n",
    "import os\n",
    "from scipy.optimize import minimize\n",
    "import math\n",
    "from math import ceil, floor\n",
    "import matplotlib.pyplot as plt\n",
    "import pickle\n",
    "from tqdm import tqdm\n",
    "\n",
    "USE_GPU = os.getenv(\"USE_GPU\", \"0\") == \"1\"\n",
    "\n",
    "if USE_GPU:\n",
    "    try:\n",
    "        import cupy as xp\n",
    "        import cupyx.scipy.fft as xfft\n",
    "        on_gpu = True\n",
    "\n",
    "        asnumpy = xp.asnumpy    # CuPy → NumPy\n",
    "        asarray = xp.asarray   # Python/NumPy → CuPy\n",
    "    except ImportError:\n",
    "        # fallback if cupy not installed\n",
    "        import numpy as xp\n",
    "        import scipy.fft as xfft\n",
    "        on_gpu = False\n",
    "\n",
    "        asnumpy = lambda a: a\n",
    "        asarray = xp.asarray\n",
    "else:\n",
    "    import numpy as xp\n",
    "    import scipy.fft as xfft\n",
    "    on_gpu = False\n",
    "\n",
    "    asnumpy = lambda a: a\n",
    "    asarray = xp.asarray\n",
    "\n",
    "# -------- light helpers (backend-agnostic) --------\n",
    "def wrap(x):\n",
    "    return (x + xp.pi) % (2 * xp.pi) - xp.pi\n",
    "\n",
    "\n",
    "def to_device(x):\n",
    "    \"\"\"Move/convert Python or NumPy data to the active backend array (CuPy on GPU, NumPy on CPU).\"\"\"\n",
    "    return asarray(x)\n",
    "\n",
    "def to_host(x):\n",
    "    \"\"\"Ensure a NumPy array on host memory (identity on CPU).\"\"\"\n",
    "    return asnumpy(x)\n",
    "\n",
    "def to_scalar(x):\n",
    "    \"\"\"Return a Python scalar if x is 0-d array/array-like; otherwise return x unchanged.\"\"\"\n",
    "    # Works for both NumPy and CuPy\n",
    "    try:\n",
    "        if getattr(x, \"shape\", None) == ():\n",
    "            return x.item()\n",
    "    except Exception:\n",
    "        pass\n",
    "    return x\n",
    "\n",
    "def sqlist(lst):\n",
    "    return xp.array([to_scalar(item) for item in lst])\n",
    "\n",
    "def myfft(chirp_data, n, plan):\n",
    "    if USE_GPU:\n",
    "        return xfft.fftshift(xfft.fft(chirp_data.astype(xp.complex64), n=n, plan=plan))\n",
    "    else:\n",
    "        return xfft.fftshift(xfft.fft(chirp_data.astype(xp.complex64), n=n))\n",
    "\n",
    "\n",
    "def optimize_1dfreq_fast(sig2, tsymbr, freq1, margin):\n",
    "    def obj1(freq, xdata, ydata):\n",
    "        return to_scalar(-xp.abs(ydata.dot(xp.exp(xdata * -1j * 2 * xp.pi * freq.item()))))\n",
    "    result = minimize(obj1, to_scalar(freq1), args=(tsymbr, sig2), bounds=[(freq1 - margin, freq1 + margin)]) #!!!\n",
    "    return result.x[0], - result.fun / xp.sum(xp.abs(sig2))\n",
    "\n",
    "\n",
    "def around(x):\n",
    "    \"\"\"Round to nearest integer (works for Python num or 0-d array).\"\"\"\n",
    "    return round(float(to_scalar(x)))\n",
    "\n",
    "def optimize_1dfreq(sig2, tsymbr, freq, margin):\n",
    "    def obj1(xdata, ydata, freq):\n",
    "        return xp.abs(ydata.dot(xp.exp(-1j * 2 * xp.pi * freq * xdata)))\n",
    "\n",
    "    margin = 500\n",
    "    val = obj1(tsymbr, sig2, freq)\n",
    "    for i in range(10):\n",
    "        xvals = xp.linspace(freq - margin, freq + margin, 1001)\n",
    "        yvals = [obj1(tsymbr, sig2, f) for f in xvals]\n",
    "        yvals = sqlist(yvals)\n",
    "        freq = xvals[xp.argmax(yvals)]\n",
    "        valnew = xp.max(yvals)\n",
    "        if valnew < val * (1 - 1e-7):\n",
    "            pltfig1(xvals, yvals, addvline=(freq,), title=f\"Optimize_1dfreq {i=} {val=} {valnew=}\").show()\n",
    "        assert valnew >= val * (1 - 1e-7), f\"{val=} {valnew=} {i=} {val-valnew=}\"\n",
    "        if abs(valnew - val) < 1e-7: margin /= 4\n",
    "        val = valnew\n",
    "    return freq, val / xp.sum(xp.abs(sig2))\n",
    "\n",
    "def pltfig(datas, title = None, yaxisrange = None, modes = None, marker = None, addvline = None, addhline = None, line_dash = None, fig = None, line=None):\n",
    "    \"\"\"\n",
    "    Plot a figure with the given data and parameters.\n",
    "\n",
    "    Parameters:\n",
    "    datas : list of tuples\n",
    "        Each tuple contains two lists or array-like elements, the data for the x and y axes.\n",
    "        If only y data is provided, x data will be generated using xp.arange.\n",
    "    title : str, optional\n",
    "        The title of the plot (default is None).\n",
    "    yaxisrange : tuple, optional\n",
    "        The range for the y-axis as a tuple (min, max) (default is None).\n",
    "    mode : str, optional\n",
    "        The mode of the plot (e.g., 'line', 'scatter') (default is None).\n",
    "    marker : str, optional\n",
    "        The marker style for the plot (default is None).\n",
    "    addvline : float, optional\n",
    "        The x-coordinate for a vertical line (default is None).\n",
    "    addhline : float, optional\n",
    "        The y-coordinate for a horizontal line (default is None).\n",
    "    line_dash : str, optional\n",
    "        The dash style for the line (default is None).\n",
    "    fig : matplotlib.figure.Figure, optional\n",
    "        The figure object to plot on (default is None).\n",
    "    line : matplotlib.lines.Line2D, optional\n",
    "        The line object for the plot (default is None).\n",
    "\n",
    "    Returns:\n",
    "    None\n",
    "    \"\"\"\n",
    "    if fig is None: fig = go.Figure(layout_title_text=title)\n",
    "    elif title is not None: fig.update_layout(title_text=title)\n",
    "    if not all(len(data) == 2 for data in datas): datas = [(xp.arange(len(data)), data) for data in datas]\n",
    "    # if not(all(len(data) == 2 for data in datas) and all(type(to_device(data[0])) == xp.array and type(to_device(data[1])) == xp.array  for data in datas)):\n",
    "    #     print(len(datas[0]))\n",
    "    #     print(len(datas[1]))\n",
    "    #     print(type(datas[0][0]))\n",
    "    #     print(type(datas[0][1]))\n",
    "    #     print(type(datas[1][0]))\n",
    "    #     print(type(datas[1][1]))\n",
    "    #     print(datas[0][0].dtype)\n",
    "    #     print(datas[0][1].dtype)\n",
    "    #     print(datas[1][0].dtype)\n",
    "    #     print(datas[1][1].dtype)\n",
    "    assert all(len(data) == 2 for data in datas) \n",
    "    assert all(isinstance(to_device(data[0]), xp.ndarray) and isinstance(to_device(data[1]), xp.ndarray) for data in datas)\n",
    "    if modes is None:\n",
    "        modes = ['lines' for _ in datas]\n",
    "    elif isinstance(modes, str):\n",
    "        modes = [modes for _ in datas]\n",
    "    for idx, ((xdata, ydata), mode) in enumerate(zip(datas, modes)):\n",
    "        if line == None and idx == 1: line = dict(dash='dash')\n",
    "        fig.add_trace(go.Scatter(x=to_host(xdata), y=to_host(ydata), mode=mode, marker=marker, line=line))\n",
    "        assert len(to_host(xdata)) == len(to_host(ydata))\n",
    "    pltfig_hind(addhline, addvline, line_dash, fig, yaxisrange)\n",
    "    return fig\n",
    "\n",
    "\n",
    "\n",
    "def pltfig1(xdata, ydata, title = None, yaxisrange = None, mode = None, marker = None, addvline = None, addhline = None, line_dash = None, fig = None, line=None):\n",
    "    \"\"\"\n",
    "    Plot a figure with the given data and parameters.\n",
    "\n",
    "    Parameters:\n",
    "    xdata : list or array-like or None\n",
    "        The data for the x-axis.\n",
    "        If is None, and only y data is provided, x data will be generated using xp.arange.\n",
    "    ydata : list or array-like\n",
    "        The data for the y-axis.\n",
    "    title : str, optional\n",
    "        The title of the plot (default is None).\n",
    "    yaxisrange : tuple, optional\n",
    "        The range for the y-axis as a tuple (min, max) (default is None).\n",
    "    mode : str, optional\n",
    "        The mode of the plot (e.g., 'line', 'scatter') (default is None).\n",
    "    marker : str, optional\n",
    "        The marker style for the plot (default is None).\n",
    "    addvline : float, optional\n",
    "        The x-coordinate for a vertical line (default is None).\n",
    "    addhline : float, optional\n",
    "        The y-coordinate for a horizontal line (default is None).\n",
    "    line_dash : str, optional\n",
    "        The dash style for the line (default is None).\n",
    "    fig : matplotlib.figure.Figure, optional\n",
    "        The figure object to plot on (default is None).\n",
    "    line : matplotlib.lines.Line2D, optional\n",
    "        The line object for the plot (default is None).\n",
    "\n",
    "    Returns:\n",
    "    None\n",
    "    \"\"\"\n",
    "    if xdata is None: xdata = xp.arange(len(ydata))\n",
    "    if fig is None: fig = go.Figure(layout_title_text=title)\n",
    "    elif title is not None: fig.update_layout(title_text=title)\n",
    "    if mode is None: mode = 'lines'\n",
    "    fig.add_trace(go.Scatter(x=to_host(xdata), y=to_host(ydata), mode=mode, marker=marker, line=line))\n",
    "    assert len(to_host(xdata)) == len(to_host(ydata))\n",
    "    pltfig_hind(addhline, addvline, line_dash, fig, yaxisrange)\n",
    "    return fig\n",
    "\n",
    "def pltfig_hind(addhline, addvline, line_dash_in, fig, yaxisrange):\n",
    "    if yaxisrange: fig.update_layout(yaxis=dict(range=yaxisrange), )\n",
    "    if addvline is not None:\n",
    "        if line_dash_in is None:\n",
    "            line_dash = ['dash' for _ in range(len(addvline))]\n",
    "            line_dash[0] = 'dot'\n",
    "        elif isinstance(line_dash_in, str):\n",
    "            line_dash = [line_dash_in for _ in range(len(addvline))]\n",
    "        else: line_dash = line_dash_in\n",
    "        for x, ldash in zip(addvline, line_dash): fig.add_vline(x=to_scalar(x), line_dash=ldash)\n",
    "    if addhline is not None:\n",
    "        if line_dash_in is None:\n",
    "            line_dash = ['dash' for _ in range(len(addhline))]\n",
    "            line_dash[0] = 'dot'\n",
    "        elif isinstance(line_dash_in, str):\n",
    "            line_dash = [line_dash_in for _ in range(len(addhline))]\n",
    "        else: line_dash = line_dash_in\n",
    "        for y, ldash in zip(addhline, line_dash): fig.add_hline(y=to_scalar(y), line_dash=ldash)\n"
   ]
  },
  {
   "cell_type": "markdown",
   "id": "aad0b34f",
   "metadata": {},
   "source": [
    "### Config.py"
   ]
  },
  {
   "cell_type": "code",
   "execution_count": null,
   "id": "58661402",
   "metadata": {},
   "outputs": [],
   "source": [
    "# parser = argparse.ArgumentParser()\n",
    "# parser.add_argument('--sf', type=int, default=10, help=\"Set the value of sf\")\n",
    "# args = parser.parse_args(args=[])\n",
    "\n",
    "class Config:\n",
    "    sf = 12\n",
    "    bw = 406250\n",
    "    sig_freq = 2.4e9\n",
    "    preamble_len = 240\n",
    "    payload_len = 20 # 70\n",
    "    guess_f = -40000\n",
    "    fs = 1e6\n",
    "    skip_preambles = 8\n",
    "    code_len = 2\n",
    "\n",
    "    sfdpos = preamble_len + code_len\n",
    "    sfdend = sfdpos + 3\n",
    "    total_len = sfdend + payload_len\n",
    "\n",
    "    cfo_range = bw // 4\n",
    "    n_classes = 2 ** sf\n",
    "    tsig = 2 ** sf / bw * fs  # in samples\n",
    "    nsamp = around(n_classes * fs / bw)\n",
    "    nsampf = (n_classes * fs / bw)\n",
    "\n",
    "    tstandard = xp.linspace(0, nsamp / fs, nsamp + 1)[:-1]\n",
    "    decode_matrix_a = xp.zeros((n_classes, nsamp), dtype=xp.complex64)\n",
    "    decode_matrix_b = xp.zeros((n_classes, nsamp), dtype=xp.complex64)\n",
    "\n",
    "    betai = bw / ((2 ** sf) / bw)\n",
    "    # wflag = True\n",
    "    # for code in range(n_classes):\n",
    "    #     if (code-1)%4!=0 and sf>=11 and wflag:\n",
    "    #         wflag = False\n",
    "    #         continue\n",
    "    #     nsamples = around(nsamp / n_classes * (n_classes - code))\n",
    "    #     f01 = bw * (-0.5 + code / n_classes)\n",
    "    #     refchirpc1 = xp.exp(-1j * 2 * xp.pi * (f01 * tstandard + 0.5 * betai * tstandard * tstandard))\n",
    "    #     f02 = bw * (-1.5 + code / n_classes)\n",
    "    #     refchirpc2 = xp.exp(-1j * 2 * xp.pi * (f02 * tstandard + 0.5 * betai * tstandard * tstandard))\n",
    "    #     decode_matrix_a[code, :nsamples] = refchirpc1[:nsamples]\n",
    "    #     if code > 0: decode_matrix_b[code, nsamples:] = refchirpc2[nsamples:]\n",
    "\n",
    "    detect_range_pkts = 1000 # !!! TODO\n",
    "    fft_n = int(fs)\n",
    "    if USE_GPU:\n",
    "        plan = xfft.get_fft_plan(xp.zeros(fft_n, dtype=xp.complex64))\n",
    "        plan2 = xfft.get_fft_plan(xp.zeros(nsamp, dtype=xp.complex64))\n",
    "    else:\n",
    "        plan = None\n",
    "        plan2 = None"
   ]
  },
  {
   "cell_type": "markdown",
   "id": "6facb130",
   "metadata": {},
   "source": [
    "### Reader.py"
   ]
  },
  {
   "cell_type": "code",
   "execution_count": null,
   "id": "36e6de44",
   "metadata": {},
   "outputs": [],
   "source": [
    "\n",
    "class SlidingComplex64Reader: # TODO reader slow unbuffered\n",
    "    dtype = xp.complex64\n",
    "    itemsize = 8  # complex64\n",
    "\n",
    "    def __init__(self, file_path):\n",
    "        \"\"\"\n",
    "        Initializes the reader for a complex64 binary file.\n",
    "\n",
    "        Args:\n",
    "            file_path (str): The path to the binary file.\n",
    "        \"\"\"\n",
    "        self.file_path = file_path\n",
    "\n",
    "    def get(self, start, length):\n",
    "        \"\"\"\n",
    "        Reads a chunk of data from the file.\n",
    "\n",
    "        Args:\n",
    "            start (int): The starting index (in terms of complex64 elements).\n",
    "            length (int): The number of complex64 elements to read.\n",
    "\n",
    "        Returns:\n",
    "            xp.ndarray: An array containing the requested data.\n",
    "        \"\"\"\n",
    "        byte_start = start * self.itemsize\n",
    "        byte_length = length * self.itemsize\n",
    "\n",
    "        try:\n",
    "            with open(self.file_path, 'rb') as f:\n",
    "                f.seek(byte_start)\n",
    "                data_bytes = f.read(byte_length)\n",
    "\n",
    "            if len(data_bytes) != byte_length:\n",
    "                raise IOError(f\"Read fewer bytes than expected. Expected {byte_length}, got {len(data_bytes)}\")\n",
    "\n",
    "            # Convert the bytes to a NumPy/CuPy array\n",
    "            # Note: The .frombuffer method is efficient as it creates a view of the bytes.\n",
    "            # We then copy it to the appropriate device (CPU or GPU) if necessary.\n",
    "            data_array = xp.frombuffer(data_bytes, dtype=self.dtype)\n",
    "            return data_array\n",
    "\n",
    "        except FileNotFoundError:\n",
    "            print(f\"Error: The file '{self.file_path}' was not found.\")\n",
    "            return None\n",
    "        except Exception as e:\n",
    "            print(f\"An error occurred: {e}\")\n",
    "            return None"
   ]
  },
  {
   "cell_type": "markdown",
   "id": "bdcc3820",
   "metadata": {},
   "source": [
    "### Main: Start Running"
   ]
  },
  {
   "cell_type": "code",
   "execution_count": null,
   "id": "9832776e",
   "metadata": {},
   "outputs": [],
   "source": [
    "# fstart = -41023.388364708379\n",
    "# tstart =  4240090.873306715\n",
    "file_path = \"data/test_1226\"\n",
    "\n",
    "file_size = os.path.getsize(file_path)\n",
    "complex64_size = xp.dtype(xp.complex64).itemsize\n",
    "assert complex64_size == 8\n",
    "print(f\"{file_path=} Size in Number of symbols: {file_size // complex64_size // Config.nsamp}\")\n",
    "\n",
    "reader = SlidingComplex64Reader(file_path)"
   ]
  },
  {
   "cell_type": "markdown",
   "id": "a850193b",
   "metadata": {},
   "source": [
    "### Fitcoef: \n",
    "\n",
    "- Polynomial fit unwrapped phase of each symbol, generating 240 quadratic coefs \n",
    "    - Does not smooth the coef results\n",
    "    - Fix beta, only change coeflist[:, 1] and coeflist[:, 2] via residue frequency and phase\n",
    "- Compute phase difference between neighboring symbols \n",
    "    - Difference between two coefs at the tjump (time estimations from input)\n",
    "    - Wrap into 2pi\n",
    "    - Evaluate time difference that cause this (Use BW from input guessf, dt = dphase / estBW, estBW = Bw * (1 + estF / sigF))\n",
    "    - Linear fit the time differences\n",
    "    - Return new observations of tjump as a corrected coeft (len=2)\n"
   ]
  },
  {
   "cell_type": "code",
   "execution_count": null,
   "id": "e8255ff2",
   "metadata": {},
   "outputs": [],
   "source": [
    "def fitcoef2(coeff: xp.array, coeft: xp.array, reader: SlidingComplex64Reader):\n",
    "    betai = Config.bw / ((2 ** Config.sf) / Config.bw) * xp.pi # frequency slope to phase 2d slope, *pi\n",
    "    coeflist = []\n",
    "\n",
    "    for pidx in range(0, Config.preamble_len):\n",
    "        \n",
    "        # compute coef2d_est2: polynomial curve fitting unwrapped phase of symbol pidx\n",
    "        # time: tstart to tend\n",
    "        # frequency at tstart: - estbw * 0.5 + estf\n",
    "        estf = xp.polyval(coeff, pidx)\n",
    "        estbw = Config.bw * (1 + estf / Config.sig_freq)\n",
    "        beta1 = betai * (1 + 2 * estf / Config.sig_freq)\n",
    "        tstart = xp.polyval(coeft, pidx)\n",
    "        tend = xp.polyval(coeft, pidx + 1)\n",
    "        beta2 = 2 * xp.pi * (- estbw * 0.5 + estf) - tstart * 2 * beta1\n",
    "        coef2d_est2 = xp.array([to_scalar(beta1), to_scalar(beta2), 0])\n",
    "\n",
    "        # align 3rd parameter of coef2d_est2 to observed phase at tstart\n",
    "        nsymbr_start = math.ceil(tstart * Config.fs + Config.nsamp / 8)\n",
    "        nsymbr_end = math.ceil(tend * Config.fs - Config.nsamp / 8)\n",
    "        nsymbr = xp.arange(math.ceil(tstart * Config.fs + Config.nsamp / 8), math.ceil(tend * Config.fs - Config.nsamp / 8))\n",
    "        tsymbr = nsymbr / Config.fs\n",
    "\n",
    "        sig0 = reader.get(nsymbr_start, nsymbr_end - nsymbr_start)\n",
    "        sig1 = sig0 * xp.exp(-1j * xp.polyval(coef2d_est2, tsymbr))\n",
    "        data0 = myfft(sig1, n=Config.fft_n, plan=Config.plan)\n",
    "        freq1 = xp.fft.fftshift(xp.fft.fftfreq(Config.fft_n, d=1 / Config.fs))[xp.argmax(xp.abs(data0))]\n",
    "        freq, valnew = optimize_1dfreq_fast(sig1, tsymbr, freq1, Config.fs / Config.fft_n * 5)\n",
    "        # freqf, valnew = optimize_1dfreq(sig1, tsymbr, freq1, Config.fs / Config.fft_n * 5)\n",
    "        # print(f\"Initial freq offset: {freq1}, after FFT fit: {freq}, after precise fit: {freqf}, diff: {freqf - freq}\")\n",
    "\n",
    "        # adjust coef2d_est2[1] according to freq difference\n",
    "        coef2d_est2[1] = 2 * xp.pi * (- estbw * 0.5 + estf + freq) - tstart * 2 * beta1\n",
    "        sig2 = sig0 * xp.exp(-1j * xp.polyval(coef2d_est2, tsymbr))\n",
    "        # freq, valnew = optimize_1dfreq(sig2, tsymbr, freq1, Config.fs / Config.fft_n * 5)\n",
    "        # print(f\"{freq=} should be zero {valnew=}\")\n",
    "        coef2d_est2[2] += xp.angle(sig0.dot(xp.exp(-1j * xp.polyval(coef2d_est2, tsymbr))))\n",
    "        # print(f\"{xp.angle(sig0.dot(xp.exp(-1j * xp.polyval(coef2d_est2, tsymbr))))} should be zero\")\n",
    "        coeflist.append(coef2d_est2)\n",
    "    return xp.array(coeflist)\n",
    "\n"
   ]
  },
  {
   "cell_type": "code",
   "execution_count": null,
   "id": "f490f866",
   "metadata": {},
   "outputs": [],
   "source": [
    "def fitcoef4(coeff: xp.array, coeft: xp.array, reader: SlidingComplex64Reader):\n",
    "    coeflist = fitcoef2(coeff, coeft, reader)\n",
    "    \n",
    "    # plot phase difference between consecutive symbols\n",
    "    phasedifflist = xp.zeros((Config.preamble_len - 1,), dtype=xp.float32)\n",
    "    for pidx in range(Config.preamble_len - 1):\n",
    "        tjump = xp.polyval(coeft, pidx + 1)\n",
    "        phasediff = wrap(xp.polyval(coeflist[pidx + 1], tjump) - xp.polyval(coeflist[pidx], tjump))\n",
    "        phasedifflist[pidx] = phasediff\n",
    "    phasedifflist_unwrap = xp.unwrap(xp.array(phasedifflist))\n",
    "    # pltfig1(range(Config.preamble_len - 1), phasedifflist_unwrap, title=\"plot phase difference between consecutive symbols\").show()\n",
    "\n",
    "    # fit a line to phase difference to estimate cfo and time drift\n",
    "    tdifflist = xp.zeros_like(phasedifflist_unwrap)\n",
    "    for pidx in range(Config.preamble_len - 1):\n",
    "        estbw = Config.bw * (1 + xp.polyval(coeff, pidx + 0.5) / Config.sig_freq)\n",
    "        tdifflist[pidx] = phasedifflist_unwrap[pidx] / 2 / xp.pi / estbw # phasediff is caused by mismatched symbol change time, -> bw mismatch. phase = 2pi * bw * dt\n",
    "    xrange = xp.arange(50, len(tdifflist)) # !!! ignore first 50 points\n",
    "    tdiff_coef = xp.polyfit(xrange, tdifflist[xrange], 1)\n",
    "    coeft_new = coeft.copy()\n",
    "    coeft_new[-2:] += tdiff_coef\n",
    "    print(f\"{tdiff_coef=} {coeft=} {coeft_new=} cfo ppm from time: {1 - coeft_new[0] / Config.nsampf * Config.fs} cfo: {(1 - coeft_new[0] / Config.nsampf * Config.fs) * Config.sig_freq} unwrapped phasediff so t may shift by margin {1/Config.bw}\")\n",
    "\n",
    "    return coeft_new"
   ]
  },
  {
   "cell_type": "code",
   "execution_count": null,
   "id": "4a74aa5a",
   "metadata": {},
   "outputs": [],
   "source": [
    "# tsymblen = 2 ** Config.sf / Config.bw * (1 - fstart / Config.sig_freq)\n",
    "\n",
    "coeff = xp.array((-0.512392321665, -41023.388364708379))\n",
    "coeft = xp.array((1.01716420e-13, 1.00826333e-02, 4.24009137e+00))\n",
    "\n",
    "# coeff = xp.array((0, fstart))\n",
    "# coeft = xp.array((tsymblen, to_scalar(tstart) / Config.fs))\n",
    "coeft = fitcoef4(coeff, coeft, reader)\n",
    "# coeft = fitcoef4(coeff, coeft, reader) # do this to check correctness of fitcoef4"
   ]
  },
  {
   "cell_type": "markdown",
   "id": "04f9eaac",
   "metadata": {},
   "source": [
    "### get coeflist from renewed coeft, and Find intersections between each coef\n",
    "\n",
    "### findintersections.py"
   ]
  },
  {
   "cell_type": "code",
   "execution_count": null,
   "id": "7ec85107",
   "metadata": {},
   "outputs": [],
   "source": [
    "import numpy as np # for np.roots\n",
    "\n",
    "# Function to find crossing points where poly(x) = (2n +1)*pi\n",
    "def find_crossings(coef_in, x_min, x_max):\n",
    "    coef = coef_in.copy()\n",
    "    # coef[2] %= (2 * xp.pi)\n",
    "    # ymin ymax: suppose is increasing/decreasing in this section\n",
    "    assert not x_min <= - coef[1] / 2 / coef[0] <= x_max\n",
    "\n",
    "    ya = xp.polyval(coef, x_min)\n",
    "    yb = xp.polyval(coef, x_max)\n",
    "    y_lower = min(ya, yb)\n",
    "    y_upper = max(ya, yb)\n",
    "\n",
    "    # Compute the range of n values\n",
    "    n_min = ceil((y_lower - xp.pi) / (2 * xp.pi))\n",
    "    n_max = floor((y_upper - xp.pi) / (2 * xp.pi))\n",
    "\n",
    "    nrange = xp.arange(int(n_min), int(n_max) + 1)\n",
    "    nrangex = xp.arange(int(n_min), int(n_max) + 2)\n",
    "    crossings = xp.empty_like(nrange, dtype=xp.float64)\n",
    "\n",
    "    if coef[0] * 2 * x_min + coef[1] < 0: # decreasing\n",
    "        assert coef[0] * 2 * x_max + coef[1] < 0\n",
    "        nrange = nrange[::-1]\n",
    "        nrangex = nrangex[::-1]\n",
    "\n",
    "    for idx in range(len(nrange)):\n",
    "        n = nrange[idx]\n",
    "        # Solve poly(x) - (2n +1)*pi = 0\n",
    "        shifted_poly = coef.copy()\n",
    "        shifted_poly[2] -= (2 * n + 1) * xp.pi\n",
    "        roots = to_device(np.roots(to_host(shifted_poly)))\n",
    "        # Filter real roots within [x_min, x_max]\n",
    "        real_roots = roots[xp.isreal(roots)].real\n",
    "        valid_roots = real_roots[(real_roots >= x_min) & (real_roots <= x_max)]\n",
    "        assert len(valid_roots) == 1, f\"valid roots {shifted_poly=} {roots=} {x_min=} {x_max=} {y_lower=} {y_upper=} {n_min=} {n_max=}\"\n",
    "        assert - xp.pi <= xp.polyval(shifted_poly, valid_roots[0]) <= xp.pi, f\"valid roots {shifted_poly=} {roots=}\"\n",
    "        crossings[idx] = valid_roots[0]\n",
    "    # slope: is strictly increasing or decreasing\n",
    "    for i in range(len(crossings) - 1):\n",
    "        xv = (crossings[i] + crossings[i + 1]) / 2\n",
    "        # print( - xp.pi + 2 * xp.pi * nrangex[i + 1] , xp.polyval(coef, xv) , xp.pi + 2 * xp.pi * nrangex[i + 1])\n",
    "        assert - xp.pi + 2 * xp.pi * nrangex[i + 1] <= xp.polyval(coef, xv) <= xp.pi + 2 * xp.pi * nrangex[i + 1]\n",
    "\n",
    "    assert len(crossings) == len(nrangex) - 1\n",
    "    # print(xp.min(xp.diff(crossings)) < 0, coef[0] * 2 * x_min + coef[1] < 0, coef[0] * 2 * x_max + coef[1] < 0)\n",
    "    if len(crossings) > 0:\n",
    "        if len(crossings) > 1: assert xp.min(xp.diff(crossings)) > 0\n",
    "        assert xp.min(crossings) > x_min, f\"{xp.min(crossings)=} {x_min=}\"\n",
    "        assert xp.max(crossings) < x_max, f\"{xp.max(crossings)=} {x_max=}\"\n",
    "        return crossings, nrangex\n",
    "\n",
    "def merge_crossings(crossings_poly1, crossing_n1, crossings_poly2, crossing_n2, x_min, x_max, tol=1e-12):\n",
    "    merged_crossings = xp.union1d(crossings_poly1, crossings_poly2)\n",
    "\n",
    "    # Remove crossings that are too close to each other\n",
    "    if len(merged_crossings) == 0: filtered_crossings = []\n",
    "    else:\n",
    "        filtered_crossings = [merged_crossings[0]]\n",
    "        for x in merged_crossings[1:]:\n",
    "            if abs(x - filtered_crossings[-1]) >= tol:\n",
    "                filtered_crossings.append(x)\n",
    "\n",
    "    # Initialize the weight list for the filtered sections\n",
    "    merged_weights = []\n",
    "    sections0 = [(x_min, xp.nan, -1), *filtered_crossings, (x_max, xp.nan, -1)]\n",
    "    sections = [(sections0[x], sections0[x + 1]) for x in range(len(sections0) - 1)]\n",
    "\n",
    "    sections1 = [x_min, *crossings_poly1, x_max]\n",
    "    sections2 = [x_min, *crossings_poly2, x_max]\n",
    "    sections = [x_min, *filtered_crossings, x_max]\n",
    "    sections1 = [(sections1[x], sections1[x + 1]) for x in range(len(sections1) - 1)]\n",
    "    sections2 = [(sections2[x], sections2[x + 1]) for x in range(len(sections2) - 1)]\n",
    "    sections = [(sections[x], sections[x + 1]) for x in range(len(sections) - 1)]\n",
    "\n",
    "    for (x_left, x_right) in sections:\n",
    "        # Determine the weights for the current section from crossing_n1 and crossing_n2\n",
    "        weight1 = next((w for (x1, x2), w in zip(sections1, crossing_n1) if x1 <= x_left <= x_right <= x2), None)\n",
    "        weight2 = next((w for (x1, x2), w in zip(sections2, crossing_n2) if x1 <= x_left <= x_right <= x2), None)\n",
    "        # print(weight1, weight2)\n",
    "\n",
    "        merged_weights.append(to_scalar(((weight1, weight2))))\n",
    "\n",
    "    assert len(sections) == len(merged_weights)\n",
    "    return sections, merged_weights\n",
    "\n",
    "\n",
    "\n",
    "# Function to determine n for wrapping within a section\n",
    "def determine_n(coef, x_start, x_end):\n",
    "    # Choose the midpoint to determine n\n",
    "    x_mid = (x_start + x_end) / 2\n",
    "    y_mid = xp.polyval(coef, x_mid)\n",
    "    n = floor((y_mid + xp.pi) / (2 * xp.pi))\n",
    "    return n\n",
    "\n",
    "\n",
    "def find_intersections(coefa, coefb, tstart2,reader, epsilon, draw, remove_range):\n",
    "    selected = None\n",
    "    x_min = tstart2 - epsilon\n",
    "    x_max = tstart2 + epsilon\n",
    "\n",
    "    # Find all crossing points for both polynomials, cutting the range into sections\n",
    "    crossings_poly1, crossing_n1 = find_crossings(coefa, x_min, x_max)\n",
    "    crossings_poly2, crossing_n2 = find_crossings(coefb, x_min, x_max)\n",
    "\n",
    "    # Combine and sort all crossing points to make smaller sections\n",
    "    sections, all_weights = merge_crossings(crossings_poly1, crossing_n1, crossings_poly2, crossing_n2, x_min, x_max)\n",
    "    # print(sections)\n",
    "    # print(all_weights)\n",
    "    assert len(sections) == len(all_weights)\n",
    "\n",
    "    for i, (x1, x2) in enumerate(sections):\n",
    "        xv = (x1 + x2) / 2\n",
    "        # print(i, - xp.pi + 2 * xp.pi * all_weights[i][0] , xp.polyval(coefa, xv) , xp.pi + 2 * xp.pi * all_weights[i][0])\n",
    "        # print(i, - xp.pi + 2 * xp.pi * all_weights[i][1] , xp.polyval(coefb, xv) , xp.pi + 2 * xp.pi * all_weights[i][1])\n",
    "        assert - xp.pi + 2 * xp.pi * all_weights[i][0] <= xp.polyval(coefa, xv) <= xp.pi + 2 * xp.pi * all_weights[i][0]\n",
    "        assert - xp.pi + 2 * xp.pi * all_weights[i][1] <= xp.polyval(coefb, xv) <= xp.pi + 2 * xp.pi * all_weights[i][1]\n",
    "\n",
    "    intersection_points = []\n",
    "    fig = go.Figure(layout_title_text=f\"finditx {tstart2=}\")\n",
    "    for idx, ((x_start, x_end), (n1, n2)) in enumerate(zip(sections, all_weights)):\n",
    "\n",
    "        # Adjust the constant term for wrapping\n",
    "        # Create shifted polynomials by adding (2n -1)*pi to the constant term\n",
    "        poly1_shifted_coef = coefa.copy()\n",
    "        poly1_shifted_coef[2] -= (2 * n1) * xp.pi\n",
    "\n",
    "        poly2_shifted_coef = coefb.copy()\n",
    "        poly2_shifted_coef[2] -= (2 * n2) * xp.pi\n",
    "\n",
    "        # Compute the difference polynomial\n",
    "        poly_diff = xp.polysub(poly1_shifted_coef, poly2_shifted_coef)\n",
    "\n",
    "        xv = (x_start + x_end) / 2\n",
    "        assert - xp.pi <= xp.polyval(poly1_shifted_coef, xv) <= xp.pi\n",
    "        assert - xp.pi <= xp.polyval(poly2_shifted_coef, xv) <= xp.pi\n",
    "        # assert - xp.pi + 2 * xp.pi * all_weights[i][0] <= xp.polyval(coefa, xv) <= xp.pi + 2 * xp.pi * all_weights[i][0]\n",
    "        # assert - xp.pi + 2 * xp.pi * all_weights[i][1] <= xp.polyval(coefb, xv) <= xp.pi + 2 * xp.pi * all_weights[i][1]\n",
    "\n",
    "        # Find roots of the difference polynomial\n",
    "        roots = to_device(np.roots(to_host(poly_diff)))\n",
    "        # Filter real roots\n",
    "        real_roots = roots[xp.isreal(roots)].real\n",
    "        # Filter roots within the current section\n",
    "        valid_roots = real_roots[(real_roots >= x_start) & (real_roots <= x_end)]\n",
    "        # Convert to float and remove duplicates\n",
    "        valid_roots = valid_roots.astype(float)\n",
    "\n",
    "        assert x_start < x_end, f\"section range error {x_start=} {x_end=}\"\n",
    "        if len(valid_roots) != 1 and idx != 0 and idx != len(sections) - 1:\n",
    "                x = to_host(xp.linspace(x_start - 0.00000001, x_end + 0.00000001, 500))\n",
    "\n",
    "# Calculate the corresponding y-values for each polynomial\n",
    "                p1 = xp.poly1d(poly1_shifted_coef)\n",
    "                p2 = xp.poly1d(poly2_shifted_coef)\n",
    "                print(p1)\n",
    "                y1 = p1(x)\n",
    "                y2 = p2(x)\n",
    "\n",
    "# To find the intersection, create a new polynomial representing the difference\n",
    "# between the first two. The root of this new polynomial is the x-coordinate\n",
    "# of the intersection point.\n",
    "                p_diff = to_host(xp.polysub(poly1_shifted_coef, poly2_shifted_coef))\n",
    "                intersection_x_roots = np.roots(p_diff)\n",
    "\n",
    "# Since the difference is a linear equation, there will be one root.\n",
    "                intersection_x = intersection_x_roots[0]\n",
    "\n",
    "# Calculate the y-coordinate of the intersection by evaluating either\n",
    "# polynomial at the intersection's x-coordinate.\n",
    "                intersection_y = p1(intersection_x)\n",
    "\n",
    "# --- Plotting Section ---\n",
    "\n",
    "                pltfig(((x, y1), (x, y2)), title=f\"Section {idx} Polynomials\", addvline=(intersection_x, x_start, x_end), addhline=(intersection_y, -xp.pi, xp.pi)).show()\n",
    "                print(f\"Intersection point found at x = {intersection_x}, y = {intersection_y}\")\n",
    "\n",
    "        assert len(valid_roots) == 1 or idx == 0 or idx == len(sections) - 1, f\"intersection valid roots {poly1_shifted_coef=} {poly2_shifted_coef=} {poly_diff=} {roots=} {x_start=} {x_end=}\"\n",
    "\n",
    "        # Add valid roots to intersection points\n",
    "        intersection_points.extend(valid_roots)\n",
    "        # Generate x values for plotting\n",
    "\n",
    "        if draw:\n",
    "            num_points = 20\n",
    "            x_vals = xp.linspace(x_start, x_end, num_points)\n",
    "            y1_wrapped = xp.polyval(poly1_shifted_coef, x_vals)\n",
    "            y2_wrapped = xp.polyval(poly2_shifted_coef, x_vals)\n",
    "\n",
    "            # Add shifted polynomials to the subplot\n",
    "            fig = pltfig(((x_vals, y1_wrapped), (x_vals, y2_wrapped)), addvline=(x_start, x_end), addhline=(-xp.pi, xp.pi), fig = fig)\n",
    "\n",
    "\n",
    "            # Highlight intersection points within this section\n",
    "            if len(valid_roots) > 0:\n",
    "                for x_int in valid_roots:\n",
    "                    fig.add_trace(\n",
    "                        go.Scatter(x=(to_host(x_int),), y=(to_host(xp.polyval(poly1_shifted_coef, x_int)),), mode='markers', name='Intersections',\n",
    "                                   marker=dict(color='red', size=8, symbol='circle')),\n",
    "                    )\n",
    "                #     fig.add_trace(\n",
    "                #         go.Scatter(x=(to_host(x_int),), y=(xp.polyval(to_host(poly1_shifted_coef), to_host(x_int)),), mode='markers', name='Intersections',\n",
    "                #                    marker=dict(color='red', size=8, symbol='circle')),\n",
    "                #     )\n",
    "                # # fig.update_yaxes(range=[-xp.pi * 5 - 0.1, xp.pi * 5 + 0.1])\n",
    "\n",
    "\n",
    "    xv = to_device(xp.arange(ceil(x_min * Config.fs), ceil(x_max * Config.fs), dtype=int))\n",
    "    sig = reader.get(to_scalar(xv[0]), len(xv))\n",
    "    sig_ref1 = sig * xp.exp(-1j * xp.polyval(coefa, xv / Config.fs))\n",
    "    sig_ref2 = sig * xp.exp(-1j * xp.polyval(coefb, xv / Config.fs))\n",
    "    # val1 = xp.cos(xp.polyval(coefa, xv / Config.fs) - xp.angle(sig))\n",
    "    # val2 = xp.cos(xp.polyval(coefb, xv / Config.fs) - xp.angle(sig))\n",
    "\n",
    "    intersection_points = xp.hstack(intersection_points)\n",
    "    if len(intersection_points) != 0:\n",
    "        selected = max(intersection_points, key=lambda x: xp.abs(xp.sum(sig_ref1[:ceil(x * Config.fs - xv[0])])) + xp.abs(xp.sum(sig_ref2[ceil(x * Config.fs - xv[0]):])))\n",
    "        selected2 = min(intersection_points, key=lambda x: abs(x - tstart2))\n",
    "        if selected2 != selected:\n",
    "            print(f\"find_intersections(): break point not closeset to tstart2 selected {selected - tstart2 =}\")\n",
    "            if remove_range: return None\n",
    "\n",
    "    if draw:\n",
    "        # val1 = xp.array([to_scalar(xp.abs(xp.sum(sig_ref1[:ceil(x * Config.fs - xv[0])]))) for x in intersection_points])\n",
    "        # val2 = xp.array([to_scalar(xp.abs(xp.sum(sig_ref2[ceil(x * Config.fs - xv[0]):]))) for x in intersection_points])\n",
    "        # vals = val1 + val2\n",
    "        # fig = pltfig1(intersection_points, val1, mode=\"lines+markers\", title=\"power at break points\")\n",
    "        # fig = pltfig1(intersection_points, val2, mode=\"lines+markers\", fig=fig)\n",
    "        # pltfig1(intersection_points, vals, mode=\"lines+markers\", fig=fig).show()\n",
    "        # xv = to_device(xp.arange(ceil(to_host(x_min) * Config.fs), ceil(to_host(x_max) * Config.fs), dtype=int))\n",
    "        xv = xp.arange(ceil(x_min * Config.fs), ceil(x_max * Config.fs), dtype=int)\n",
    "        fig.add_trace(\n",
    "            go.Scatter(x=to_host(xv / Config.fs), y=to_host(xp.angle(sig)), mode='markers',\n",
    "                       name='rawdata',\n",
    "                       marker=dict(color='blue', size=4, symbol='circle')),\n",
    "        )\n",
    "        if len(intersection_points) != 0:\n",
    "            fig.add_vline(x = to_scalar(selected), line=dict(color='red'), name=\"selected\")\n",
    "        else:\n",
    "            print(\"No intersections!\")\n",
    "\n",
    "\n",
    "        fig.add_vline(x = to_scalar(tstart2), line=dict(color='blue',  dash='dot'))\n",
    "        fig.show()\n",
    "\n",
    "        # a1 = []\n",
    "        # x1 = []\n",
    "        # for i in range(-3000, 0):\n",
    "        #     xv1 = xp.arange(around(tstart2 * Config.fs + i - margin), around(tstart2 * Config.fs + i + margin), dtype=int)\n",
    "        #     a1v = xp.angle(pktdata_in[xv1].dot(xp.exp(-1j * xp.polyval(coefa, xv1 / Config.fs))))\n",
    "        #     x1.append(to_scalar((to_scalar((to_scalar((around(tstart2 * Config.fs + i) )))))))\n",
    "        #     a1.append(a1v)\n",
    "        # for i in range(1, 3000):\n",
    "        #     xv1 = xp.arange(around(tstart2 * Config.fs + i - margin), around(tstart2 * Config.fs + i + margin), dtype=int)\n",
    "        #     a1v = xp.angle(pktdata_in[xv1].dot(xp.exp(-1j * xp.polyval(coefb, xv1 / Config.fs))))\n",
    "        #     x1.append(around(tstart2 * Config.fs + i) )\n",
    "        #     a1.append(a1v)\n",
    "        # pltfig1(x1, a1, title=\"angle difference\").show()\n",
    "\n",
    "\n",
    "    # Print the intersection points\n",
    "    # print(\"Intersection Points within the specified range:\")\n",
    "    # for idx, x in enumerate(intersection_points, 1):\n",
    "    #     y1 = xp.polyval(coefa, x)\n",
    "    #     y2 = xp.polyval(coefb, x)\n",
    "    #     assert abs(wrap(y1) - wrap(y2)) < 1e-6, f\"intersection point check failed {x=} {y1=} {y2=} {wrap(y1)=} {wrap(y2)=} {y1-y2=} {wrap(y1) - wrap(y2)=}\"\n",
    "    # this is useless because large error margin caused by large y1 y2\n",
    "\n",
    "        # print(f\"{idx}: x = {x:.12f}, y1 = {y1:.12f} y2 = {y2:.12f} y1-y2={y1-y2:.12f}\")\n",
    "    return selected\n"
   ]
  },
  {
   "cell_type": "markdown",
   "id": "2200e0e9",
   "metadata": {},
   "source": [
    "### find intersections"
   ]
  },
  {
   "cell_type": "code",
   "execution_count": null,
   "id": "af735fc5",
   "metadata": {},
   "outputs": [],
   "source": [
    "coeflist = fitcoef2(coeff, coeft, reader)\n",
    "sec_xlist = []\n",
    "sec_tlist = []\n",
    "if True:\n",
    "    for pidx in xp.arange(10, Config.preamble_len):\n",
    "        tstart2 = xp.polyval(coeft, pidx)\n",
    "        selected = find_intersections(coeflist[pidx - 1], coeflist[pidx], tstart2, reader, 1e-5, draw=(pidx == 10 or pidx == 60 or pidx == 180 or pidx == Config.preamble_len - 1), remove_range=False) #!!! TODO remove range\n",
    "        if selected != None:\n",
    "            sec_xlist.append(pidx)\n",
    "            sec_tlist.append(to_scalar(selected))\n",
    "    sec_xlist = xp.array(sec_xlist)\n",
    "    sec_tlist = xp.array(sec_tlist)\n",
    "    with open(f\"intersections0.pkl\",\"wb\") as f:\n",
    "        pickle.dump((sec_xlist, sec_tlist), f)\n",
    "\n",
    "with open(f\"intersections0.pkl\",\"rb\") as f:\n",
    "    sec_xlist, sec_tlist = pickle.load(f)\n",
    "coeff_time = xp.polyfit(sec_xlist, sec_tlist, 1)"
   ]
  },
  {
   "cell_type": "markdown",
   "id": "b954a3cd",
   "metadata": {},
   "source": [
    "### Plot the intersection point results, fit tjump"
   ]
  },
  {
   "cell_type": "code",
   "execution_count": null,
   "id": "6b72119a",
   "metadata": {},
   "outputs": [],
   "source": [
    "print(f\"guessed: {coeft=} coeff_time={coeff_time[0]:.12f},{coeff_time[1]:.12f} cfo ppm from time: {1 - coeff_time[0] / Config.nsampf * Config.fs} cfo: {(1 - coeff_time[0] / Config.nsampf * Config.fs) * Config.sig_freq}\")\n",
    "pltfig(((sec_xlist, sec_tlist), (sec_xlist, xp.polyval(coeff_time, sec_xlist))), title=\"intersect points fitline\").show()\n",
    "pltfig1(sec_xlist, sec_tlist - xp.polyval(coeff_time, sec_xlist), title=\"intersect points diff\").show()\n",
    "\n",
    "sec_tdiff_list = sec_tlist - xp.polyval(coeff_time, sec_xlist)\n",
    "sec_smoothed_tlist = sec_tlist.copy()\n",
    "for pidx in range(1, len(sec_tdiff_list) - 1):\n",
    "    if abs(sec_tdiff_list[pidx] - sec_tdiff_list[pidx-1]) > 0.2e-6 and abs(sec_tdiff_list[pidx] + sec_tdiff_list[pidx-1]) > 0.2e-6:\n",
    "        sec_tdiff_list[pidx] = (sec_tdiff_list[pidx-1] + sec_tdiff_list[pidx+1])/2\n",
    "        sec_smoothed_tlist[pidx] = (sec_smoothed_tlist[pidx-1] + sec_smoothed_tlist[pidx+1])/2\n",
    "\n",
    "coeff_time_error = xp.polyfit(sec_xlist, sec_tdiff_list, 1)\n",
    "pltfig(((sec_xlist, sec_tdiff_list), (sec_xlist, xp.polyval(coeff_time_error, sec_xlist))),\n",
    "       title=\"intersect points fit on difference\").show()\n",
    "pltfig1(sec_xlist, sec_tdiff_list - xp.polyval(coeff_time_error, sec_xlist), title=\"intersect points diff 2\").show()\n",
    "print(f\"coeff_time_error={coeff_time_error[0]:.12f},{coeff_time_error[1]:.12f}\")\n"
   ]
  },
  {
   "cell_type": "markdown",
   "id": "90192164",
   "metadata": {},
   "source": [
    "- The cell below may be errorsome.\n",
    "- There is no visible curve on the previous image, so coeff_time3 if using polyfit(_,_,2) the large error of time itself may not be able to generate a good x^2 parameter."
   ]
  },
  {
   "cell_type": "markdown",
   "id": "9b581a83",
   "metadata": {},
   "source": [
    "```python\n",
    "coeff_time31 = xp.polyfit(sec_xlist, sec_smoothed_tlist, 1)\n",
    "pltfig(((sec_xlist, sec_smoothed_tlist), (sec_xlist, xp.polyval(coeff_time31, sec_xlist))),\n",
    "       title=\"intersect points fitline by linear coeff_time31\").show()\n",
    "pltfig1(sec_xlist, sec_smoothed_tlist - xp.polyval(coeff_time31, sec_xlist), title=\"intersect points linear diff coeff_time31\").show()\n",
    "\n",
    "coeff_time3 = xp.polyfit(sec_xlist, sec_smoothed_tlist, 2)\n",
    "pltfig(((sec_xlist, sec_smoothed_tlist), (sec_xlist, xp.polyval(coeff_time3, sec_xlist))),\n",
    "       title=\"intersect points fitline by quad coeff_time3\").show()\n",
    "pltfig1(sec_xlist, sec_smoothed_tlist - xp.polyval(coeff_time3, sec_xlist), title=\"intersect points quad diff coeff_time3\").show()\n",
    "print(f\"{coeff_time3=}\")\n",
    "# t1 - coef(1) - coef(0) = a + b\n",
    "freq_start = (1 - (coeff_time3[0] + coeff_time3[1]) / (2 ** Config.sf / Config.bw)) * Config.sig_freq\n",
    "# t2 - t1 = coef(2) - coef(1) - coef(1) + coef(0) = 2a\n",
    "freq_rate = - 2 * coeff_time3[0] / (2 ** Config.sf / Config.bw) * Config.sig_freq\n",
    "print(f\"{freq_start=} {freq_rate=}\")\n",
    "```"
   ]
  },
  {
   "cell_type": "markdown",
   "id": "ad80211f",
   "metadata": {},
   "source": [
    "```python\n",
    "pidx_range = xp.arange(Config.preamble_len)\n",
    "pltfig1(pidx_range, xp.polyval(coeft, pidx_range) - xp.polyval(coeff_time3, pidx_range), title=\"time difference of new and old estimation\").show()\n",
    "```"
   ]
  },
  {
   "cell_type": "markdown",
   "id": "bff8c017",
   "metadata": {},
   "source": [
    "### Estimate Freq"
   ]
  },
  {
   "cell_type": "code",
   "execution_count": null,
   "id": "1a492bf2",
   "metadata": {},
   "outputs": [],
   "source": [
    "\n",
    "coeff_time31 = xp.polyfit(sec_xlist, sec_smoothed_tlist, 1)\n",
    "print(f\"{coeff_time31=}\")\n",
    "\n",
    "coeff_time3 = xp.polyfit(sec_xlist, sec_smoothed_tlist, 2)\n",
    "freq_start = (1 - (coeff_time3[0] + coeff_time3[1]) / (2 ** Config.sf / Config.bw)) * Config.sig_freq\n",
    "freq_rate = - 2 * coeff_time3[0] / (2 ** Config.sf / Config.bw) * Config.sig_freq # frequency change rate, estimated from time change rate\n",
    "\n",
    "beta = Config.bw / ((2 ** Config.sf) / Config.bw) * (1 + 2 * freq_start / Config.sig_freq)\n",
    "print(\"beta=\", beta)\n",
    "sigt = 2 ** Config.sf / Config.bw * (1 + freq_start / Config.sig_freq)\n",
    "print(f\"symbol duration: {sigt} s\")\n",
    "print(f\"time diff caused by {coeff_time3[0]=} over symbol duration: { xp.polyval(coeff_time3, Config.preamble_len) - xp.polyval(coeff_time3[1:], Config.preamble_len)} s\")\n",
    "print(f\"freq diff caused by time drift over symbol duration: { - beta * (xp.polyval(coeff_time3, Config.preamble_len) - xp.polyval(coeff_time3[1:], Config.preamble_len))} Hz, neglegible\")\n",
    "pltfig(((sec_xlist, xp.polyval(coeff_time3, sec_xlist) - sec_smoothed_tlist), (sec_xlist, xp.polyval(coeff_time31, sec_xlist) - sec_smoothed_tlist)), title=f\"intersection fit error 2d/1d\").show()\n",
    "coeff_time3 = xp.hstack([0, coeff_time31[0], coeff_time31[1]]) # ~!!! TODO"
   ]
  },
  {
   "cell_type": "markdown",
   "id": "209de0aa",
   "metadata": {},
   "source": [
    "# TODO TODO1 Freq and Jumptime not corresponding\n",
    "\n",
    "- output estcoef: the instantaneous frequencies at junction of symbols, evaluated from coeflist"
   ]
  },
  {
   "cell_type": "code",
   "execution_count": null,
   "id": "60b7ece8",
   "metadata": {},
   "outputs": [],
   "source": [
    "pidx_range = xp.arange(Config.preamble_len)\n",
    "# TODO simplify\n",
    "estcoefs = []\n",
    "for ixx in range(2):\n",
    "    print(f\"start computing {'start' if ixx == 0 else 'end'} frequencies from coeflist and tjump\")\n",
    "    dd = []\n",
    "    for pidx in range(240):\n",
    "        estf = xp.polyval(coeff, pidx)\n",
    "        if ixx == 0:\n",
    "            bwdiff = -Config.bw * (1 + estf / Config.sig_freq) / 2\n",
    "        else:\n",
    "            bwdiff = Config.bw * (1 + estf / Config.sig_freq) / 2\n",
    "        dd.append(to_scalar((coeflist[pidx, 0] * 2 * xp.polyval(coeff_time3, pidx + ixx) + coeflist[pidx, 1]) / 2 / xp.pi - bwdiff))\n",
    "    dd = xp.array(dd)\n",
    "    pidx_range2 = xp.arange(50, Config.preamble_len - 10)\n",
    "    estcoef = xp.polyfit(pidx_range2, dd[pidx_range2], 1)\n",
    "    intercept = xp.mean(dd[pidx_range2] - freq_rate * pidx_range2)\n",
    "    estcoefs.append(estcoef)\n",
    "\n",
    "    pltfig(((pidx_range2, dd[pidx_range2]), (pidx_range2, xp.polyval(estcoef, pidx_range2))),\n",
    "           title=f\"intersect points fitline freq{ixx} {estcoef=}\").show()\n",
    "    pltfig1(pidx_range2, dd[pidx_range2] - xp.polyval(estcoef, pidx_range2), title=f\"intersect points diff freq{ixx}\").show()\n",
    "    \n",
    "    fdiff = intercept - estcoef[1] # freq = (2at + b) / 2pi deltaf = a/pi deltat\n",
    "    tdiff =  fdiff / xp.mean(coeflist[:, 0]) * xp.pi\n",
    "    print(f\"new computation: estcoef at t=0: {estcoef[1]:.12f} estf change rate per symb: {estcoef[0]:.12f} old estimation from tdiff: {freq_rate:.12f} {intercept:.12f} {tdiff:.12f}\")\n",
    "\n",
    "    # f(x) = a x + b\n",
    "    # f(x + 0.5) = a x + 0.5a + b\n",
    "    # t(x) = T ( x - f(0)/F - f(1)/F - ... - f(n)/F)\n",
    "    # t(x) = T ( x - x(f(0)+f(x)/2)/F)\n",
    "    # t(x) = T ( x - x(ax+b+b)/2/F)\n",
    "    # t(x) = T (ax^2/2F + x (b/F + 1))\n",
    "    tsig = 2 ** Config.sf / Config.bw\n",
    "    assert len(estcoef) == 2\n",
    "    estcoeft = xp.hstack([estcoef[0] / 2 / Config.sig_freq * tsig, ((estcoef[0] + estcoef[1]) / Config.sig_freq + 1) * tsig, coeft[-1]])\n",
    "    print(f\"t from f {estcoeft=}, {coeff_time3=}\")\n",
    "    # pltfig1(pidx_range2, xp.polyval(estcoeft, pidx_range2) - xp.polyval(coeff_time3, pidx_range2), title=\"time difference of new and old estimation\").show()\n",
    "\n",
    "    # compute tdiff\n",
    "    # t(x) = ax^2 + bx + c\n",
    "    # t(x+1)-t(x) = a(2x+1) + b = 2ax + (a + b)\n",
    "    assert len(coeff_time3) == 3\n",
    "    coeff_tlen = xp.hstack((coeff_time3[0] * 2, coeff_time3[0] + coeff_time3[1]))\n",
    "    # f from t: t = T * (1 - f / F)\n",
    "    # f = F * (1 - t / T) \n",
    "    # f = F * (1 - (a x + b) / T) = - a x F / T + F * (1 - b / T)\n",
    "#    coeff_from_tlen = xp.hstack((-  Config.sig_freq / tsig * coeff_tlen[0], Config.sig_freq * (1 - coeff_tlen[1] / tsig)))\n",
    "    # -2aF/T, F(1- (a+b)/T)\n",
    "    coeff_from_tlen = xp.hstack([- coeff_time3[0] * 2 * Config.sig_freq / tsig, Config.sig_freq * (1 - xp.sum(coeff_time3[:2]) / tsig)])\n",
    "\n",
    "    print(f\"{coeff_tlen=} {coeff_from_tlen=} {estcoef=}\") \n",
    "    \n",
    "    "
   ]
  },
  {
   "cell_type": "markdown",
   "id": "b3f9fbbe",
   "metadata": {},
   "source": [
    "```python\n",
    "coeff_from_tlen = xp.hstack((-  Config.sig_freq / tsig * coeff_tlen[0], Config.sig_freq * (1 - coeff_tlen[1] / tsig)))\n",
    "```\n",
    "if replace to \n",
    "```python\n",
    "coeff_from_tlen = xp.hstack((-  2*Config.sig_freq / tsig * coeff_tlen[0], Config.sig_freq * (1 - coeff_tlen[1] / tsig)))\n",
    "```\n",
    "its similar to estcoef\n",
    "\n",
    "TODOhere"
   ]
  },
  {
   "cell_type": "code",
   "execution_count": null,
   "id": "bbc6ed5f",
   "metadata": {},
   "outputs": [],
   "source": [
    "pidx_range = xp.arange(Config.preamble_len)\n",
    "pltfig(((pidx_range, xp.polyval(coeff_from_tlen, pidx_range)), (pidx_range, xp.polyval(estcoef, pidx_range))), title=\"comparison of coeff hypothesized from time offset and measured cfos from jump point frequencies\").show()\n",
    "pltfig1(pidx_range, xp.polyval(coeff_from_tlen, pidx_range) - xp.polyval(estcoef, pidx_range), title=\"comparison of coeff hypothesized from time offset and measured cfos from jump point frequencies\").show()\n"
   ]
  },
  {
   "cell_type": "code",
   "execution_count": null,
   "id": "571b1eb3",
   "metadata": {},
   "outputs": [],
   "source": [
    "# Testing \n",
    "\n",
    "for repeat in range(2):\n",
    "    estf_error_vals = xp.zeros((Config.preamble_len,), dtype=xp.float32)\n",
    "    estf_power = xp.zeros((Config.preamble_len,), dtype=xp.float32)\n",
    "    estf_corrected_power = xp.zeros((Config.preamble_len,), dtype=xp.float32)\n",
    "    for pidx in range(0, Config.preamble_len):\n",
    "        # if pidx % 20 != 0: continue\n",
    "        if repeat == 0:\n",
    "            freq_start = xp.polyval(coeff_from_tlen, pidx)\n",
    "            freq_end = xp.polyval(coeff_from_tlen, pidx + 1)\n",
    "        else:\n",
    "            freq_start = xp.polyval(estcoef, pidx)\n",
    "            freq_end = xp.polyval(estcoef, pidx + 1)\n",
    "        # print(f\"{freq_start=} {freq_old=} {Config.bw/2=}\")\n",
    "        est_f1 = freq_start - Config.bw / 2 * (1 + freq_start / Config.sig_freq)\n",
    "        est_f2 = freq_end + Config.bw / 2 * (1 + freq_end / Config.sig_freq)\n",
    "        est_t1 = xp.polyval(coeff_time3, pidx) \n",
    "        est_t2 = xp.polyval(coeff_time3, pidx + 1) \n",
    "        est_beta = (est_f2 - est_f1) / (est_t2 - est_t1)\n",
    "        est_coef2d = xp.hstack([est_beta * xp.pi, 2 * xp.pi * est_f1 - est_t1 * 2 * est_beta * xp.pi, 0])\n",
    "        nsymbr_start = math.ceil(est_t1 * Config.fs + Config.nsamp / 8)\n",
    "        nsymbr_end = math.ceil(est_t2 * Config.fs - Config.nsamp / 8)\n",
    "        nsymbr = xp.arange(math.ceil(est_t1 * Config.fs + Config.nsamp / 8), math.ceil(est_t2 * Config.fs - Config.nsamp / 8))\n",
    "        tsymbr = nsymbr / Config.fs\n",
    "\n",
    "        sig0 = reader.get(nsymbr_start, nsymbr_end - nsymbr_start)\n",
    "        # pltfig(((tsymbr, xp.unwrap(xp.angle(sig0))), (tsymbr, xp.polyval(est_coef2d, tsymbr) - xp.polyval(est_coef2d, tsymbr[0]) + xp.angle(sig0[0]))), title=f\"Fit with predetermined values {pidx=} \").show()\n",
    "        # pltfig1(tsymbr, xp.unwrap(xp.angle(sig0)) -  xp.polyval(est_coef2d, tsymbr) + xp.polyval(est_coef2d, tsymbr[0]) - xp.angle(sig0[0]), title=f\"Fit with predetermined values diff {pidx=} \").show()\n",
    "        sig1 = sig0 * xp.exp(-1j * xp.polyval(est_coef2d, tsymbr))\n",
    "        data0 = myfft(sig1, n=Config.fft_n, plan=Config.plan)\n",
    "        freq1 = xp.fft.fftshift(xp.fft.fftfreq(Config.fft_n, d=1 / Config.fs))[xp.argmax(xp.abs(data0))]\n",
    "        freq, valnew = optimize_1dfreq_fast(sig1, tsymbr, freq1, Config.fs / Config.fft_n * 5) # 5hz margin\n",
    "        # print(f\"{freq1=} {freq=} {valnew=}\")\n",
    "        est_coef2d[1] = 2 * xp.pi * (est_f1 + freq) - est_t1 * 2 * est_beta * xp.pi\n",
    "        est_coef2d[2] += xp.angle(sig0.dot(xp.exp(-1j * xp.polyval(est_coef2d, tsymbr))))\n",
    "        # pltfig(((tsymbr, xp.unwrap(xp.angle(sig0))), (tsymbr, xp.polyval(est_coef2d, tsymbr) - xp.polyval(est_coef2d, tsymbr[0]) + xp.angle(sig0[0]))), title=f\"Fit with predetermined values {pidx=} {freq=}\").show()\n",
    "        # pltfig1(tsymbr, xp.unwrap(xp.angle(sig0)) -  xp.polyval(est_coef2d, tsymbr) + xp.polyval(est_coef2d, tsymbr[0]) - xp.angle(sig0[0]), title=f\"Fit with predetermined values diff {pidx=} {freq=}\").show()\n",
    "        estf_error_vals[pidx] = freq\n",
    "        estf_power[pidx] = xp.abs(xp.sum(sig1))/xp.sum(xp.abs(sig0))\n",
    "        estf_corrected_power[pidx] = valnew\n",
    "    pltfig1(None, estf_error_vals, title=f\"errors of frequency {'coeff_from_tlen' if repeat == 0 else 'estcoef'}\").show()\n",
    "    pltfig(((pidx_range, estf_power), (pidx_range, estf_corrected_power)), title=f\"errors of frequency {'coeff_from_tlen' if repeat == 0 else 'estcoef'}\").show()\n",
    "\n",
    "\n",
    "\n",
    "\n",
    "        # betai = Config.bw / ((2 ** Config.sf) / Config.bw) * xp.pi\n",
    "        \n",
    "        # # compute coef2d_est2: polynomial curve fitting unwrapped phase of symbol pidx\n",
    "        # # time: tstart to tend\n",
    "        # # frequency at tstart: - estbw * 0.5 + estf\n",
    "        # estf = freq_start\n",
    "        # estbw = Config.bw * (1 + estf / Config.sig_freq) \n",
    "        # for betaC in xp.arange(0, 3, 0.5):\n",
    "        #     beta1 = betai * (1 + betaC * estf / Config.sig_freq)\n",
    "        #     tstart = xp.polyval(coeff_time3, pidx)\n",
    "        #     tend = xp.polyval(coeff_time3, pidx + 1)\n",
    "        #     beta2 = 2 * xp.pi * (- estbw * 0.5 + estf) - tstart * 2 * beta1\n",
    "        #     coef2d_est2 = xp.array([to_scalar(beta1), to_scalar(beta2), 0])\n",
    "\n",
    "        #     # align 3rd parameter of coef2d_est2 to observed phase at tstart\n",
    "        #     nsymbr_start = math.ceil(tstart * Config.fs + Config.nsamp / 8)\n",
    "        #     nsymbr_end = math.ceil(tend * Config.fs - Config.nsamp / 8)\n",
    "        #     nsymbr = xp.arange(math.ceil(tstart * Config.fs + Config.nsamp / 8), math.ceil(tend * Config.fs - Config.nsamp / 8))\n",
    "        #     tsymbr = nsymbr / Config.fs\n",
    "\n",
    "        #     sig0 = reader.get(nsymbr_start, nsymbr_end - nsymbr_start)\n",
    "        #     sig1 = sig0 * xp.exp(-1j * xp.polyval(coef2d_est2, tsymbr))\n",
    "        #     data0 = myfft(sig1, n=Config.fft_n, plan=Config.plan)\n",
    "        #     freq1 = xp.fft.fftshift(xp.fft.fftfreq(Config.fft_n, d=1 / Config.fs))[xp.argmax(xp.abs(data0))]\n",
    "        #     freq, valnew = optimize_1dfreq(sig1, tsymbr, freq1, Config.fs / Config.fft_n * 5)\n",
    "        #     print(f\"{freq1=} {freq=} {valnew=}\")\n",
    "        #     # freqf, valnew = optimize_1dfreq(sig1, tsymbr, freq1, Config.fs / Config.fft_n * 5)\n",
    "\n",
    "        #     # adjust coef2d_est2[1] according to freq difference\n",
    "        #     coef2d_est2[1] = 2 * xp.pi * (- estbw * 0.5 + estf + freq) - tstart * 2 * beta1\n",
    "        #     sig2 = sig0 * xp.exp(-1j * xp.polyval(coef2d_est2, tsymbr))\n",
    "        #     freq, valnew = optimize_1dfreq(sig2, tsymbr, freq1, Config.fs / Config.fft_n * 5)\n",
    "        #     print(f\"{freq=} should be zero {valnew=} {betaC=}\")\n",
    "        #     coef2d_est2[2] += xp.angle(sig0.dot(xp.exp(-1j * xp.polyval(coef2d_est2, tsymbr))))\n",
    "        #     print(coef2d_est2, coeflist[pidx])\n",
    "        #     print(f\"{(coef2d_est2[0] * 2 * tstart + coef2d_est2[1]) / 2 / xp.pi} {(coeflist[pidx][0] * 2 * tstart + coeflist[pidx][1]) / 2 / xp.pi}\")\n",
    "        #     # print(f\"{xp.angle(sig0.dot(xp.exp(-1j * xp.polyval(coef2d_est2, tsymbr))))} should be zero\")\n"
   ]
  },
  {
   "cell_type": "code",
   "execution_count": null,
   "id": "37083f58",
   "metadata": {},
   "outputs": [],
   "source": [
    "# pltfig1(None, coeflist[:, 0], title=\"coeflist[:, 0]\").show()\n",
    "# pltfig1(None, coeflist[:, 1], title=\"coeflist[:, 1]\").show()\n",
    "# pltfig1(None, coeflist[:, 2], title=\"coeflist[:, 2]\").show()"
   ]
  },
  {
   "cell_type": "markdown",
   "id": "3c153b53",
   "metadata": {},
   "source": [
    "### Connect phases\n",
    "- input: coeff_time3, estcoef\n",
    "- estimate all coefficients from coefs in time and freq, no original coeflist involved\n",
    "    - however coeff_time3 and estcoef are not connected, estcoef is still fitted from original coeflist\n",
    "- connect all phases together"
   ]
  },
  {
   "cell_type": "code",
   "execution_count": null,
   "id": "39ef1a69",
   "metadata": {},
   "outputs": [],
   "source": [
    "\n",
    "\n",
    "coeff_time = coeff_time3 # todo!!!2\n",
    "# coeff_time[-1] += 0.4e-6 + 130e-9\n",
    "\n",
    "# print(f\"{xp.polyval(coeft, Config.preamble_len)=} {xp.polyval(coeff_time3, Config.preamble_len)=}\")\n",
    "# coeff_time = coeff_time3 # !!! todo !!!\n",
    "# print(f\"{coeff_time=} already replaced by coefftime3\")\n",
    "\n",
    "betai = Config.bw / ((2 ** Config.sf) / Config.bw) * xp.pi\n",
    "coeffitlist = xp.zeros((Config.preamble_len, 3), dtype=xp.float64)\n",
    "coeffitlist[:, 0] = betai * (1 + 2 * xp.polyval(estcoef, pidx_range) / Config.sig_freq)\n",
    "\n",
    "bwdiff = - Config.bw * (1 + estcoef[1] / Config.sig_freq) / 2\n",
    "coeffitlist[:, 1] = 2 * xp.pi * xp.polyval(estcoef, pidx_range) - xp.polyval(coeff_time, pidx_range) * 2 * coeffitlist[:, 0] + bwdiff * 2 * xp.pi\n",
    "\n",
    "for pidx in pidx_range[1:]:\n",
    "    coeffitlist[pidx, 2] -= wrap(xp.polyval(coeffitlist[pidx], xp.polyval(coeff_time, pidx)) - xp.polyval(coeffitlist[pidx - 1], xp.polyval(coeff_time, pidx)))\n"
   ]
  },
  {
   "cell_type": "markdown",
   "id": "8cb52dd0",
   "metadata": {},
   "source": [
    "### Decode_core\n",
    "\n",
    "- compute phases and power of 240 preambles"
   ]
  },
  {
   "cell_type": "code",
   "execution_count": null,
   "id": "b989b00c",
   "metadata": {},
   "outputs": [],
   "source": [
    "codephase = xp.zeros((Config.total_len,), dtype=xp.float64)\n",
    "powers = xp.zeros((Config.total_len,), dtype=xp.float64)\n",
    "codephase_secondary = xp.zeros((Config.total_len,), dtype=xp.float64)\n",
    "\n",
    "# preamble codephase and powers\n",
    "for pidx in range(Config.preamble_len):\n",
    "    x1 = ceil(xp.polyval(coeff_time, pidx) * Config.fs)\n",
    "    x2 = ceil(xp.polyval(coeff_time, pidx + 1) * Config.fs)\n",
    "    nsymbr = xp.arange(x1, x2)\n",
    "    tsymbr = nsymbr / Config.fs\n",
    "    sig = reader.get(x1, x2 - x1)\n",
    "    res = sig.dot(xp.exp(-1j * xp.polyval(coeffitlist[pidx], tsymbr)))\n",
    "    codephase[pidx] = xp.angle(res)\n",
    "    powers[pidx] = xp.abs(res) / xp.sum(xp.abs(sig))\n",
    "    if pidx in [0, 120, Config.preamble_len - 1]:\n",
    "        # coeffitlist_comp = coeffitlist[pidx].copy()\n",
    "        # coeffitlist_comp[2] += xp.angle(sig[0]) - xp.polyval(coeffitlist[pidx], tsymbr[0])\n",
    "        print(f\"{coeffitlist[pidx]=} {xp.polyval(coeffitlist[pidx], tsymbr[0])=} {xp.unwrap(xp.angle(sig))[-1]=} {xp.polyval(coeffitlist[pidx], tsymbr[-1]) - xp.polyval(coeffitlist[pidx], tsymbr[0]) + xp.angle(sig[0])=}\")\n",
    "        pltfig((\n",
    "            (tsymbr, xp.unwrap(xp.angle(sig)) ), \n",
    "            (tsymbr, xp.polyval(coeffitlist[pidx], tsymbr) - xp.polyval(coeffitlist[pidx], tsymbr[0]) + xp.angle(sig[0]))), title=f\"preamble codephase {pidx=} angle={xp.angle(res)} pow={xp.abs(res)/xp.sum(xp.abs(sig))}\").show()\n",
    "        pltfig1(tsymbr, xp.unwrap(xp.angle(sig)) - xp.polyval(coeffitlist[pidx], tsymbr) + xp.polyval(coeffitlist[pidx], tsymbr[0]) - xp.angle(sig[0]), title=f\"preamble codephase {pidx=} fitdiff\").show()\n",
    "pltfig1(xp.arange(Config.preamble_len), xp.unwrap(codephase[:Config.preamble_len]), title=\"unwrap phase\").show()\n",
    "pltfig1(xp.arange(Config.preamble_len), powers[:Config.preamble_len], title=\"powers\").show()"
   ]
  },
  {
   "cell_type": "markdown",
   "id": "9ddcbbf6",
   "metadata": {},
   "source": [
    "- see if missed a symbol"
   ]
  },
  {
   "cell_type": "code",
   "execution_count": null,
   "id": "9b6769da",
   "metadata": {},
   "outputs": [],
   "source": [
    "fig=None\n",
    "\n",
    "pidx = -1\n",
    "x1 = math.ceil(xp.polyval(coeff_time, pidx) * Config.fs)\n",
    "x2 = math.ceil(xp.polyval(coeff_time, pidx + 2) * Config.fs)\n",
    "print(x1, x2)\n",
    "nsymbr = xp.arange(x1, x2)\n",
    "sig = reader.get(x1, x2 - x1)\n",
    "pltfig1(None, xp.unwrap(xp.angle(sig)), title = \"Pidx=-1 and Pidx 0\").show()\n",
    "\n"
   ]
  },
  {
   "cell_type": "markdown",
   "id": "936cda81",
   "metadata": {},
   "source": [
    "### Expand Coeflist into two rows"
   ]
  },
  {
   "cell_type": "code",
   "execution_count": null,
   "id": "fb21e549",
   "metadata": {},
   "outputs": [],
   "source": [
    "coeffitlist = xp.concatenate((coeffitlist, xp.zeros_like(coeffitlist)), axis=0) # 2, 240, 3, 2\n",
    "coeffitlist = xp.stack((coeffitlist, xp.zeros_like(coeffitlist)), axis=0) # 2, 240, 3, 2\n",
    "print(coeffitlist.shape)\n",
    "coeffitlist[1, :, -1] = coeffitlist[0, :, -1] # share the last value as continuous phase"
   ]
  },
  {
   "cell_type": "markdown",
   "id": "fa6f218b",
   "metadata": {},
   "source": [
    "### Fit 241, 242 code\n",
    "\n",
    "- input: coeff_time, estcoef\n",
    "- fit with phase continuity using curves predicted, no optimizing\n",
    "- the following block only computes code"
   ]
  },
  {
   "cell_type": "code",
   "execution_count": null,
   "id": "73d05a4b",
   "metadata": {},
   "outputs": [],
   "source": [
    "\n",
    "startphase = 0#xp.polyval(coeffitlist[Config.preamble_len + 4], xp.polyval(coeff_time, Config.preamble_len + 5 - 0.75))\n",
    "\n",
    "codexdiffs = []\n",
    "codes = xp.zeros((Config.total_len,), dtype=int)\n",
    "for pidx in range(Config.sfdend, Config.total_len):\n",
    "    tstart = xp.polyval(coeff_time, pidx - 0.75)\n",
    "    tend = xp.polyval(coeff_time, pidx + 1 - 0.75)\n",
    "    x1 = math.ceil(tstart * Config.fs)\n",
    "    x2 = math.ceil(tend * Config.fs)\n",
    "    nsymbr = xp.arange(x1, x2)\n",
    "    sig = reader.get(x1, x2 - x1)\n",
    "    if xp.mean(xp.abs(sig)) < 0.01:\n",
    "        print(f\"{pidx=} {xp.mean(xp.abs(sig))=} too small. is symbol ending? quitting, payload_len={pidx - Config.sfdend}\")\n",
    "        break\n",
    "    \n",
    "    x1 = math.ceil(tstart * Config.fs)\n",
    "    x2 = math.ceil(tend * Config.fs)\n",
    "    nsymbr = xp.arange(x1, x2)\n",
    "    tsymbr = nsymbr / Config.fs\n",
    "\n",
    "    # pltfig1(tsymbr, xp.unwrap(xp.angle(reader.get(x1, x2-x1))), title=f\"{pidx=}\").show()\n",
    "    # pltfig1(tsymbr, xp.abs(reader.get(x1, x2-x1)), title=f\"{pidx=}\").show()\n",
    "    assert xp.mean(xp.abs(reader.get(x1, x2-x1))) > 0.1, f\"{pidx=} {xp.mean(xp.abs(reader.get(x1, x2-x1)))=} too small. is symbol ending?\"\n",
    "    estcoef_this = xp.polyval(coeff, pidx)\n",
    "\n",
    "    beta1 = Config.bw / ((2 ** Config.sf) / Config.bw) * xp.pi * (1 + 2 * estcoef_this / Config.sig_freq)\n",
    "    estbw = Config.bw * (1 + estcoef_this / Config.sig_freq)\n",
    "    beta2 = 2 * xp.pi * (xp.polyval(coeff, pidx) - estbw / 2) - tstart * 2 * beta1  # 2ax+b=differential b=differential - 2 * beta1 * time\n",
    "    coef2d_est = xp.array([to_scalar(beta1), to_scalar(beta2), 0])\n",
    "\n",
    "    sig2 = reader.get(x1, x2-x1) * xp.exp(-1j * xp.polyval(coef2d_est, tsymbr))\n",
    "    data0 = myfft(sig2, n=Config.fft_n, plan=Config.plan)\n",
    "    freq1 = xp.fft.fftshift(xp.fft.fftfreq(Config.fft_n, d=1 / Config.fs))[xp.argmax(xp.abs(data0))]\n",
    "    freq, valnew = optimize_1dfreq_fast(sig2, tsymbr, freq1, Config.fs / Config.fft_n * 5) # valnew may be as low as 0.3, only half the power will be collected\n",
    "    # freq = freq1 # todo !!!\n",
    "    # assert valnew > 0.3, f\"{freq=} {freq1=} {valnew=}\"\n",
    "    if freq < 0: freq += estbw\n",
    "    codex = freq / estbw * 2 ** Config.sf\n",
    "    code = around(codex)\n",
    "    # print(f\"{codex=} {code=}\")\n",
    "\n",
    "    tmid = tstart * (code / 2 ** Config.sf) + tend * (1 - code / 2 ** Config.sf)\n",
    "    tmid = tmid.item()\n",
    "    x3 = math.ceil(tmid * Config.fs)\n",
    "\n",
    "    nsymbr1 = xp.arange(x1, x3)\n",
    "    tsymbr1 = nsymbr1 / Config.fs\n",
    "    nsymbr2 = xp.arange(x3, x2)\n",
    "    tsymbr2 = nsymbr2 / Config.fs\n",
    "\n",
    "    beta2 = (2 * xp.pi * (xp.polyval(coeff, pidx) + estbw * (code / 2 ** Config.sf - 0.5))\n",
    "             - tstart * 2 * beta1)\n",
    "    coef2d_est2 = xp.array([to_scalar(beta1), to_scalar(beta2), 0])\n",
    "    coef2d_est2_2d = xp.polyval(coef2d_est2, tstart) - startphase\n",
    "    coef2d_est2[2] -= coef2d_est2_2d\n",
    "\n",
    "    beta2a = (2 * xp.pi * (xp.polyval(coeff, pidx) + estbw * (code / 2 ** Config.sf - 1.5))\n",
    "              - tstart * 2 * beta1)\n",
    "    coef2d_est2a = xp.array([to_scalar(beta1), to_scalar(beta2a), 0])\n",
    "    coef2d_est2a_2d = xp.polyval(coef2d_est2a, tmid) - xp.polyval(coef2d_est2, tmid)\n",
    "    coef2d_est2a[2] -= coef2d_est2a_2d\n",
    "\n",
    "    res2 = reader.get(x1, x3-x1).dot(xp.exp(-1j * xp.polyval(coef2d_est2, tsymbr1))) / xp.sum(xp.abs(reader.get(x1, x3-x1)))\n",
    "    res2a = reader.get(x3, x2-x3).dot(xp.exp(-1j * xp.polyval(coef2d_est2a, tsymbr2))) / xp.sum(xp.abs(reader.get(x3, x2-x3)))\n",
    "\n",
    "    if not (xp.abs(res2).item() > 0.7 or code > 2 ** Config.sf * 0.7) or not (xp.abs(res2a).item() > 0.7 or code < 2 ** Config.sf * 0.2):\n",
    "        pltfig1(tsymbr1, xp.angle(reader.get(x1, x3-x1) * xp.exp(-1j * xp.polyval(coef2d_est2, tsymbr1))), title=f\"{pidx=} 1st angle {codex=} pow={xp.abs(res2).item()}\").show()\n",
    "        pltfig1(tsymbr2, xp.angle(reader.get(x3, x2-x3) * xp.exp(-1j * xp.polyval(coef2d_est2a, tsymbr2))), title=f\"{pidx=} 2st angle {codex=} pow={xp.abs(res2a).item()}\").show()\n",
    "\n",
    "    assert xp.abs(res2).item() > 0.7 or code > 2 ** Config.sf * 0.7, f\"{pidx=} {code=} 1st power {xp.abs(res2).item()}<0.7\"\n",
    "    assert xp.abs(res2a).item() > 0.7 or code < 2 ** Config.sf * 0.2, f\"{pidx=} {code=} 2nd power {xp.abs(res2a).item()}<0.7\"\n",
    "\n",
    "    endphase = xp.polyval(coef2d_est2a, tend)\n",
    "    ifreq1 = 2 * xp.pi * (xp.polyval(coeff, pidx) + estbw * (code / 2 ** Config.sf - 0.5))\n",
    "    ifreq2 = 2 * xp.pi * (xp.polyval(coeff, pidx) + estbw * (code / 2 ** Config.sf - 1.5))\n",
    "\n",
    "    # startphase = endphase\n",
    "    # powers.append(xp.abs(res2).item())\n",
    "    # powers.append(xp.abs(res2a).item())\n",
    "    # codephase2.append(xp.angle(res2).item())\n",
    "    # codephase2.append(xp.angle(res2a).item())\n",
    "    # codephase.append(xp.angle(res2).item())\n",
    "    # codephase.append(xp.angle(res2a).item())\n",
    "    # coef2d_ests.append(coef2d_est2)\n",
    "    # coef2d_ests.append(coef2d_est2a)\n",
    "    codes[pidx] = code\n",
    "    codexdiffs.append(abs(codex - code))\n",
    "pltfig1(None, xp.unwrap(codexdiffs), title=\"codexdiffs\").show()"
   ]
  },
  {
   "cell_type": "markdown",
   "id": "bcc0a0cc",
   "metadata": {},
   "source": [
    "### Construct curves for the 2 codes, still using only coeff_time and estcoef\n",
    "\n",
    "- now compute curves based on the code from previous block"
   ]
  },
  {
   "cell_type": "code",
   "execution_count": 26,
   "id": "2d54ed07",
   "metadata": {},
   "outputs": [
    {
     "name": "stdout",
     "output_type": "stream",
     "text": [
      "0.0\n",
      "-2598.8691272735596\n",
      "-2598.8691272735596\n",
      "-5197.7707595825195\n",
      "-5197.7707595825195\n",
      "-7796.704896450043\n",
      "-7796.704896450043\n",
      "-10395.67153787613\n",
      "-10395.67153787613\n",
      "-12994.670682907104\n",
      "-12994.670682907104\n",
      "-15593.702334880829\n",
      "-15593.702334880829\n",
      "-18192.76648902893\n",
      "-18192.76648902893\n",
      "-20791.86314725876\n",
      "-20791.86314725876\n",
      "-23390.99231147766\n",
      "-23390.99231147766\n",
      "-25990.153979301453\n",
      "-25990.153979301453\n",
      "-28589.34815263748\n",
      "-28589.34815263748\n",
      "-31188.574828624725\n",
      "-31188.574828624725\n",
      "-33787.834010601044\n",
      "-33787.834010601044\n",
      "-36387.12569761276\n",
      "-36387.12569761276\n",
      "-38986.44988679886\n",
      "-38986.44988679886\n",
      "-41585.80658054352\n",
      "-41585.80658054352\n",
      "-44185.19578027725\n",
      "-44185.19578027725\n",
      "-46784.61748313904\n",
      "-46784.61748313904\n",
      "-49384.071691036224\n",
      "-49384.071691036224\n",
      "-51983.55840301514\n",
      "-51983.55840301514\n",
      "-54583.07761955261\n",
      "-54583.07761955261\n",
      "-57182.62934112549\n",
      "-57182.62934112549\n",
      "-59782.21356678009\n",
      "-59782.21356678009\n",
      "-62381.83029651642\n",
      "-62381.83029651642\n",
      "-64981.479531764984\n",
      "-64981.479531764984\n",
      "-67581.16127061844\n",
      "-67581.16127061844\n",
      "-70180.87551403046\n",
      "-70180.87551403046\n",
      "-72780.62226104736\n",
      "-72780.62226104736\n",
      "-75380.40151405334\n",
      "-75380.40151405334\n",
      "-77980.21327066422\n",
      "-77980.21327066422\n",
      "-80580.05753183365\n",
      "-80580.05753183365\n",
      "-83179.93429756165\n",
      "-83179.93429756165\n",
      "-85779.8435678482\n",
      "-85779.8435678482\n",
      "-88379.78534269333\n",
      "-88379.78534269333\n",
      "-90979.75962209702\n",
      "-90979.75962209702\n",
      "-93579.76640462875\n",
      "-93579.76640462875\n",
      "-96179.8056936264\n",
      "-96179.8056936264\n",
      "-98779.8774857521\n",
      "-98779.8774857521\n",
      "-101379.98178243637\n",
      "-101379.98178243637\n",
      "-103980.1185836792\n",
      "-103980.1185836792\n",
      "-106580.2878870964\n",
      "-106580.2878870964\n",
      "-109180.48969888687\n",
      "-109180.48969888687\n",
      "-111780.72401285172\n",
      "-111780.72401285172\n",
      "-114380.99083185196\n",
      "-114380.99083185196\n",
      "-116981.29015541077\n",
      "-116981.29015541077\n",
      "-119581.6219830513\n",
      "-119581.6219830513\n",
      "-122181.98631429672\n",
      "-122181.98631429672\n",
      "-124782.38315153122\n",
      "-124782.38315153122\n",
      "-127382.81249332428\n",
      "-127382.81249332428\n",
      "-129983.27433872223\n",
      "-129983.27433872223\n",
      "-132583.76868915558\n",
      "-132583.76868915558\n",
      "-135184.29554271698\n",
      "-135184.29554271698\n",
      "-137784.85490131378\n",
      "-137784.85490131378\n",
      "-140385.44676494598\n",
      "-140385.44676494598\n",
      "-142986.07113218307\n",
      "-142986.07113218307\n",
      "-145586.72800397873\n",
      "-145586.72800397873\n",
      "-148187.41738080978\n",
      "-148187.41738080978\n",
      "-150788.13926124573\n",
      "-150788.13926124573\n",
      "-153388.89364767075\n",
      "-153388.89364767075\n",
      "-155989.68053770065\n",
      "-155989.68053770065\n",
      "-158590.4999318123\n",
      "-158590.4999318123\n",
      "-161191.35182905197\n",
      "-161191.35182905197\n",
      "-163792.2362332344\n",
      "-163792.2362332344\n",
      "-166393.1531405449\n",
      "-166393.1531405449\n",
      "-168994.10255336761\n",
      "-168994.10255336761\n",
      "-171595.08446836472\n",
      "-171595.08446836472\n",
      "-174196.09889030457\n",
      "-174196.09889030457\n",
      "-176797.14581537247\n",
      "-176797.14581537247\n",
      "-179398.2252459526\n",
      "-179398.2252459526\n",
      "-181999.3371796608\n",
      "-181999.3371796608\n",
      "-184600.48161888123\n",
      "-184600.48161888123\n",
      "-187201.65856266022\n",
      "-187201.65856266022\n",
      "-189802.86800956726\n",
      "-189802.86800956726\n",
      "-192404.10996198654\n",
      "-192404.10996198654\n",
      "-195005.3844189644\n",
      "-195005.3844189644\n",
      "-197606.69137954712\n",
      "-197606.69137954712\n",
      "-200208.03084516525\n",
      "-200208.03084516525\n",
      "-202809.4028148651\n",
      "-202809.4028148651\n",
      "-205410.80728912354\n",
      "-205410.80728912354\n",
      "-208012.2442688942\n",
      "-208012.2442688942\n",
      "-210613.71375322342\n",
      "-210613.71375322342\n",
      "-213215.21574163437\n",
      "-213215.21574163437\n",
      "-215816.75023412704\n",
      "-215816.75023412704\n",
      "-218418.3172302246\n",
      "-218418.3172302246\n",
      "-221019.91673231125\n",
      "-221019.91673231125\n",
      "-223621.54873657227\n",
      "-223621.54873657227\n",
      "-226223.21324777603\n",
      "-226223.21324777603\n",
      "-228824.91026210785\n",
      "-228824.91026210785\n",
      "-231426.63978099823\n",
      "-231426.63978099823\n",
      "-234028.401804924\n",
      "-234028.401804924\n",
      "-236630.19633245468\n",
      "-236630.19633245468\n",
      "-239232.02336454391\n",
      "-239232.02336454391\n",
      "-241833.88290262222\n",
      "-241833.88290262222\n",
      "-244435.77494430542\n",
      "-244435.77494430542\n",
      "-247037.6994895935\n",
      "-247037.6994895935\n",
      "-249639.65653944016\n",
      "-249639.65653944016\n",
      "-252241.6460928917\n",
      "-252241.6460928917\n",
      "-254843.6681509018\n",
      "-254843.6681509018\n",
      "-257445.7227139473\n",
      "-257445.7227139473\n",
      "-260047.80978107452\n",
      "-260047.80978107452\n",
      "-262649.9293527603\n",
      "-262649.9293527603\n",
      "-265252.08142852783\n",
      "-265252.08142852783\n",
      "-267854.2660098076\n",
      "-267854.2660098076\n",
      "-270456.4830956459\n",
      "-270456.4830956459\n",
      "-273058.7326860428\n",
      "-273058.7326860428\n",
      "-275661.01478099823\n",
      "-275661.01478099823\n",
      "-278263.32937955856\n",
      "-278263.32937955856\n",
      "-280865.6764822006\n",
      "-280865.6764822006\n",
      "-283468.05608940125\n",
      "-283468.05608940125\n",
      "-286070.46820116043\n",
      "-286070.46820116043\n",
      "-288672.912817955\n",
      "-288672.912817955\n",
      "-291275.38993883133\n",
      "-291275.38993883133\n",
      "-293877.8995652199\n",
      "-293877.8995652199\n",
      "-296480.4416947365\n",
      "-296480.4416947365\n",
      "-299083.0163292885\n",
      "-299083.0163292885\n",
      "-301685.62346839905\n",
      "-301685.62346839905\n",
      "-304288.26311063766\n",
      "-304288.26311063766\n",
      "-306890.9352583885\n",
      "-306890.9352583885\n",
      "-309493.6399102211\n",
      "-309493.6399102211\n",
      "-312096.37706661224\n",
      "-312096.37706661224\n",
      "-314699.1467280388\n",
      "-314699.1467280388\n",
      "-317301.9488925934\n",
      "-317301.9488925934\n",
      "-319904.7835636139\n",
      "-319904.7835636139\n",
      "-322507.6507372856\n",
      "-322507.6507372856\n",
      "-325110.55041742325\n",
      "-325110.55041742325\n",
      "-327713.4826016426\n",
      "-327713.4826016426\n",
      "-330316.44728899\n",
      "-330316.44728899\n",
      "-332919.44448137283\n",
      "-332919.44448137283\n",
      "-335522.4741778374\n",
      "-335522.4741778374\n",
      "-338125.5363793373\n",
      "-338125.5363793373\n",
      "-340728.631084919\n",
      "-340728.631084919\n",
      "-343331.75829458237\n",
      "-343331.75829458237\n",
      "-345934.9180073738\n",
      "-345934.9180073738\n",
      "-348538.11022758484\n",
      "-348538.11022758484\n",
      "-351141.3349490166\n",
      "-351141.3349490166\n",
      "-353744.5921778679\n",
      "-353744.5921778679\n",
      "-356347.8819088936\n",
      "-356347.8819088936\n",
      "-358951.20414447784\n",
      "-358951.20414447784\n",
      "-361554.5588879585\n",
      "-361554.5588879585\n",
      "-364157.9461321831\n",
      "-364157.9461321831\n",
      "-366761.36588191986\n",
      "-366761.36588191986\n",
      "-369364.8181357384\n",
      "-369364.8181357384\n",
      "-371968.30289554596\n",
      "-371968.30289554596\n",
      "-374571.8201584816\n",
      "-374571.8201584816\n",
      "-377175.3699269295\n",
      "-377175.3699269295\n",
      "-379778.95219802856\n",
      "-379778.95219802856\n",
      "-382382.5669746399\n",
      "-382382.5669746399\n",
      "-384986.2142543793\n",
      "-384986.2142543793\n",
      "-387589.89404058456\n",
      "-387589.89404058456\n",
      "-390193.60632944107\n",
      "-390193.60632944107\n",
      "-392797.3511252403\n",
      "-392797.3511252403\n",
      "-395401.1284227371\n",
      "-395401.1284227371\n",
      "-398004.9382266998\n",
      "-398004.9382266998\n",
      "-400608.7805337906\n",
      "-400608.7805337906\n",
      "-403212.6553463936\n",
      "-403212.6553463936\n",
      "-405816.56266117096\n",
      "-405816.56266117096\n",
      "-408420.5024843216\n",
      "-408420.50248479843\n",
      "-411024.47480869293\n",
      "-411024.47480869293\n",
      "-413628.47963905334\n",
      "-413628.47963905334\n",
      "-416232.5169734955\n",
      "-416232.5169734955\n",
      "-418836.58681201935\n",
      "-418836.58681201935\n",
      "-421440.68915462494\n",
      "-421440.68915462494\n",
      "-424044.8240032196\n",
      "-424044.8240032196\n",
      "-426648.991355896\n",
      "-426648.991355896\n",
      "-429253.19121170044\n",
      "-429253.19121170044\n",
      "-431857.42357063293\n",
      "-431857.42357063293\n",
      "-434461.6884355545\n",
      "-434461.6884355545\n",
      "-437065.9858074188\n",
      "-437065.9858074188\n",
      "-439670.31568050385\n",
      "-439670.31568050385\n",
      "-442274.67805862427\n",
      "-442274.67805862427\n",
      "-444879.0729408264\n",
      "-444879.0729408264\n",
      "-447483.50032901764\n",
      "-447483.50032901764\n",
      "-450087.9602212906\n",
      "-450087.9602212906\n",
      "-452692.4526166916\n",
      "-452692.4526166916\n",
      "-455296.977517128\n",
      "-455296.977517128\n",
      "-457901.5349216461\n",
      "-457901.5349216461\n",
      "-460506.124830246\n",
      "-460506.124830246\n",
      "-463110.7472438812\n",
      "-463110.7472438812\n",
      "-465715.40216350555\n",
      "-465715.40216350555\n",
      "-468320.0895872116\n",
      "-468320.0895872116\n",
      "-470924.80951309204\n",
      "-470924.80951309204\n",
      "-473529.5619459152\n",
      "-473529.5619459152\n",
      "-476134.34688282013\n",
      "-476134.34688282013\n",
      "-478739.1643266678\n",
      "-478739.1643266678\n",
      "-481344.0142698288\n",
      "-481344.0142698288\n",
      "-483948.89671993256\n",
      "-483948.89671993256\n",
      "-486553.81167411804\n",
      "-486553.81167411804\n",
      "-489158.7591333389\n",
      "-489158.7591333389\n",
      "-491763.73909568787\n",
      "-491763.73909568787\n",
      "-494368.7515640259\n",
      "-494368.7515640259\n",
      "-496973.79653453827\n",
      "-496973.79653453827\n",
      "-499578.87401390076\n",
      "-499578.87401390076\n",
      "-502183.9839916229\n",
      "-502183.9839916229\n",
      "-504789.1264781952\n",
      "-504789.1264781952\n",
      "-507394.3014688492\n",
      "-507394.3014688492\n",
      "-509999.5089607239\n",
      "-509999.5089607239\n",
      "-512604.7489595413\n",
      "-512604.7489595413\n",
      "-515210.02146339417\n",
      "-515210.02146339417\n",
      "-517815.32647037506\n",
      "-517815.32647037506\n",
      "-520420.66398334503\n",
      "-520420.66398334503\n",
      "-523026.0339984894\n",
      "-523026.0339984894\n",
      "-525631.4365186691\n",
      "-525631.4365186691\n",
      "-528236.8715429306\n",
      "-528236.8715429306\n",
      "-530842.3390731812\n",
      "-530842.3390731812\n",
      "-533447.8391065598\n",
      "-533447.8391065598\n",
      "-536053.3716440201\n",
      "-536053.3716440201\n",
      "-538658.9366893768\n",
      "-538658.9366893768\n",
      "-541264.5342359543\n",
      "-541264.5342359543\n",
      "-543870.1642866135\n",
      "-543870.1642866135\n",
      "-546475.826842308\n",
      "-546475.826842308\n",
      "-549081.521903038\n",
      "-549081.521903038\n",
      "-551687.2494678497\n",
      "-551687.2494678497\n",
      "-554293.0095357895\n",
      "-554293.0095357895\n",
      "-556898.8021097183\n",
      "-556898.8021097183\n",
      "-559504.6271877289\n",
      "-559504.6271877289\n",
      "-562110.4847707748\n",
      "-562110.4847707748\n",
      "-564716.3748569489\n",
      "-564716.3748569489\n",
      "-567322.2974500656\n",
      "-567322.2974500656\n",
      "-569928.2525472641\n",
      "-569928.2525472641\n",
      "-572534.240146637\n",
      "-572534.240146637\n",
      "-575140.2602529526\n",
      "-575140.2602529526\n",
      "-577746.3128614426\n",
      "-577746.3128614426\n",
      "-580352.3979768753\n",
      "-580352.3979768753\n",
      "-582958.5155954361\n",
      "-582958.5155954361\n",
      "-585564.6657161713\n",
      "-585564.6657161713\n",
      "-588170.8483438492\n",
      "-588170.8483438492\n",
      "-590777.0634765625\n",
      "-590777.0634765625\n",
      "-593383.3111124039\n",
      "-593383.3111124039\n",
      "-595989.5912532806\n",
      "-595989.5912532806\n",
      "-598595.9038963318\n",
      "-598595.9038963318\n",
      "-601202.2490463257\n",
      "-601202.2490463257\n",
      "-603808.6266994476\n",
      "-603808.6266994476\n",
      "-606415.036857605\n",
      "-606415.036857605\n",
      "-609021.479519844\n",
      "-609021.479519844\n",
      "-611627.9546890259\n",
      "-611627.9546890259\n",
      "-614234.4623613358\n",
      "-614234.4623613358\n",
      "-616841.0025367737\n",
      "-616841.0025367737\n",
      "-619447.575217247\n",
      "-619447.575217247\n",
      "-622054.1804037094\n",
      "-622054.1804037094\n",
      "-624660.8180923462\n",
      "-624660.8180923462\n",
      "-627267.488286972\n",
      "-627267.488286972\n",
      "-629874.1909866333\n",
      "-629874.1909866333\n",
      "-632480.9236936569\n",
      "-632480.9236936569\n",
      "-635087.6888980865\n",
      "-635087.6888980865\n",
      "-633326.6456365585\n",
      "-633326.6456365585\n",
      "-635772.7420864105\n",
      "-635933.478351593\n",
      "-635307.1543712616\n",
      "-638540.3435659409\n",
      "-639629.3858947754\n",
      "-641147.2412872314\n",
      "-629418.6437330246\n",
      "-643754.1715164185\n",
      "-638905.71808815\n",
      "-646361.1342487335\n",
      "-652256.9835281372\n",
      "-648968.1294851303\n",
      "-641707.0469141006\n",
      "-651575.1572275162\n",
      "-655114.9260206223\n",
      "-654182.2174711227\n",
      "-659757.7949867249\n",
      "-656789.3102197647\n",
      "-644910.2575712204\n",
      "-659396.4354753494\n",
      "-658412.4819564819\n",
      "-662003.5932331085\n",
      "-657947.2192907333\n",
      "-664610.783495903\n",
      "-655634.7328414917\n",
      "-667218.0062627792\n",
      "-665367.1439208984\n",
      "-669825.2615365982\n",
      "-661603.3068189621\n",
      "-672432.5493125916\n",
      "-677820.0294933319\n",
      "-675039.8695926666\n",
      "-669645.4617576599\n",
      "-677647.2223768234\n",
      "-674024.7295084\n",
      "-680254.6076660156\n",
      "-686735.5326375961\n",
      "-682862.0254611969\n",
      "-680747.6106882095\n"
     ]
    },
    {
     "data": {
      "application/vnd.plotly.v1+json": {
       "config": {
        "plotlyServerURL": "https://plot.ly"
       },
       "data": [
        {
         "mode": "lines",
         "type": "scatter",
         "x": {
          "bdata": "AAABAAIAAwAEAAUABgAHAAgACQAKAAsADAANAA4ADwAQABEAEgATABQAFQAWABcAGAAZABoAGwAcAB0AHgAfACAAIQAiACMAJAAlACYAJwAoACkAKgArACwALQAuAC8AMAAxADIAMwA0ADUANgA3ADgAOQA6ADsAPAA9AD4APwBAAEEAQgBDAEQARQBGAEcASABJAEoASwBMAE0ATgBPAFAAUQBSAFMAVABVAFYAVwBYAFkAWgBbAFwAXQBeAF8AYABhAGIAYwBkAGUAZgBnAGgAaQBqAGsAbABtAG4AbwBwAHEAcgBzAHQAdQB2AHcAeAB5AHoAewB8AH0AfgB/AIAAgQCCAIMAhACFAIYAhwCIAIkAigCLAIwAjQCOAI8AkACRAJIAkwCUAJUAlgCXAJgAmQCaAJsAnACdAJ4AnwCgAKEAogCjAKQApQCmAKcAqACpAKoAqwCsAK0ArgCvALAAsQCyALMAtAC1ALYAtwC4ALkAugC7ALwAvQC+AL8AwADBAMIAwwDEAMUAxgDHAMgAyQDKAMsAzADNAM4AzwDQANEA0gDTANQA1QDWANcA2ADZANoA2wDcAN0A3gDfAOAA4QDiAOMA5ADlAOYA5wDoAOkA6gDrAOwA7QDuAO8A8ADxAPIA8wD0APUA9gD3APgA+QD6APsA/AD9AP4A/wAAAQEBAgEDAQQBBQEGAQcBCAE=",
          "dtype": "i2"
         },
         "y": {
          "bdata": "VuDRQ+s1pT8kZ0J5QXUCwKk6DRywHQ7AE8+UJs+0E8CgZqivMoEXwEVfY7+usBrA5nI8GdwrHcC6we0Wv1YfwOJr9tIOjSDAaFTV0KhuIcC740xpl/4hwAmxZBn3ZiLAuLnxCwHOIsD6+SJdLxMjwLc2GguhSSPAIJbHN/pnI8DPGtUtKmYjwBBrLH4qXyPAaOXH5w9wI8DXKIQTEGgjwHbDHp14ZCPAfPcFxYxHI8Ci+VhiURkjwIA8SHWZ5iLAEKNeNKGrIsAXuEb1PVsiwFrIyM6kHCLAzscFq47hIcAbCSelPpMhwEMBQKcoSiHAugB9uMAGIcB8VIjS8rggwBI48lDLfyDAYHXN04FFIMBBYTx4ZcofwL60iduOTR/A3mcvADfsHsDg9jFx+5kewD4uGuwkJR7AUqhUTkW+HcCBVhustDwdwEcfb8dvxRzAFgo1b/1aHMA3A4tFDwYcwBhkvSeIkhvAjMnUYec7G8BI0zMaKLgawGSp8sSomBrAOKibxDpBGsBifCn6zAQawBWc1KUT3RnAQVMlTVaVGcC3plFtbUYZwASWM1o6MxnAsmbAxH3ZGMAF+Fm98eMYwA3AM/qu7BjAGH9+UzDZGMCl1ZOjtIkYwEwRxwqOWxjAxRPN3TwAGMBKjCCCKgwYwKdBga3m/RfAyn+oh9vgF8AmpyWTz+sXwP5B2MqP6xfAbgPwVTXrF8CO03oOY+cXwMoERNLuCRjAPYlpReQLGMDpatXjXRwYwAwtVmJp+xfAX1ZOpdAHGMCGjySqSxgYwBUui+4tLhjAs+e2alxhGMBQ46phWZsYwHnPtxLk1xjAmO16circGMA5X6w5FPEYwK7n5HMwDBnAK8dZeQgBGcDcOg+XQigZwNb7qxquaxnAGWPZlb94GcD5U+a0D5IZwE4awdmCtBnALJ6GIIHsGcClyDjiOgQawGhgz1iqURrA/07aQh9kGsBZq4ZGgm4awPSaKVrDfhrA6v3dzq+3GsDFLKAeBOcawA19mHhkFRvAzo5OrINBG8CEflcUdlEbwNYuqOzNWRvAK7jWLERDG8AwHLqQLGgbwG0r07TPpxvAjkU5ur/jG8BE3KH89OkbwINqRaOQ4hvAeiF+wVoLHMCS63f2ug0cwNIhju4oJBzAWf9tQ8VBHMCT8Rtpu34cwJLeGsxHchzAJ9lwZEuoHMDQ9iaIHJ8cwCGoKXJwpBzA8gtifLzfHMDGL0IXge8cwGRDXYa0Ax3AwRcol/gVHcA3l4nwiy4dwDPpLUPnZR3AhpiqTJSHHcBElCYSBYkdwNAE+3aTsx3Abma6MyXRHcDBTg7ZM5MdwLt20M8ypB3ANPU6d1C0HcAOmiYLzasdwJ8P6hogpR3Agq3d9CGNHcBej2neP4wdwAAuQeJPlh3AIhNLTOKlHcC4XN58VXsdwI2mzQ5UXx3AaExivzhlHcAOE35yCEsdwBrISA93IB3AkO3aA5v6HMCJ4iOhNuwcwOPshEpw3BzApiDmnxfYHMDfLNbyaKgcwOtxQUe/ixzAIALPdK9qHMCsYjA6jjocwFJdTM5fJRzA4woFZ5c3HMCOAFa5rSccwALuYti3FRzAs7dxBaH/G8ASovuqP+gbwNDIa4IFwxvA8OUImJihG8Cx0DS6ZLMbwCV/tjWfehvA9lTJzrxYG8AU4e50OVkbwGk2B7GNQRvASg4dfZYqG8A4fFgA6FUbwOzsdlHoHhvAJUy/QnHeGsDm1SI5W9gawP+df4IYqBrAB+iEd5yNGsBuERfS/F8awDYvZAsYOBrAqB3buDLvGcCadxWQjaEZwEOn5J9RRxnAqj2+91EbGcC1mXDhKfQYwFPkt9D43hjAsAil8YzBGMCjMikn+aQYwCHSoYH4XRjAajGmkuhFGMC+fI0fTAsYwAe5Wafd1hfA3wVueiufF8APtHURcowXwPJrD5N7XBfA7978Etg0F8ClKqeG/hIXwC9xUlh05RbAArkpxFHCFsBsur2mPK0WwKWVZZ/wmxbANRacacGbFsALnAd05G4WwPqYuWfEahbAGP6MFfVXFsASLIDtJS0WwJPtynFJEhbAfo2FVTj0FcDy+HjEmeQVwDxR2gbzzBXAxkHOBsngFcBf+WZkO50VwCQpZqfPpxXA4i0j76uVFcCb4JFfaJIVwOusZrFahRXApt1sOGF5FcCO+o96Nn8VwGdSpz4VmBXAr8MOV5aGFcAEuxRSaaIVwBypGQ13zhXAFyjolZLLFcB186am9b4VwP5Ft/zZ3BXAtVUPVyMDFsDFZBZRSysWwOvQsWrNQxbA/gxayVZTFsCwQkWpPoYWwMWQRTQizBbAeGVLu2r6FsCI2HVbBCQXwHCh7MOtXhfAIKkRynKUF8DoiC90arcXwALe468qExjAMDenRvsTGMCQiVfI1FcYwCYfmfyvqhjAUlmrp9a4GMDN3Gn1r/IYwGtZCsMmNxnAHOUwxaSTGcBrOTB6gLwZwEhGCHfN+xnAZNn/03ccGsDzXR4qyGcawLp+V8SXnBrAhbSu0ET/GsC3O/lYN0wbwD435XnMmxvA7M3z+IEaHMDRLBiTvoocwAgNPls11hzA2ZF8NsM5HcAZriUKAHwdwIHGamrakBHAVPNnHXujC8Cpt1ezEVoQwNH7PBbKnhnA9shYknc1IcDJWDjvXrgXwC8g5qxlDiDAOTSpxSNmFcBcPddatGYYwBP2YERSlxvAaJioWt2aEMDfg2L8UOAJwMTx3PuKm/u/axYbRaHkEMCzFLd2pi4CwBcEvLISKeO/hyreLfC+C8A7YC3M4qUQwDuX7eEhQvW/ps3UPPO+9T8=",
          "dtype": "f8"
         }
        },
        {
         "line": {
          "dash": "dash"
         },
         "mode": "lines",
         "type": "scatter",
         "x": {
          "bdata": "8ADxAPIA8wD0APUA9gD3APgA+QD6APsA/AD9AP4A/wAAAQEBAgEDAQQBBQEGAQcBCAE=",
          "dtype": "i2"
         },
         "y": {
          "bdata": "7T7VYWnV5L+O5e/xVcfxvwAAAAAAAAAAAAAAAAAAAAAAAAAAAAAAAHLoz+utx/4/0AiHR3G4BkCZedwiGLkBQF5nh2lQE6I/qkln3IFjAsBmM6/btRXMP3df7Yethfy/xfijfrT97T9ovmkVgCnFP+yDkn4/TeG/5JsEWi/nAED0WoEYXtkHQLvGX7c8xRFAbO2p6vMhAEDtcUkh8ZUPQKTSSMJBZRZAovIG6IYkBkAkM/nHdrYAQMbmqiRSNRRA7Pu32WlYHkA=",
          "dtype": "f8"
         }
        }
       ],
       "layout": {
        "template": {
         "data": {
          "bar": [
           {
            "error_x": {
             "color": "#2a3f5f"
            },
            "error_y": {
             "color": "#2a3f5f"
            },
            "marker": {
             "line": {
              "color": "#E5ECF6",
              "width": 0.5
             },
             "pattern": {
              "fillmode": "overlay",
              "size": 10,
              "solidity": 0.2
             }
            },
            "type": "bar"
           }
          ],
          "barpolar": [
           {
            "marker": {
             "line": {
              "color": "#E5ECF6",
              "width": 0.5
             },
             "pattern": {
              "fillmode": "overlay",
              "size": 10,
              "solidity": 0.2
             }
            },
            "type": "barpolar"
           }
          ],
          "carpet": [
           {
            "aaxis": {
             "endlinecolor": "#2a3f5f",
             "gridcolor": "white",
             "linecolor": "white",
             "minorgridcolor": "white",
             "startlinecolor": "#2a3f5f"
            },
            "baxis": {
             "endlinecolor": "#2a3f5f",
             "gridcolor": "white",
             "linecolor": "white",
             "minorgridcolor": "white",
             "startlinecolor": "#2a3f5f"
            },
            "type": "carpet"
           }
          ],
          "choropleth": [
           {
            "colorbar": {
             "outlinewidth": 0,
             "ticks": ""
            },
            "type": "choropleth"
           }
          ],
          "contour": [
           {
            "colorbar": {
             "outlinewidth": 0,
             "ticks": ""
            },
            "colorscale": [
             [
              0,
              "#0d0887"
             ],
             [
              0.1111111111111111,
              "#46039f"
             ],
             [
              0.2222222222222222,
              "#7201a8"
             ],
             [
              0.3333333333333333,
              "#9c179e"
             ],
             [
              0.4444444444444444,
              "#bd3786"
             ],
             [
              0.5555555555555556,
              "#d8576b"
             ],
             [
              0.6666666666666666,
              "#ed7953"
             ],
             [
              0.7777777777777778,
              "#fb9f3a"
             ],
             [
              0.8888888888888888,
              "#fdca26"
             ],
             [
              1,
              "#f0f921"
             ]
            ],
            "type": "contour"
           }
          ],
          "contourcarpet": [
           {
            "colorbar": {
             "outlinewidth": 0,
             "ticks": ""
            },
            "type": "contourcarpet"
           }
          ],
          "heatmap": [
           {
            "colorbar": {
             "outlinewidth": 0,
             "ticks": ""
            },
            "colorscale": [
             [
              0,
              "#0d0887"
             ],
             [
              0.1111111111111111,
              "#46039f"
             ],
             [
              0.2222222222222222,
              "#7201a8"
             ],
             [
              0.3333333333333333,
              "#9c179e"
             ],
             [
              0.4444444444444444,
              "#bd3786"
             ],
             [
              0.5555555555555556,
              "#d8576b"
             ],
             [
              0.6666666666666666,
              "#ed7953"
             ],
             [
              0.7777777777777778,
              "#fb9f3a"
             ],
             [
              0.8888888888888888,
              "#fdca26"
             ],
             [
              1,
              "#f0f921"
             ]
            ],
            "type": "heatmap"
           }
          ],
          "histogram": [
           {
            "marker": {
             "pattern": {
              "fillmode": "overlay",
              "size": 10,
              "solidity": 0.2
             }
            },
            "type": "histogram"
           }
          ],
          "histogram2d": [
           {
            "colorbar": {
             "outlinewidth": 0,
             "ticks": ""
            },
            "colorscale": [
             [
              0,
              "#0d0887"
             ],
             [
              0.1111111111111111,
              "#46039f"
             ],
             [
              0.2222222222222222,
              "#7201a8"
             ],
             [
              0.3333333333333333,
              "#9c179e"
             ],
             [
              0.4444444444444444,
              "#bd3786"
             ],
             [
              0.5555555555555556,
              "#d8576b"
             ],
             [
              0.6666666666666666,
              "#ed7953"
             ],
             [
              0.7777777777777778,
              "#fb9f3a"
             ],
             [
              0.8888888888888888,
              "#fdca26"
             ],
             [
              1,
              "#f0f921"
             ]
            ],
            "type": "histogram2d"
           }
          ],
          "histogram2dcontour": [
           {
            "colorbar": {
             "outlinewidth": 0,
             "ticks": ""
            },
            "colorscale": [
             [
              0,
              "#0d0887"
             ],
             [
              0.1111111111111111,
              "#46039f"
             ],
             [
              0.2222222222222222,
              "#7201a8"
             ],
             [
              0.3333333333333333,
              "#9c179e"
             ],
             [
              0.4444444444444444,
              "#bd3786"
             ],
             [
              0.5555555555555556,
              "#d8576b"
             ],
             [
              0.6666666666666666,
              "#ed7953"
             ],
             [
              0.7777777777777778,
              "#fb9f3a"
             ],
             [
              0.8888888888888888,
              "#fdca26"
             ],
             [
              1,
              "#f0f921"
             ]
            ],
            "type": "histogram2dcontour"
           }
          ],
          "mesh3d": [
           {
            "colorbar": {
             "outlinewidth": 0,
             "ticks": ""
            },
            "type": "mesh3d"
           }
          ],
          "parcoords": [
           {
            "line": {
             "colorbar": {
              "outlinewidth": 0,
              "ticks": ""
             }
            },
            "type": "parcoords"
           }
          ],
          "pie": [
           {
            "automargin": true,
            "type": "pie"
           }
          ],
          "scatter": [
           {
            "fillpattern": {
             "fillmode": "overlay",
             "size": 10,
             "solidity": 0.2
            },
            "type": "scatter"
           }
          ],
          "scatter3d": [
           {
            "line": {
             "colorbar": {
              "outlinewidth": 0,
              "ticks": ""
             }
            },
            "marker": {
             "colorbar": {
              "outlinewidth": 0,
              "ticks": ""
             }
            },
            "type": "scatter3d"
           }
          ],
          "scattercarpet": [
           {
            "marker": {
             "colorbar": {
              "outlinewidth": 0,
              "ticks": ""
             }
            },
            "type": "scattercarpet"
           }
          ],
          "scattergeo": [
           {
            "marker": {
             "colorbar": {
              "outlinewidth": 0,
              "ticks": ""
             }
            },
            "type": "scattergeo"
           }
          ],
          "scattergl": [
           {
            "marker": {
             "colorbar": {
              "outlinewidth": 0,
              "ticks": ""
             }
            },
            "type": "scattergl"
           }
          ],
          "scattermap": [
           {
            "marker": {
             "colorbar": {
              "outlinewidth": 0,
              "ticks": ""
             }
            },
            "type": "scattermap"
           }
          ],
          "scattermapbox": [
           {
            "marker": {
             "colorbar": {
              "outlinewidth": 0,
              "ticks": ""
             }
            },
            "type": "scattermapbox"
           }
          ],
          "scatterpolar": [
           {
            "marker": {
             "colorbar": {
              "outlinewidth": 0,
              "ticks": ""
             }
            },
            "type": "scatterpolar"
           }
          ],
          "scatterpolargl": [
           {
            "marker": {
             "colorbar": {
              "outlinewidth": 0,
              "ticks": ""
             }
            },
            "type": "scatterpolargl"
           }
          ],
          "scatterternary": [
           {
            "marker": {
             "colorbar": {
              "outlinewidth": 0,
              "ticks": ""
             }
            },
            "type": "scatterternary"
           }
          ],
          "surface": [
           {
            "colorbar": {
             "outlinewidth": 0,
             "ticks": ""
            },
            "colorscale": [
             [
              0,
              "#0d0887"
             ],
             [
              0.1111111111111111,
              "#46039f"
             ],
             [
              0.2222222222222222,
              "#7201a8"
             ],
             [
              0.3333333333333333,
              "#9c179e"
             ],
             [
              0.4444444444444444,
              "#bd3786"
             ],
             [
              0.5555555555555556,
              "#d8576b"
             ],
             [
              0.6666666666666666,
              "#ed7953"
             ],
             [
              0.7777777777777778,
              "#fb9f3a"
             ],
             [
              0.8888888888888888,
              "#fdca26"
             ],
             [
              1,
              "#f0f921"
             ]
            ],
            "type": "surface"
           }
          ],
          "table": [
           {
            "cells": {
             "fill": {
              "color": "#EBF0F8"
             },
             "line": {
              "color": "white"
             }
            },
            "header": {
             "fill": {
              "color": "#C8D4E3"
             },
             "line": {
              "color": "white"
             }
            },
            "type": "table"
           }
          ]
         },
         "layout": {
          "annotationdefaults": {
           "arrowcolor": "#2a3f5f",
           "arrowhead": 0,
           "arrowwidth": 1
          },
          "autotypenumbers": "strict",
          "coloraxis": {
           "colorbar": {
            "outlinewidth": 0,
            "ticks": ""
           }
          },
          "colorscale": {
           "diverging": [
            [
             0,
             "#8e0152"
            ],
            [
             0.1,
             "#c51b7d"
            ],
            [
             0.2,
             "#de77ae"
            ],
            [
             0.3,
             "#f1b6da"
            ],
            [
             0.4,
             "#fde0ef"
            ],
            [
             0.5,
             "#f7f7f7"
            ],
            [
             0.6,
             "#e6f5d0"
            ],
            [
             0.7,
             "#b8e186"
            ],
            [
             0.8,
             "#7fbc41"
            ],
            [
             0.9,
             "#4d9221"
            ],
            [
             1,
             "#276419"
            ]
           ],
           "sequential": [
            [
             0,
             "#0d0887"
            ],
            [
             0.1111111111111111,
             "#46039f"
            ],
            [
             0.2222222222222222,
             "#7201a8"
            ],
            [
             0.3333333333333333,
             "#9c179e"
            ],
            [
             0.4444444444444444,
             "#bd3786"
            ],
            [
             0.5555555555555556,
             "#d8576b"
            ],
            [
             0.6666666666666666,
             "#ed7953"
            ],
            [
             0.7777777777777778,
             "#fb9f3a"
            ],
            [
             0.8888888888888888,
             "#fdca26"
            ],
            [
             1,
             "#f0f921"
            ]
           ],
           "sequentialminus": [
            [
             0,
             "#0d0887"
            ],
            [
             0.1111111111111111,
             "#46039f"
            ],
            [
             0.2222222222222222,
             "#7201a8"
            ],
            [
             0.3333333333333333,
             "#9c179e"
            ],
            [
             0.4444444444444444,
             "#bd3786"
            ],
            [
             0.5555555555555556,
             "#d8576b"
            ],
            [
             0.6666666666666666,
             "#ed7953"
            ],
            [
             0.7777777777777778,
             "#fb9f3a"
            ],
            [
             0.8888888888888888,
             "#fdca26"
            ],
            [
             1,
             "#f0f921"
            ]
           ]
          },
          "colorway": [
           "#636efa",
           "#EF553B",
           "#00cc96",
           "#ab63fa",
           "#FFA15A",
           "#19d3f3",
           "#FF6692",
           "#B6E880",
           "#FF97FF",
           "#FECB52"
          ],
          "font": {
           "color": "#2a3f5f"
          },
          "geo": {
           "bgcolor": "white",
           "lakecolor": "white",
           "landcolor": "#E5ECF6",
           "showlakes": true,
           "showland": true,
           "subunitcolor": "white"
          },
          "hoverlabel": {
           "align": "left"
          },
          "hovermode": "closest",
          "mapbox": {
           "style": "light"
          },
          "paper_bgcolor": "white",
          "plot_bgcolor": "#E5ECF6",
          "polar": {
           "angularaxis": {
            "gridcolor": "white",
            "linecolor": "white",
            "ticks": ""
           },
           "bgcolor": "#E5ECF6",
           "radialaxis": {
            "gridcolor": "white",
            "linecolor": "white",
            "ticks": ""
           }
          },
          "scene": {
           "xaxis": {
            "backgroundcolor": "#E5ECF6",
            "gridcolor": "white",
            "gridwidth": 2,
            "linecolor": "white",
            "showbackground": true,
            "ticks": "",
            "zerolinecolor": "white"
           },
           "yaxis": {
            "backgroundcolor": "#E5ECF6",
            "gridcolor": "white",
            "gridwidth": 2,
            "linecolor": "white",
            "showbackground": true,
            "ticks": "",
            "zerolinecolor": "white"
           },
           "zaxis": {
            "backgroundcolor": "#E5ECF6",
            "gridcolor": "white",
            "gridwidth": 2,
            "linecolor": "white",
            "showbackground": true,
            "ticks": "",
            "zerolinecolor": "white"
           }
          },
          "shapedefaults": {
           "line": {
            "color": "#2a3f5f"
           }
          },
          "ternary": {
           "aaxis": {
            "gridcolor": "white",
            "linecolor": "white",
            "ticks": ""
           },
           "baxis": {
            "gridcolor": "white",
            "linecolor": "white",
            "ticks": ""
           },
           "bgcolor": "#E5ECF6",
           "caxis": {
            "gridcolor": "white",
            "linecolor": "white",
            "ticks": ""
           }
          },
          "title": {
           "x": 0.05
          },
          "xaxis": {
           "automargin": true,
           "gridcolor": "white",
           "linecolor": "white",
           "ticks": "",
           "title": {
            "standoff": 15
           },
           "zerolinecolor": "white",
           "zerolinewidth": 2
          },
          "yaxis": {
           "automargin": true,
           "gridcolor": "white",
           "linecolor": "white",
           "ticks": "",
           "title": {
            "standoff": 15
           },
           "zerolinecolor": "white",
           "zerolinewidth": 2
          }
         }
        },
        "title": {
         "text": "preamble+data unwrap phase"
        }
       }
      }
     },
     "metadata": {},
     "output_type": "display_data"
    },
    {
     "data": {
      "application/vnd.plotly.v1+json": {
       "config": {
        "plotlyServerURL": "https://plot.ly"
       },
       "data": [
        {
         "mode": "lines",
         "type": "scatter",
         "x": {
          "bdata": "AAABAAIAAwAEAAUABgAHAAgACQAKAAsADAANAA4ADwAQABEAEgATABQAFQAWABcAGAAZABoAGwAcAB0AHgAfACAAIQAiACMAJAAlACYAJwAoACkAKgArACwALQAuAC8AMAAxADIAMwA0ADUANgA3ADgAOQA6ADsAPAA9AD4APwBAAEEAQgBDAEQARQBGAEcASABJAEoASwBMAE0ATgBPAFAAUQBSAFMAVABVAFYAVwBYAFkAWgBbAFwAXQBeAF8AYABhAGIAYwBkAGUAZgBnAGgAaQBqAGsAbABtAG4AbwBwAHEAcgBzAHQAdQB2AHcAeAB5AHoAewB8AH0AfgB/AIAAgQCCAIMAhACFAIYAhwCIAIkAigCLAIwAjQCOAI8AkACRAJIAkwCUAJUAlgCXAJgAmQCaAJsAnACdAJ4AnwCgAKEAogCjAKQApQCmAKcAqACpAKoAqwCsAK0ArgCvALAAsQCyALMAtAC1ALYAtwC4ALkAugC7ALwAvQC+AL8AwADBAMIAwwDEAMUAxgDHAMgAyQDKAMsAzADNAM4AzwDQANEA0gDTANQA1QDWANcA2ADZANoA2wDcAN0A3gDfAOAA4QDiAOMA5ADlAOYA5wDoAOkA6gDrAOwA7QDuAO8A8ADxAPIA8wD0APUA9gD3APgA+QD6APsA/AD9AP4A/wAAAQEBAgEDAQQBBQEGAQcBCAE=",
          "dtype": "i2"
         },
         "y": {
          "bdata": "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",
          "dtype": "f8"
         }
        }
       ],
       "layout": {
        "template": {
         "data": {
          "bar": [
           {
            "error_x": {
             "color": "#2a3f5f"
            },
            "error_y": {
             "color": "#2a3f5f"
            },
            "marker": {
             "line": {
              "color": "#E5ECF6",
              "width": 0.5
             },
             "pattern": {
              "fillmode": "overlay",
              "size": 10,
              "solidity": 0.2
             }
            },
            "type": "bar"
           }
          ],
          "barpolar": [
           {
            "marker": {
             "line": {
              "color": "#E5ECF6",
              "width": 0.5
             },
             "pattern": {
              "fillmode": "overlay",
              "size": 10,
              "solidity": 0.2
             }
            },
            "type": "barpolar"
           }
          ],
          "carpet": [
           {
            "aaxis": {
             "endlinecolor": "#2a3f5f",
             "gridcolor": "white",
             "linecolor": "white",
             "minorgridcolor": "white",
             "startlinecolor": "#2a3f5f"
            },
            "baxis": {
             "endlinecolor": "#2a3f5f",
             "gridcolor": "white",
             "linecolor": "white",
             "minorgridcolor": "white",
             "startlinecolor": "#2a3f5f"
            },
            "type": "carpet"
           }
          ],
          "choropleth": [
           {
            "colorbar": {
             "outlinewidth": 0,
             "ticks": ""
            },
            "type": "choropleth"
           }
          ],
          "contour": [
           {
            "colorbar": {
             "outlinewidth": 0,
             "ticks": ""
            },
            "colorscale": [
             [
              0,
              "#0d0887"
             ],
             [
              0.1111111111111111,
              "#46039f"
             ],
             [
              0.2222222222222222,
              "#7201a8"
             ],
             [
              0.3333333333333333,
              "#9c179e"
             ],
             [
              0.4444444444444444,
              "#bd3786"
             ],
             [
              0.5555555555555556,
              "#d8576b"
             ],
             [
              0.6666666666666666,
              "#ed7953"
             ],
             [
              0.7777777777777778,
              "#fb9f3a"
             ],
             [
              0.8888888888888888,
              "#fdca26"
             ],
             [
              1,
              "#f0f921"
             ]
            ],
            "type": "contour"
           }
          ],
          "contourcarpet": [
           {
            "colorbar": {
             "outlinewidth": 0,
             "ticks": ""
            },
            "type": "contourcarpet"
           }
          ],
          "heatmap": [
           {
            "colorbar": {
             "outlinewidth": 0,
             "ticks": ""
            },
            "colorscale": [
             [
              0,
              "#0d0887"
             ],
             [
              0.1111111111111111,
              "#46039f"
             ],
             [
              0.2222222222222222,
              "#7201a8"
             ],
             [
              0.3333333333333333,
              "#9c179e"
             ],
             [
              0.4444444444444444,
              "#bd3786"
             ],
             [
              0.5555555555555556,
              "#d8576b"
             ],
             [
              0.6666666666666666,
              "#ed7953"
             ],
             [
              0.7777777777777778,
              "#fb9f3a"
             ],
             [
              0.8888888888888888,
              "#fdca26"
             ],
             [
              1,
              "#f0f921"
             ]
            ],
            "type": "heatmap"
           }
          ],
          "histogram": [
           {
            "marker": {
             "pattern": {
              "fillmode": "overlay",
              "size": 10,
              "solidity": 0.2
             }
            },
            "type": "histogram"
           }
          ],
          "histogram2d": [
           {
            "colorbar": {
             "outlinewidth": 0,
             "ticks": ""
            },
            "colorscale": [
             [
              0,
              "#0d0887"
             ],
             [
              0.1111111111111111,
              "#46039f"
             ],
             [
              0.2222222222222222,
              "#7201a8"
             ],
             [
              0.3333333333333333,
              "#9c179e"
             ],
             [
              0.4444444444444444,
              "#bd3786"
             ],
             [
              0.5555555555555556,
              "#d8576b"
             ],
             [
              0.6666666666666666,
              "#ed7953"
             ],
             [
              0.7777777777777778,
              "#fb9f3a"
             ],
             [
              0.8888888888888888,
              "#fdca26"
             ],
             [
              1,
              "#f0f921"
             ]
            ],
            "type": "histogram2d"
           }
          ],
          "histogram2dcontour": [
           {
            "colorbar": {
             "outlinewidth": 0,
             "ticks": ""
            },
            "colorscale": [
             [
              0,
              "#0d0887"
             ],
             [
              0.1111111111111111,
              "#46039f"
             ],
             [
              0.2222222222222222,
              "#7201a8"
             ],
             [
              0.3333333333333333,
              "#9c179e"
             ],
             [
              0.4444444444444444,
              "#bd3786"
             ],
             [
              0.5555555555555556,
              "#d8576b"
             ],
             [
              0.6666666666666666,
              "#ed7953"
             ],
             [
              0.7777777777777778,
              "#fb9f3a"
             ],
             [
              0.8888888888888888,
              "#fdca26"
             ],
             [
              1,
              "#f0f921"
             ]
            ],
            "type": "histogram2dcontour"
           }
          ],
          "mesh3d": [
           {
            "colorbar": {
             "outlinewidth": 0,
             "ticks": ""
            },
            "type": "mesh3d"
           }
          ],
          "parcoords": [
           {
            "line": {
             "colorbar": {
              "outlinewidth": 0,
              "ticks": ""
             }
            },
            "type": "parcoords"
           }
          ],
          "pie": [
           {
            "automargin": true,
            "type": "pie"
           }
          ],
          "scatter": [
           {
            "fillpattern": {
             "fillmode": "overlay",
             "size": 10,
             "solidity": 0.2
            },
            "type": "scatter"
           }
          ],
          "scatter3d": [
           {
            "line": {
             "colorbar": {
              "outlinewidth": 0,
              "ticks": ""
             }
            },
            "marker": {
             "colorbar": {
              "outlinewidth": 0,
              "ticks": ""
             }
            },
            "type": "scatter3d"
           }
          ],
          "scattercarpet": [
           {
            "marker": {
             "colorbar": {
              "outlinewidth": 0,
              "ticks": ""
             }
            },
            "type": "scattercarpet"
           }
          ],
          "scattergeo": [
           {
            "marker": {
             "colorbar": {
              "outlinewidth": 0,
              "ticks": ""
             }
            },
            "type": "scattergeo"
           }
          ],
          "scattergl": [
           {
            "marker": {
             "colorbar": {
              "outlinewidth": 0,
              "ticks": ""
             }
            },
            "type": "scattergl"
           }
          ],
          "scattermap": [
           {
            "marker": {
             "colorbar": {
              "outlinewidth": 0,
              "ticks": ""
             }
            },
            "type": "scattermap"
           }
          ],
          "scattermapbox": [
           {
            "marker": {
             "colorbar": {
              "outlinewidth": 0,
              "ticks": ""
             }
            },
            "type": "scattermapbox"
           }
          ],
          "scatterpolar": [
           {
            "marker": {
             "colorbar": {
              "outlinewidth": 0,
              "ticks": ""
             }
            },
            "type": "scatterpolar"
           }
          ],
          "scatterpolargl": [
           {
            "marker": {
             "colorbar": {
              "outlinewidth": 0,
              "ticks": ""
             }
            },
            "type": "scatterpolargl"
           }
          ],
          "scatterternary": [
           {
            "marker": {
             "colorbar": {
              "outlinewidth": 0,
              "ticks": ""
             }
            },
            "type": "scatterternary"
           }
          ],
          "surface": [
           {
            "colorbar": {
             "outlinewidth": 0,
             "ticks": ""
            },
            "colorscale": [
             [
              0,
              "#0d0887"
             ],
             [
              0.1111111111111111,
              "#46039f"
             ],
             [
              0.2222222222222222,
              "#7201a8"
             ],
             [
              0.3333333333333333,
              "#9c179e"
             ],
             [
              0.4444444444444444,
              "#bd3786"
             ],
             [
              0.5555555555555556,
              "#d8576b"
             ],
             [
              0.6666666666666666,
              "#ed7953"
             ],
             [
              0.7777777777777778,
              "#fb9f3a"
             ],
             [
              0.8888888888888888,
              "#fdca26"
             ],
             [
              1,
              "#f0f921"
             ]
            ],
            "type": "surface"
           }
          ],
          "table": [
           {
            "cells": {
             "fill": {
              "color": "#EBF0F8"
             },
             "line": {
              "color": "white"
             }
            },
            "header": {
             "fill": {
              "color": "#C8D4E3"
             },
             "line": {
              "color": "white"
             }
            },
            "type": "table"
           }
          ]
         },
         "layout": {
          "annotationdefaults": {
           "arrowcolor": "#2a3f5f",
           "arrowhead": 0,
           "arrowwidth": 1
          },
          "autotypenumbers": "strict",
          "coloraxis": {
           "colorbar": {
            "outlinewidth": 0,
            "ticks": ""
           }
          },
          "colorscale": {
           "diverging": [
            [
             0,
             "#8e0152"
            ],
            [
             0.1,
             "#c51b7d"
            ],
            [
             0.2,
             "#de77ae"
            ],
            [
             0.3,
             "#f1b6da"
            ],
            [
             0.4,
             "#fde0ef"
            ],
            [
             0.5,
             "#f7f7f7"
            ],
            [
             0.6,
             "#e6f5d0"
            ],
            [
             0.7,
             "#b8e186"
            ],
            [
             0.8,
             "#7fbc41"
            ],
            [
             0.9,
             "#4d9221"
            ],
            [
             1,
             "#276419"
            ]
           ],
           "sequential": [
            [
             0,
             "#0d0887"
            ],
            [
             0.1111111111111111,
             "#46039f"
            ],
            [
             0.2222222222222222,
             "#7201a8"
            ],
            [
             0.3333333333333333,
             "#9c179e"
            ],
            [
             0.4444444444444444,
             "#bd3786"
            ],
            [
             0.5555555555555556,
             "#d8576b"
            ],
            [
             0.6666666666666666,
             "#ed7953"
            ],
            [
             0.7777777777777778,
             "#fb9f3a"
            ],
            [
             0.8888888888888888,
             "#fdca26"
            ],
            [
             1,
             "#f0f921"
            ]
           ],
           "sequentialminus": [
            [
             0,
             "#0d0887"
            ],
            [
             0.1111111111111111,
             "#46039f"
            ],
            [
             0.2222222222222222,
             "#7201a8"
            ],
            [
             0.3333333333333333,
             "#9c179e"
            ],
            [
             0.4444444444444444,
             "#bd3786"
            ],
            [
             0.5555555555555556,
             "#d8576b"
            ],
            [
             0.6666666666666666,
             "#ed7953"
            ],
            [
             0.7777777777777778,
             "#fb9f3a"
            ],
            [
             0.8888888888888888,
             "#fdca26"
            ],
            [
             1,
             "#f0f921"
            ]
           ]
          },
          "colorway": [
           "#636efa",
           "#EF553B",
           "#00cc96",
           "#ab63fa",
           "#FFA15A",
           "#19d3f3",
           "#FF6692",
           "#B6E880",
           "#FF97FF",
           "#FECB52"
          ],
          "font": {
           "color": "#2a3f5f"
          },
          "geo": {
           "bgcolor": "white",
           "lakecolor": "white",
           "landcolor": "#E5ECF6",
           "showlakes": true,
           "showland": true,
           "subunitcolor": "white"
          },
          "hoverlabel": {
           "align": "left"
          },
          "hovermode": "closest",
          "mapbox": {
           "style": "light"
          },
          "paper_bgcolor": "white",
          "plot_bgcolor": "#E5ECF6",
          "polar": {
           "angularaxis": {
            "gridcolor": "white",
            "linecolor": "white",
            "ticks": ""
           },
           "bgcolor": "#E5ECF6",
           "radialaxis": {
            "gridcolor": "white",
            "linecolor": "white",
            "ticks": ""
           }
          },
          "scene": {
           "xaxis": {
            "backgroundcolor": "#E5ECF6",
            "gridcolor": "white",
            "gridwidth": 2,
            "linecolor": "white",
            "showbackground": true,
            "ticks": "",
            "zerolinecolor": "white"
           },
           "yaxis": {
            "backgroundcolor": "#E5ECF6",
            "gridcolor": "white",
            "gridwidth": 2,
            "linecolor": "white",
            "showbackground": true,
            "ticks": "",
            "zerolinecolor": "white"
           },
           "zaxis": {
            "backgroundcolor": "#E5ECF6",
            "gridcolor": "white",
            "gridwidth": 2,
            "linecolor": "white",
            "showbackground": true,
            "ticks": "",
            "zerolinecolor": "white"
           }
          },
          "shapedefaults": {
           "line": {
            "color": "#2a3f5f"
           }
          },
          "ternary": {
           "aaxis": {
            "gridcolor": "white",
            "linecolor": "white",
            "ticks": ""
           },
           "baxis": {
            "gridcolor": "white",
            "linecolor": "white",
            "ticks": ""
           },
           "bgcolor": "#E5ECF6",
           "caxis": {
            "gridcolor": "white",
            "linecolor": "white",
            "ticks": ""
           }
          },
          "title": {
           "x": 0.05
          },
          "xaxis": {
           "automargin": true,
           "gridcolor": "white",
           "linecolor": "white",
           "ticks": "",
           "title": {
            "standoff": 15
           },
           "zerolinecolor": "white",
           "zerolinewidth": 2
          },
          "yaxis": {
           "automargin": true,
           "gridcolor": "white",
           "linecolor": "white",
           "ticks": "",
           "title": {
            "standoff": 15
           },
           "zerolinecolor": "white",
           "zerolinewidth": 2
          }
         }
        },
        "title": {
         "text": "preamble+data powers"
        }
       }
      }
     },
     "metadata": {},
     "output_type": "display_data"
    }
   ],
   "source": [
    "\n",
    "codes[Config.preamble_len] = 8\n",
    "codes[Config.preamble_len + 1] = 16 ## TODO\n",
    "betai = Config.bw / ((2 ** Config.sf) / Config.bw) * xp.pi # frequency slope to phase 2d slope, *pi\n",
    "for pidx in range(Config.total_len):\n",
    "    code = codes[pidx]\n",
    "    if pidx >= Config.sfdend:\n",
    "        estcoef_this = xp.polyval(estcoef, pidx - 0.75)\n",
    "    else:\n",
    "        estcoef_this = xp.polyval(estcoef, pidx)\n",
    "\n",
    "    estbw = Config.bw * (1 + estcoef_this / Config.sig_freq)\n",
    "\n",
    "    if pidx >= Config.sfdend:\n",
    "        tstart = xp.polyval(coeff_time, pidx - 0.75)\n",
    "    else:\n",
    "        tstart = xp.polyval(coeff_time, pidx)\n",
    "    if pidx >= Config.sfdpos and pidx < Config.sfdend:\n",
    "        beta1 = - betai * (1 + 2 * estcoef_this / Config.sig_freq) # beta1 = bw * pi\n",
    "        beta2 = 2 * xp.pi * (xp.polyval(estcoef, pidx) + estbw * (code / Config.n_classes + 0.5)) - tstart * 2 * beta1 # freq at tstart = polyval(estcoef, pidx) - estbw/2 + estbw * (code / 2^sf-0.5)\n",
    "    else:\n",
    "        beta1 = betai * (1 + 2 * estcoef_this / Config.sig_freq) # beta1 = bw * pi\n",
    "        beta2 = 2 * xp.pi * (xp.polyval(estcoef, pidx) + estbw * (code / Config.n_classes - 0.5)) - tstart * 2 * beta1 # freq at tstart = polyval(estcoef, pidx) - estbw/2 + estbw * (code / 2^sf-0.5)\n",
    "    coef2d_est2 = xp.array([to_scalar(beta1), to_scalar(beta2), 0])\n",
    "    coef2d_est2_2d = xp.polyval(coef2d_est2, tstart) - xp.polyval(coeffitlist[1, pidx - 1], tstart)\n",
    "    coef2d_est2[2] -= coef2d_est2_2d\n",
    "    coeffitlist[0, pidx] = coef2d_est2 # continuing the last phase in coeffitlist\n",
    "    \n",
    "    # 2nd part\n",
    "    # freq at tstart = polyval(estcoef, pidx) - estbw/2 + estbw * (code / 2^sf-0.5) - estbw\n",
    "    if pidx in range(Config.preamble_len, Config.sfdpos) or pidx >= Config.sfdend:\n",
    "        beta22 = beta2 - 2 * xp.pi * estbw # 2ax+b=differential b=differential - 2 * beta1 * time\n",
    "        coef2d_est22 = xp.array([to_scalar(beta1), to_scalar(beta22), 0])\n",
    "        if pidx >= Config.sfdend:\n",
    "            tjump = xp.polyval(coeff_time, pidx + 1 - code / Config.n_classes - 0.75)\n",
    "        else:\n",
    "            tjump = xp.polyval(coeff_time, pidx + 1 - code / Config.n_classes)\n",
    "        coef2d_est22_2d = xp.polyval(coef2d_est22, tjump) - xp.polyval(coeffitlist[0, pidx], tjump)\n",
    "        coef2d_est22[2] -= coef2d_est22_2d\n",
    "        coeffitlist[1, pidx] = coef2d_est22\n",
    "    else:\n",
    "        coeffitlist[1, pidx, 0] = 0\n",
    "        coeffitlist[1, pidx, 1] = 0\n",
    "        tend = xp.polyval(coeff_time, pidx + 1)\n",
    "        if pidx == Config.sfdend - 1: tend = xp.polyval(coeff_time, pidx + 0.25) # last symbol is shorter\n",
    "        coeffitlist[1, pidx, 2] = xp.polyval(coeffitlist[0, pidx], tend) # keep continuous phase\n",
    "\n",
    "    tend = xp.polyval(coeff_time, pidx + 1)\n",
    "    if pidx == Config.sfdend - 1: tend = xp.polyval(coeff_time, pidx + 0.25) # last symbol is shorter\n",
    "    print(xp.polyval(coeffitlist[0, pidx], tstart))\n",
    "    print(xp.polyval(coeffitlist[1, pidx], tend))\n",
    "\n",
    "\n",
    "    if pidx < Config.sfdend:\n",
    "        x1 = math.ceil(xp.polyval(coeff_time, pidx) * Config.fs)\n",
    "        x2 = math.ceil(xp.polyval(coeff_time, pidx + 1) * Config.fs)\n",
    "        x3 = math.ceil(xp.polyval(coeff_time, pidx + (1 - code / 2 ** Config.sf)) * Config.fs)\n",
    "    else:\n",
    "        x1 = math.ceil(xp.polyval(coeff_time, pidx - 0.75) * Config.fs)\n",
    "        x2 = math.ceil(xp.polyval(coeff_time, pidx + 1 - 0.75) * Config.fs)\n",
    "        x3 = math.ceil(xp.polyval(coeff_time, pidx + (1 - code / 2 ** Config.sf) - 0.75) * Config.fs)\n",
    "    if pidx == Config.sfdend - 1:\n",
    "        x1 = math.ceil(xp.polyval(coeff_time, pidx) * Config.fs)\n",
    "        x2 = math.ceil(xp.polyval(coeff_time, pidx + 0.25) * Config.fs)\n",
    "        x3 = x2\n",
    "        \n",
    "    nsymbr1 = xp.arange(x1, x3)\n",
    "    tsymbr1 = nsymbr1 / Config.fs\n",
    "    sig21 = reader.get(x1, x3 - x1)\n",
    "    res2 = sig21.dot(xp.exp(-1j * xp.polyval(coef2d_est2, tsymbr1)) )\n",
    "\n",
    "    codephase[pidx] = xp.angle(res2)\n",
    "    powers[pidx] = xp.abs(res2) / xp.sum(xp.abs(sig21))\n",
    "    # print(f\"{pidx=} 1st part {code=} {xp.angle(res2)=} pow={xp.abs(res2)/xp.sum(xp.abs(sig21))}\")\n",
    "    # if pidx in [0, 120, 239, 242, 243, 244]:\n",
    "    #     pltfig1(tsymbr1, xp.angle(sig21 * xp.exp(-1j * xp.polyval(coef2d_est2, tsymbr1))), title=f\"residue {pidx=}\").show()\n",
    "\n",
    "    #     pltfig((\n",
    "    #         (tsymbr1, xp.unwrap(xp.angle(sig21))), \n",
    "    #         (tsymbr1, xp.polyval(coef2d_est2, tsymbr1) - xp.polyval(coef2d_est2, tsymbr1[0]) + xp.angle(sig21[0])),\n",
    "    #         ),\n",
    "    #         title=f\"preamble code {pidx=} {code=} fit curve coef2d_est2\").show()\n",
    "\n",
    "\n",
    "        # pltfig1(tsymbr1, xp.polyval(coef2d_est2, tsymbr1) - xp.polyval(coef2d_est2, tsymbr1[0]) + xp.angle(sig21[0]) - xp.unwrap(xp.angle(sig21)), title=f\"preamble code {pidx=} {code=} fit curve coef2d_est2\").show()\n",
    "\n",
    "    \n",
    "    if pidx in range(Config.preamble_len, Config.sfdpos) or pidx >= Config.sfdend:\n",
    "        nsymbr2 = xp.arange(x3, x2)\n",
    "        tsymbr2 = nsymbr2 / Config.fs\n",
    "        sig22 = reader.get(x3, x2 - x3)\n",
    "        res22 = sig22.dot(xp.exp(-1j * xp.polyval(coef2d_est22, tsymbr2)) )\n",
    "        codephase_secondary[pidx] = xp.angle(res22)\n",
    "        powers[pidx] = (xp.abs(res2) + xp.abs(res22)) / (xp.sum(xp.abs(sig21)) + xp.sum(xp.abs(sig22)))\n",
    "\n",
    "        tsymbr = xp.arange(x1, x2) / Config.fs\n",
    "        sig = reader.get(x1, x2 - x1)\n",
    "        # print(f\"{pidx=} 2nd part {code=} {xp.angle(res22)=} pow={xp.abs(res22)/xp.sum(xp.abs(sig22))}\")\n",
    "\n",
    "        # pltfig1(tsymbr1, xp.angle(sig21 * xp.exp(-1j * 2 * xp.pi * freq1 * tsymbr1)), title=f\"residue {pidx=}\").show()\n",
    "        # if pidx in [240, 241] or pidx in range(Config.sfdend, Config.sfdend + 2):\n",
    "        #     pltfig(((tsymbr1, xp.angle(sig21 * xp.exp(-1j * xp.polyval(coef2d_est2, tsymbr1)))),\n",
    "        #         (tsymbr2, xp.angle(sig22 * xp.exp(-1j * xp.polyval(coef2d_est22, tsymbr2))))), title=f\"residue {pidx=}\").show()\n",
    "\n",
    "        #     pltfig((\n",
    "        #         (tsymbr, xp.unwrap(xp.angle(sig))), \n",
    "        #         (tsymbr1, xp.polyval(coef2d_est2, tsymbr1) - xp.polyval(coef2d_est2, tsymbr1[0]) + xp.angle(sig21[0])),\n",
    "        #         (tsymbr2, xp.polyval(coef2d_est22, tsymbr2) - xp.polyval(coef2d_est22, tjump) + xp.polyval(coef2d_est2, tjump) - xp.polyval(coef2d_est2, tsymbr1[0]) + xp.angle(sig21[0])),\n",
    "        #         ),\n",
    "        #         title=f\"preamble code {pidx=} {code=} fit curve coef2d_est2\").show()\n",
    "\n",
    "\n",
    "            # pltfig((\n",
    "            #     (tsymbr1, xp.polyval(coef2d_est2, tsymbr1) - xp.polyval(coef2d_est2, tsymbr1[0]) + xp.angle(sig21[0]) - xp.unwrap(xp.angle(sig))[:len(tsymbr1)]),\n",
    "            #     (tsymbr2, xp.polyval(coef2d_est22, tsymbr2) - xp.polyval(coef2d_est22, tjump) + xp.polyval(coef2d_est2, tjump) - xp.polyval(coef2d_est2, tsymbr1[0]) + xp.angle(sig21[0]) - xp.unwrap(xp.angle(sig))[len(tsymbr1):]),\n",
    "            #     ),\n",
    "            #     title=f\"preamble code {pidx=} {code=} fit curve coef2d_est2\").show()\n",
    "pltfig(((xp.arange(Config.total_len), xp.unwrap(codephase[:Config.total_len])), (xp.arange(Config.preamble_len, Config.total_len), xp.unwrap(codephase_secondary[Config.preamble_len : Config.total_len]))), title=\"preamble+data unwrap phase\").show()\n",
    "pltfig1(xp.arange(Config.total_len ), powers[:Config.total_len ], title=\"preamble+data powers\").show()\n"
   ]
  },
  {
   "cell_type": "markdown",
   "id": "bfd67e2f",
   "metadata": {},
   "source": [
    "# Fit 243 244 245 Working\n"
   ]
  },
  {
   "cell_type": "code",
   "execution_count": null,
   "id": "0061efe5",
   "metadata": {},
   "outputs": [],
   "source": [
    "\n",
    "# for pidx in range(Config.preamble_len + 2, Config.preamble_len + 5):\n",
    "#     x1 = math.ceil(xp.polyval(coeff_time, pidx) * Config.fs)\n",
    "#     x2 = math.ceil(xp.polyval(coeff_time, pidx + 1) * Config.fs)\n",
    "#     if pidx == Config.preamble_len + 4:\n",
    "#         x2 = math.ceil(xp.polyval(coeff_time, pidx + 0.25) * Config.fs)\n",
    "#     sig = reader.get(x1, x2 - x1)\n",
    "#     nsymbr = xp.arange(x1, x2)\n",
    "#     tsymbr = nsymbr / Config.fs\n",
    "\n",
    "#     estcoef_this = xp.polyval(estcoef, pidx)\n",
    "#     beta1 = - betai * (1 + 2 * estcoef_this / Config.sig_freq)\n",
    "#     estbw = Config.bw * (1 + estcoef_this / Config.sig_freq)\n",
    "#     # print(f\"EEE! {Config.bw * (estcoef_this / Config.sig_freq)=}\")\n",
    "#     beta2 = 2 * xp.pi * (estcoef_this + estbw / 2) - xp.polyval(coeff_time, pidx) * 2 * beta1 # 2ax+b=differential b=differential - 2 * beta1 * time\n",
    "#     coef2d_est2 = xp.array([to_scalar(beta1), to_scalar(beta2), 0])\n",
    "\n",
    "#     tstart = xp.polyval(coeff_time, pidx)\n",
    "#     tend = xp.polyval(coeff_time, pidx + 1)\n",
    "#     if pidx == Config.preamble_len + 4:\n",
    "#         tend = xp.polyval(coeff_time, pidx + 0.25)\n",
    "#     coef2d_est2_2d = xp.polyval(coef2d_est2, tstart) - xp.polyval(coeffitlist[1, pidx - 1], tstart)\n",
    "#     coef2d_est2[2] -= coef2d_est2_2d\n",
    "#     coeffitlist[0, pidx] = coef2d_est2\n",
    "#     coeffitlist[1, pidx, -1] = coef2d_est2[-1] # share the same for continuous phase\n",
    "#     res2 = sig.dot(xp.exp(-1j * xp.polyval(coef2d_est2, tsymbr)))\n",
    "#     fig = pltfig1(tsymbr, xp.angle(sig * xp.exp(-1j * xp.polyval(coef2d_est2, tsymbr))), title=f\"residue {pidx=}\", fig=fig)\n",
    "#     codephase[pidx] = xp.angle(res2)\n",
    "#     powers[pidx] = xp.abs(res2) / xp.sum(xp.abs(sig))\n",
    "#     print(f\"Fit SFD symbol {pidx=} angle={xp.angle(res2)} pow={xp.abs(res2)/xp.sum(xp.abs(sig))}\")\n",
    "#     # pltfig1(None, xp.angle(sig * xp.exp(-1j * xp.polyval(coef2d_est2, tsymbr))), title=f\"residue {pidx=}\").show()\n",
    "#     # freq, power = optimize_1dfreq(sig * xp.exp(-1j * xp.polyval(coef2d_est2, tsymbr)), tsymbr, 0)\n",
    "#     # print(f\"EEE! {freq=} {power=}\")\n",
    "\n",
    "#     # pltfig(((tsymbr1, xp.angle(sig21 * xp.exp(-1j * xp.polyval(coef2d_est2, tsymbr1)))), (tsymbr2, xp.angle(sig22 * xp.exp(-1j * xp.polyval(coef2d_est22, tsymbr2))))), title=f\"residue {pidx=}\").show()\n",
    "\n",
    "#     # pltfig((\n",
    "#     #     (tsymbr, xp.unwrap(xp.angle(sig))), \n",
    "#     #     (tsymbr1, xp.polyval(coef2d_est2, tsymbr1) - xp.polyval(coef2d_est2, tsymbr1[0]) + xp.angle(sig21[0])),\n",
    "#     #     (tsymbr2, xp.polyval(coef2d_est22, tsymbr2) - xp.polyval(coef2d_est22, tjump) + xp.polyval(coef2d_est2, tjump) - xp.polyval(coef2d_est2, tsymbr1[0]) + xp.angle(sig21[0])),\n",
    "#     #     ),\n",
    "#     #     title=f\"preamble code {pidx=} fit curve coef2d_est2\").show()\n",
    "#     pltfig((\n",
    "#         (tsymbr, xp.unwrap(xp.angle(sig))), \n",
    "#         (tsymbr, xp.polyval(coef2d_est2, tsymbr) - xp.polyval(coef2d_est2, tsymbr[0]) + xp.angle(sig[0])),\n",
    "#         ),\n",
    "#         title=f\"SFD code {pidx=} fit curve coef2d_est2\").show()\n",
    "#     pltfig1( tsymbr, xp.unwrap(xp.angle(sig)) - (xp.polyval(coef2d_est2, tsymbr) - xp.polyval(coef2d_est2, tsymbr[0]) + xp.angle(sig[0])), title=f\"SFD code {pidx=} fit diff\").show()\n",
    "# pltfig1(None, xp.unwrap(codephase), title=\"all unwrap phase\").show()\n",
    "# pltfig1(None, powers, title=\"all powers\").show()"
   ]
  },
  {
   "cell_type": "code",
   "execution_count": null,
   "id": "13ab26ac",
   "metadata": {},
   "outputs": [],
   "source": [
    "\n",
    "# for pidx in range(Config.preamble_len + 4, Config.preamble_len + 5):\n",
    "#     x1 = math.ceil(xp.polyval(coeff_time, pidx) * Config.fs)\n",
    "#     x2 = math.ceil(xp.polyval(coeff_time, pidx + 0.25) * Config.fs)\n",
    "#     nsymbr = xp.arange(x1, x2)\n",
    "#     tsymbr = nsymbr / Config.fs\n",
    "#     sig = reader.get(x1, x2 - x1)\n",
    "\n",
    "#     estcoef_this = xp.polyval(estcoef, pidx)\n",
    "#     beta1 = - betai * (1 + 2 * estcoef_this / Config.sig_freq)\n",
    "#     estbw = Config.bw * (1 + estcoef_this / Config.sig_freq)\n",
    "#     beta2 = 2 * xp.pi * (xp.polyval(estcoef, pidx) + estbw / 2) - xp.polyval(coeff_time, pidx) * 2 * beta1 # 2ax+b=differential b=differential - 2 * beta1 * time\n",
    "#     coef2d_est2 = xp.array([to_scalar(beta1), to_scalar(beta2), 0])\n",
    "#     coef2d_est2_2d = xp.polyval(coef2d_est2, xp.polyval(coeff_time, pidx)) - xp.polyval(\n",
    "#         coeffitlist[pidx - 1], xp.polyval(coeff_time, pidx))\n",
    "#     coef2d_est2[2] -= coef2d_est2_2d\n",
    "#     cd2 = xp.angle(sig.dot(xp.exp(-1j * xp.polyval(coef2d_est2, tsymbr)) ))#!!!!!!!!!!!! TODO here we align phase for the last symbol\n",
    "#     print(f\"WARN last phase {cd2=} manually add phase compensation\")\n",
    "#     # coef2d_est2[2] += cd2\n",
    "#     # cd2 = xp.angle(sig.dot(xp.exp(-1j * xp.polyval(coef2d_est2, tsymbr)) ))#!!!!!!!!!!!! TODO here we align phase for the last symbol\n",
    "#     # assert abs(cd2) < 1e-4\n",
    "#     coeffitlist[pidx] = coef2d_est2\n",
    "#     res2 = sig.dot(xp.exp(-1j * xp.polyval(coef2d_est2, tsymbr)))\n",
    "#     codephase.append(xp.angle(res2).item())\n",
    "#     powers.append(xp.abs(res2).item() / xp.sum(xp.abs(sig)).item())\n",
    "#     fig=pltfig1(tsymbr, xp.angle(sig * xp.exp(-1j * xp.polyval(coef2d_est2, tsymbr))), title=f\"residue {pidx=}\", fig=fig)\n"
   ]
  },
  {
   "cell_type": "code",
   "execution_count": null,
   "id": "2e3ac40f",
   "metadata": {},
   "outputs": [],
   "source": []
  },
  {
   "cell_type": "code",
   "execution_count": null,
   "id": "122daa63",
   "metadata": {},
   "outputs": [],
   "source": [
    "\n",
    "# anslist = []\n",
    "# anslista = []\n",
    "# anslistb = []\n",
    "# anslist2 = []\n",
    "# anslist2a = []\n",
    "# anslist2b = []\n",
    "# for pidx in range(2, len(codephase2), 2):\n",
    "#     code = codes[pidx // 2]\n",
    "#     tmid = tstart * (code / 2 ** Config.sf) + tend * (1 - code / 2 ** Config.sf)\n",
    "#     tmid = tmid.item()\n",
    "#     ifreq1 = xp.polyval(sqlist([2 * coef2d_ests[pidx][0], coef2d_ests[pidx][1]]), tstart ) - xp.polyval(sqlist([2 * coef2d_ests[pidx - 1][0], coef2d_ests[pidx - 1][1]]), tstart )\n",
    "#     ifreq2 = xp.polyval(sqlist([2 * coef2d_ests[pidx + 1][0], coef2d_ests[pidx + 1][1]]), tmid ) - xp.polyval(sqlist([2 * coef2d_ests[pidx][0], coef2d_ests[pidx][1]]), tmid )\n",
    "#     # print(pidx, ifreq1, ifreq2)\n",
    "#     a1 = (wrap(codephase2[pidx] - codephase2[pidx - 1] - xp.pi) + xp.pi) / 2 / xp.pi / ifreq1\n",
    "#     if ifreq1 < 0: a1 = (wrap(codephase2[pidx] - codephase2[pidx - 1] + xp.pi) - xp.pi) / 2 / xp.pi / ifreq1\n",
    "#     assert a1>=0\n",
    "#     a1a = a1 + 1 / abs(ifreq1)\n",
    "#     a1b = a1 - 1 / abs(ifreq1)\n",
    "#     anslist.append(to_scalar((a1)))\n",
    "#     anslista.append(to_scalar((a1a)))\n",
    "#     anslistb.append(to_scalar((a1b)))\n",
    "#     a2 = wrap(codephase2[pidx + 1] - codephase2[pidx]) / 2 / xp.pi / ifreq2\n",
    "#     a2a = a2 + 1 / abs(ifreq2)\n",
    "#     a2b = a2 - 1 / abs(ifreq2)\n",
    "#     anslist2.append(to_scalar((a2)))\n",
    "#     anslist2a.append(to_scalar((a2a)))\n",
    "#     anslist2b.append(to_scalar((a2b)))\n",
    "\n",
    "# anslist = xp.unwrap(sqlist(anslist))\n",
    "# tdifflist = anslist\n",
    "# print(type(tdifflist))\n",
    "# fig = pltfig1(None, tdifflist)\n",
    "# fig = pltfig1(None, anslista, title=\"tdifflist\", fig=fig)\n",
    "# pltfig1(None, anslistb, title=\"tdifflista\", fig=fig).show()\n",
    "# anslist2 = xp.unwrap(sqlist(anslist2))\n",
    "# tdifflist2 = anslist2\n",
    "# fig = pltfig1(None, tdifflist2, title=\"tdifflist\")\n",
    "# fig = pltfig1(None, anslist2a, title=\"tdifflist\", fig=fig)\n",
    "# pltfig1(None, anslist2b, title=\"tdifflista\", fig=fig).show()\n",
    "\n",
    "\n",
    "# pltfig1(None, powers, title=\"powers\").show()\n",
    "# pltfig1(None, xp.unwrap(codephase), title=\"unwrap phase\").show()\n",
    "\n",
    "\n"
   ]
  }
 ],
 "metadata": {
  "kernelspec": {
   "display_name": "cupy310",
   "language": "python",
   "name": "python3"
  },
  "language_info": {
   "codemirror_mode": {
    "name": "ipython",
    "version": 3
   },
   "file_extension": ".py",
   "mimetype": "text/x-python",
   "name": "python",
   "nbconvert_exporter": "python",
   "pygments_lexer": "ipython3",
   "version": "3.10.18"
  }
 },
 "nbformat": 4,
 "nbformat_minor": 5
}
