{
 "cells": [
  {
   "cell_type": "markdown",
   "id": "4ccb4621",
   "metadata": {},
   "source": [
    "# FastDetect\n",
    "\n",
    "### Utils.py"
   ]
  },
  {
   "cell_type": "code",
   "execution_count": 1,
   "id": "f32785d4",
   "metadata": {},
   "outputs": [],
   "source": [
    "import plotly.graph_objects as go\n",
    "import os\n",
    "from scipy.optimize import minimize\n",
    "import math\n",
    "from math import ceil, floor\n",
    "import matplotlib.pyplot as plt\n",
    "import pickle\n",
    "from tqdm import tqdm\n",
    "\n",
    "USE_GPU = os.getenv(\"USE_GPU\", \"0\") == \"1\"\n",
    "\n",
    "if USE_GPU:\n",
    "    try:\n",
    "        import cupy as xp\n",
    "        import cupyx.scipy.fft as xfft\n",
    "        on_gpu = True\n",
    "\n",
    "        asnumpy = xp.asnumpy    # CuPy → NumPy\n",
    "        asarray = xp.asarray    # Python/NumPy → CuPy\n",
    "    except ImportError:\n",
    "        # fallback if cupy not installed\n",
    "        import numpy as xp\n",
    "        import scipy.fft as xfft\n",
    "        on_gpu = False\n",
    "\n",
    "        asnumpy = lambda a: a\n",
    "        asarray = xp.asarray\n",
    "else:\n",
    "    import numpy as xp\n",
    "    import scipy.fft as xfft\n",
    "    on_gpu = False\n",
    "\n",
    "    asnumpy = lambda a: a\n",
    "    asarray = xp.asarray\n",
    "\n",
    "# -------- light helpers (backend-agnostic) --------\n",
    "def wrap(x):\n",
    "    return (x + xp.pi) % (2 * xp.pi) - xp.pi\n",
    "\n",
    "def sqlist(lst):\n",
    "    return xp.array([item if isinstance(item, (int, float)) else item.item() for item in lst])\n",
    "\n",
    "def to_device(x):\n",
    "    \"\"\"Move/convert Python or NumPy data to the active backend array (CuPy on GPU, NumPy on CPU).\"\"\"\n",
    "    return asarray(x)\n",
    "\n",
    "def to_host(x):\n",
    "    \"\"\"Ensure a NumPy array on host memory (identity on CPU).\"\"\"\n",
    "    return asnumpy(x)\n",
    "\n",
    "def to_scalar(x):\n",
    "    \"\"\"Return a Python scalar if x is 0-d array/array-like; otherwise return x unchanged.\"\"\"\n",
    "    # Works for both NumPy and CuPy\n",
    "    try:\n",
    "        if getattr(x, \"shape\", None) == ():\n",
    "            return x.item()\n",
    "    except Exception:\n",
    "        pass\n",
    "    return x\n",
    "\n",
    "\n",
    "def myfft(chirp_data, n, plan):\n",
    "    if USE_GPU:\n",
    "        return xfft.fftshift(xfft.fft(chirp_data.astype(xp.complex64), n=n, plan=plan))\n",
    "    else:\n",
    "        return xfft.fftshift(xfft.fft(chirp_data.astype(xp.complex64), n=n))\n",
    "\n",
    "\n",
    "def optimize_1dfreq_fast(sig2, tsymbr, freq1, margin):\n",
    "    def obj1(freq, xdata, ydata):\n",
    "        return -xp.abs(ydata.dot(xp.exp(xdata * -1j * 2 * xp.pi * freq.item()))).item()\n",
    "    result = minimize(obj1, freq1.item(), args=(tsymbr, sig2), bounds=[(freq1 - margin, freq1 + margin)]) #!!!\n",
    "    return result.x[0], - result.fun / xp.sum(xp.abs(sig2))\n",
    "\n",
    "def to_scalar_list(lst):\n",
    "    \"\"\"Map list of numbers/0-d arrays to pure Python scalars.\"\"\"\n",
    "    out = []\n",
    "    for v in lst:\n",
    "        try:\n",
    "            if getattr(v, \"shape\", None) == ():\n",
    "                out.append(v.item())\n",
    "            else:\n",
    "                out.append(v)\n",
    "        except Exception:\n",
    "            out.append(v)\n",
    "    return out\n",
    "\n",
    "def around(x):\n",
    "    \"\"\"Round to nearest integer (works for Python num or 0-d array).\"\"\"\n",
    "    return round(float(to_scalar(x)))\n",
    "\n",
    "def optimize_1dfreq(sig2, tsymbr, freq, margin):\n",
    "    def obj1(xdata, ydata, freq):\n",
    "        return xp.abs(ydata.dot(xp.exp(-1j * 2 * xp.pi * freq * xdata)))\n",
    "\n",
    "    margin = 500\n",
    "    val = obj1(tsymbr, sig2, freq)\n",
    "    for i in range(10):\n",
    "        xvals = xp.linspace(freq - margin, freq + margin, 1001)\n",
    "        yvals = [obj1(tsymbr, sig2, f) for f in xvals]\n",
    "        yvals = sqlist(yvals)\n",
    "        freq = xvals[xp.argmax(yvals)]\n",
    "        valnew = xp.max(yvals)\n",
    "        if valnew < val * (1 - 1e-7):\n",
    "            pltfig1(xvals, yvals, addvline=(freq,), title=f\"{i=} {val=} {valnew=}\").show()\n",
    "        assert valnew >= val * (1 - 1e-7), f\"{val=} {valnew=} {i=} {val-valnew=}\"\n",
    "        if abs(valnew - val) < 1e-7: margin /= 4\n",
    "        val = valnew\n",
    "    return freq, val / xp.sum(xp.abs(sig2))\n",
    "\n",
    "def pltfig(datas, title = None, yaxisrange = None, modes = None, marker = None, addvline = None, addhline = None, line_dash = None, fig = None, line=None):\n",
    "    \"\"\"\n",
    "    Plot a figure with the given data and parameters.\n",
    "\n",
    "    Parameters:\n",
    "    datas : list of tuples\n",
    "        Each tuple contains two lists or array-like elements, the data for the x and y axes.\n",
    "        If only y data is provided, x data will be generated using xp.arange.\n",
    "    title : str, optional\n",
    "        The title of the plot (default is None).\n",
    "    yaxisrange : tuple, optional\n",
    "        The range for the y-axis as a tuple (min, max) (default is None).\n",
    "    mode : str, optional\n",
    "        The mode of the plot (e.g., 'line', 'scatter') (default is None).\n",
    "    marker : str, optional\n",
    "        The marker style for the plot (default is None).\n",
    "    addvline : float, optional\n",
    "        The x-coordinate for a vertical line (default is None).\n",
    "    addhline : float, optional\n",
    "        The y-coordinate for a horizontal line (default is None).\n",
    "    line_dash : str, optional\n",
    "        The dash style for the line (default is None).\n",
    "    fig : matplotlib.figure.Figure, optional\n",
    "        The figure object to plot on (default is None).\n",
    "    line : matplotlib.lines.Line2D, optional\n",
    "        The line object for the plot (default is None).\n",
    "\n",
    "    Returns:\n",
    "    None\n",
    "    \"\"\"\n",
    "    if fig is None: fig = go.Figure(layout_title_text=title)\n",
    "    elif title is not None: fig.update_layout(title_text=title)\n",
    "    if not all(len(data) == 2 for data in datas): datas = [(xp.arange(len(data)), data) for data in datas]\n",
    "    if modes is None:\n",
    "        modes = ['lines' for _ in datas]\n",
    "    elif isinstance(modes, str):\n",
    "        modes = [modes for _ in datas]\n",
    "    for idx, ((xdata, ydata), mode) in enumerate(zip(datas, modes)):\n",
    "        if line == None and idx == 1: line = dict(dash='dash')\n",
    "        fig.add_trace(go.Scatter(x=to_scalar_list(xdata), y=to_scalar_list(ydata), mode=mode, marker=marker, line=line))\n",
    "        assert len(to_scalar_list(xdata)) == len(to_scalar_list(ydata))\n",
    "    pltfig_hind(addhline, addvline, line_dash, fig, yaxisrange)\n",
    "    return fig\n",
    "\n",
    "\n",
    "\n",
    "def pltfig1(xdata, ydata, title = None, yaxisrange = None, mode = None, marker = None, addvline = None, addhline = None, line_dash = None, fig = None, line=None):\n",
    "    \"\"\"\n",
    "    Plot a figure with the given data and parameters.\n",
    "\n",
    "    Parameters:\n",
    "    xdata : list or array-like or None\n",
    "        The data for the x-axis.\n",
    "        If is None, and only y data is provided, x data will be generated using xp.arange.\n",
    "    ydata : list or array-like\n",
    "        The data for the y-axis.\n",
    "    title : str, optional\n",
    "        The title of the plot (default is None).\n",
    "    yaxisrange : tuple, optional\n",
    "        The range for the y-axis as a tuple (min, max) (default is None).\n",
    "    mode : str, optional\n",
    "        The mode of the plot (e.g., 'line', 'scatter') (default is None).\n",
    "    marker : str, optional\n",
    "        The marker style for the plot (default is None).\n",
    "    addvline : float, optional\n",
    "        The x-coordinate for a vertical line (default is None).\n",
    "    addhline : float, optional\n",
    "        The y-coordinate for a horizontal line (default is None).\n",
    "    line_dash : str, optional\n",
    "        The dash style for the line (default is None).\n",
    "    fig : matplotlib.figure.Figure, optional\n",
    "        The figure object to plot on (default is None).\n",
    "    line : matplotlib.lines.Line2D, optional\n",
    "        The line object for the plot (default is None).\n",
    "\n",
    "    Returns:\n",
    "    None\n",
    "    \"\"\"\n",
    "    if xdata is None: xdata = xp.arange(len(ydata))\n",
    "    if fig is None: fig = go.Figure(layout_title_text=title)\n",
    "    elif title is not None: fig.update_layout(title_text=title)\n",
    "    if mode is None: mode = 'lines'\n",
    "    fig.add_trace(go.Scatter(x=to_scalar_list(xdata), y=to_scalar_list(ydata), mode=mode, marker=marker, line=line))\n",
    "    assert len(to_scalar_list(xdata)) == len(to_scalar_list(ydata))\n",
    "    pltfig_hind(addhline, addvline, line_dash, fig, yaxisrange)\n",
    "    return fig\n",
    "\n",
    "def pltfig_hind(addhline, addvline, line_dash_in, fig, yaxisrange):\n",
    "    if yaxisrange: fig.update_layout(yaxis=dict(range=yaxisrange), )\n",
    "    if addvline is not None:\n",
    "        if line_dash_in is None:\n",
    "            line_dash = ['dash' for _ in range(len(addvline))]\n",
    "            line_dash[0] = 'dot'\n",
    "        elif isinstance(line_dash_in, str):\n",
    "            line_dash = [line_dash_in for _ in range(len(addvline))]\n",
    "        else: line_dash = line_dash_in\n",
    "        for x, ldash in zip(addvline, line_dash): fig.add_vline(x=to_scalar(x), line_dash=ldash)\n",
    "    if addhline is not None:\n",
    "        if line_dash_in is None:\n",
    "            line_dash = ['dash' for _ in range(len(addhline))]\n",
    "            line_dash[0] = 'dot'\n",
    "        elif isinstance(line_dash_in, str):\n",
    "            line_dash = [line_dash_in for _ in range(len(addhline))]\n",
    "        else: line_dash = line_dash_in\n",
    "        for y, ldash in zip(addhline, line_dash): fig.add_hline(y=to_scalar(y), line_dash=ldash)\n"
   ]
  },
  {
   "cell_type": "markdown",
   "id": "aad0b34f",
   "metadata": {},
   "source": [
    "### Config.py"
   ]
  },
  {
   "cell_type": "code",
   "execution_count": 2,
   "id": "58661402",
   "metadata": {},
   "outputs": [],
   "source": [
    "# parser = argparse.ArgumentParser()\n",
    "# parser.add_argument('--sf', type=int, default=10, help=\"Set the value of sf\")\n",
    "# args = parser.parse_args(args=[])\n",
    "\n",
    "class Config:\n",
    "    sf = 12\n",
    "    bw = 406250\n",
    "    sig_freq = 2.4e9\n",
    "    preamble_len = 240\n",
    "    payload_len = 70\n",
    "    guess_f = -40000\n",
    "    fs = 1e6\n",
    "    skip_preambles = 8\n",
    "    code_len = 2\n",
    "\n",
    "    sfdpos = preamble_len + code_len\n",
    "    sfdend = sfdpos + 2\n",
    "    total_len = sfdend + payload_len\n",
    "\n",
    "    cfo_range = bw // 4\n",
    "    n_classes = 2 ** sf\n",
    "    tsig = 2 ** sf / bw * fs  # in samples\n",
    "    nsamp = around(n_classes * fs / bw)\n",
    "    nsampf = (n_classes * fs / bw)\n",
    "\n",
    "    tstandard = xp.linspace(0, nsamp / fs, nsamp + 1)[:-1]\n",
    "    decode_matrix_a = xp.zeros((n_classes, nsamp), dtype=xp.complex64)\n",
    "    decode_matrix_b = xp.zeros((n_classes, nsamp), dtype=xp.complex64)\n",
    "\n",
    "    betai = bw / ((2 ** sf) / bw)\n",
    "    # wflag = True\n",
    "    # for code in range(n_classes):\n",
    "    #     if (code-1)%4!=0 and sf>=11 and wflag:\n",
    "    #         wflag = False\n",
    "    #         continue\n",
    "    #     nsamples = around(nsamp / n_classes * (n_classes - code))\n",
    "    #     f01 = bw * (-0.5 + code / n_classes)\n",
    "    #     refchirpc1 = xp.exp(-1j * 2 * xp.pi * (f01 * tstandard + 0.5 * betai * tstandard * tstandard))\n",
    "    #     f02 = bw * (-1.5 + code / n_classes)\n",
    "    #     refchirpc2 = xp.exp(-1j * 2 * xp.pi * (f02 * tstandard + 0.5 * betai * tstandard * tstandard))\n",
    "    #     decode_matrix_a[code, :nsamples] = refchirpc1[:nsamples]\n",
    "    #     if code > 0: decode_matrix_b[code, nsamples:] = refchirpc2[nsamples:]\n",
    "\n",
    "    detect_range_pkts = 1000 # !!! TODO\n",
    "    fft_n = int(fs)\n",
    "    if USE_GPU:\n",
    "        plan = xfft.get_fft_plan(xp.zeros(fft_n, dtype=xp.complex64))\n",
    "        plan2 = xfft.get_fft_plan(xp.zeros(nsamp, dtype=xp.complex64))\n",
    "    else:\n",
    "        plan = None\n",
    "        plan2 = None"
   ]
  },
  {
   "cell_type": "markdown",
   "id": "6facb130",
   "metadata": {},
   "source": [
    "### Reader.py"
   ]
  },
  {
   "cell_type": "code",
   "execution_count": 3,
   "id": "36e6de44",
   "metadata": {},
   "outputs": [],
   "source": [
    "\n",
    "class SlidingComplex64Reader: # TODO reader slow unbuffered\n",
    "    dtype = xp.complex64\n",
    "    itemsize = 8  # complex64\n",
    "\n",
    "    def __init__(self, file_path):\n",
    "        \"\"\"\n",
    "        Initializes the reader for a complex64 binary file.\n",
    "\n",
    "        Args:\n",
    "            file_path (str): The path to the binary file.\n",
    "        \"\"\"\n",
    "        self.file_path = file_path\n",
    "\n",
    "    def get(self, start, length):\n",
    "        \"\"\"\n",
    "        Reads a chunk of data from the file.\n",
    "\n",
    "        Args:\n",
    "            start (int): The starting index (in terms of complex64 elements).\n",
    "            length (int): The number of complex64 elements to read.\n",
    "\n",
    "        Returns:\n",
    "            xp.ndarray: An array containing the requested data.\n",
    "        \"\"\"\n",
    "        byte_start = start * self.itemsize\n",
    "        byte_length = length * self.itemsize\n",
    "\n",
    "        try:\n",
    "            with open(self.file_path, 'rb') as f:\n",
    "                f.seek(byte_start)\n",
    "                data_bytes = f.read(byte_length)\n",
    "\n",
    "            if len(data_bytes) != byte_length:\n",
    "                raise IOError(f\"Read fewer bytes than expected. Expected {byte_length}, got {len(data_bytes)}\")\n",
    "\n",
    "            # Convert the bytes to a NumPy/CuPy array\n",
    "            # Note: The .frombuffer method is efficient as it creates a view of the bytes.\n",
    "            # We then copy it to the appropriate device (CPU or GPU) if necessary.\n",
    "            data_array = xp.frombuffer(data_bytes, dtype=self.dtype)\n",
    "            return data_array\n",
    "\n",
    "        except FileNotFoundError:\n",
    "            print(f\"Error: The file '{self.file_path}' was not found.\")\n",
    "            return None\n",
    "        except Exception as e:\n",
    "            print(f\"An error occurred: {e}\")\n",
    "            return None"
   ]
  },
  {
   "cell_type": "markdown",
   "id": "bdcc3820",
   "metadata": {},
   "source": [
    "### Main: Start Running"
   ]
  },
  {
   "cell_type": "code",
   "execution_count": 4,
   "id": "9832776e",
   "metadata": {},
   "outputs": [
    {
     "name": "stdout",
     "output_type": "stream",
     "text": [
      "file_path='data/test_1226' Size in Number of symbols: 1430\n"
     ]
    }
   ],
   "source": [
    "fstart = -40971.948630148894\n",
    "tstart =  4240090.873306715\n",
    "file_path = \"data/test_1226\"\n",
    "\n",
    "file_size = os.path.getsize(file_path)\n",
    "complex64_size = xp.dtype(xp.complex64).itemsize\n",
    "assert complex64_size == 8\n",
    "print(f\"{file_path=} Size in Number of symbols: {file_size // complex64_size // Config.nsamp}\")\n",
    "\n",
    "reader = SlidingComplex64Reader(file_path)"
   ]
  },
  {
   "cell_type": "markdown",
   "id": "a850193b",
   "metadata": {},
   "source": [
    "### Fitcoef: \n",
    "\n",
    "- Polynomial fit unwrapped phase of each symbol, generating 240 quadratic coefs \n",
    "    - Does not smooth the coef results\n",
    "- Compute phase difference between neighboring symbols \n",
    "    - Difference between two coefs at the tjump (time estimations from input)\n",
    "    - Wrap into 2pi\n",
    "    - Evaluate time difference that cause this (Use BW from input guessf, dt = dphase / estBW, estBW = Bw * (1 + estF / sigF))\n",
    "    - Linear fit the time differences\n",
    "    - Return new observations of tjump as a corrected coeft (len=2)\n"
   ]
  },
  {
   "cell_type": "code",
   "execution_count": 5,
   "id": "e8255ff2",
   "metadata": {},
   "outputs": [],
   "source": [
    "def fitcoef2(coeff: xp.array, coeft: xp.array, reader: SlidingComplex64Reader):\n",
    "    betai = Config.bw / ((2 ** Config.sf) / Config.bw) * xp.pi # frequency slope to phase 2d slope, *pi\n",
    "    coeflist = []\n",
    "\n",
    "    for pidx in range(0, Config.preamble_len):\n",
    "        \n",
    "        # compute coef2d_est2: polynomial curve fitting unwrapped phase of symbol pidx\n",
    "        # time: tstart to tend\n",
    "        # frequency at tstart: - estbw * 0.5 + estf\n",
    "        estf = xp.polyval(coeff, pidx)\n",
    "        estbw = Config.bw * (1 + estf / Config.sig_freq)\n",
    "        beta1 = betai * (1 + 2 * estf / Config.sig_freq)\n",
    "        tstart = xp.polyval(coeft, pidx)\n",
    "        tend = xp.polyval(coeft, pidx + 1)\n",
    "        beta2 = 2 * xp.pi * (- estbw * 0.5 + estf) - tstart * 2 * beta1\n",
    "        coef2d_est2 = xp.array([to_scalar(beta1), to_scalar(beta2), 0])\n",
    "\n",
    "        # align 3rd parameter of coef2d_est2 to observed phase at tstart\n",
    "        nsymbr_start = math.ceil(tstart * Config.fs + Config.nsamp / 8)\n",
    "        nsymbr_end = math.ceil(tend * Config.fs - Config.nsamp / 8)\n",
    "        nsymbr = xp.arange(math.ceil(tstart * Config.fs + Config.nsamp / 8), math.ceil(tend * Config.fs - Config.nsamp / 8))\n",
    "        tsymbr = nsymbr / Config.fs\n",
    "\n",
    "        sig0 = reader.get(nsymbr_start, nsymbr_end - nsymbr_start)\n",
    "        sig1 = sig0 * xp.exp(-1j * xp.polyval(coef2d_est2, tsymbr))\n",
    "        data0 = myfft(sig1, n=Config.fft_n, plan=Config.plan)\n",
    "        freq1 = xp.fft.fftshift(xp.fft.fftfreq(Config.fft_n, d=1 / Config.fs))[xp.argmax(xp.abs(data0))]\n",
    "        freq, valnew = optimize_1dfreq_fast(sig1, tsymbr, freq1, Config.fs / Config.fft_n * 5)\n",
    "        # freqf, valnew = optimize_1dfreq(sig1, tsymbr, freq1, Config.fs / Config.fft_n * 5)\n",
    "        # print(f\"Initial freq offset: {freq1}, after FFT fit: {freq}, after precise fit: {freqf}, diff: {freqf - freq}\")\n",
    "\n",
    "        # adjust coef2d_est2[1] according to freq difference\n",
    "        coef2d_est2[1] = 2 * xp.pi * (- estbw * 0.5 + estf + freq) - tstart * 2 * beta1\n",
    "        sig2 = sig0 * xp.exp(-1j * xp.polyval(coef2d_est2, tsymbr))\n",
    "        # freq, valnew = optimize_1dfreq(sig2, tsymbr, freq1, Config.fs / Config.fft_n * 5)\n",
    "        # print(f\"{freq=} should be zero {valnew=}\")\n",
    "        coef2d_est2[2] += xp.angle(sig0.dot(xp.exp(-1j * xp.polyval(coef2d_est2, tsymbr))))\n",
    "        # print(f\"{xp.angle(sig0.dot(xp.exp(-1j * xp.polyval(coef2d_est2, tsymbr))))} should be zero\")\n",
    "        coeflist.append(coef2d_est2)\n",
    "    return xp.array(coeflist)\n",
    "\n"
   ]
  },
  {
   "cell_type": "code",
   "execution_count": 6,
   "id": "f490f866",
   "metadata": {},
   "outputs": [],
   "source": [
    "def fitcoef4(coeff: xp.array, coeft: xp.array, reader: SlidingComplex64Reader):\n",
    "    betai = Config.bw / ((2 ** Config.sf) / Config.bw) * xp.pi # frequency slope to phase 2d slope, *pi\n",
    "    coeflist = fitcoef2(coeff, coeft, reader)\n",
    "    \n",
    "    # plot phase difference between consecutive symbols\n",
    "    phasedifflist = xp.zeros((Config.preamble_len - 1,), dtype=xp.float32)\n",
    "    for pidx in range(Config.preamble_len - 1):\n",
    "        tjump = xp.polyval(coeft, pidx + 1)\n",
    "        phasediff = wrap(xp.polyval(coeflist[pidx + 1], tjump) - xp.polyval(coeflist[pidx], tjump))\n",
    "        phasedifflist[pidx] = phasediff\n",
    "    phasedifflist_unwrap = xp.unwrap(xp.array(phasedifflist))\n",
    "    # pltfig1(range(Config.preamble_len - 1), phasedifflist_unwrap, title=\"plot phase difference between consecutive symbols\").show()\n",
    "\n",
    "    # fit a line to phase difference to estimate cfo and time drift\n",
    "    tdifflist = xp.zeros_like(phasedifflist_unwrap)\n",
    "    for pidx in range(Config.preamble_len - 1):\n",
    "        estbw = Config.bw * (1 + xp.polyval(coeff, pidx + 0.5) / Config.sig_freq)\n",
    "        tdifflist[pidx] = phasedifflist_unwrap[pidx] / 2 / xp.pi / estbw # phasediff is caused by mismatched symbol change time, -> bw mismatch. phase = 2pi * bw * dt\n",
    "    xrange = xp.arange(50, len(tdifflist)) # !!! ignore first 50 points\n",
    "    tdiff_coef = xp.polyfit(xrange, tdifflist[xrange], 1)\n",
    "    coeft_new = coeft.copy()\n",
    "    coeft_new[-2:] += tdiff_coef\n",
    "    print(f\"{tdiff_coef=} {coeft=} {coeft_new=} cfo ppm from time: {1 - coeft_new[0] / Config.nsampf * Config.fs} cfo: {(1 - coeft_new[0] / Config.nsampf * Config.fs) * Config.sig_freq} unwrapped phasediff so t may shift by margin {1/Config.bw}\")\n",
    "\n",
    "    return coeft_new"
   ]
  },
  {
   "cell_type": "code",
   "execution_count": 7,
   "id": "4a74aa5a",
   "metadata": {},
   "outputs": [
    {
     "name": "stdout",
     "output_type": "stream",
     "text": [
      "tdiff_coef=array([-2.24823462e-10,  4.92338834e-07]) coeft=array([0.01008263, 4.24009087]) coeft_new=array([0.01008263, 4.24009137]) cfo ppm from time: -1.704934679302994e-05 cfo: -40918.43230327185 unwrapped phasediff so t may shift by margin 2.4615384615384615e-06\n"
     ]
    }
   ],
   "source": [
    "tsymblen = 2 ** Config.sf / Config.bw * (1 - fstart / Config.sig_freq)\n",
    "coeff = xp.array((0, fstart))\n",
    "coeft = xp.array((tsymblen, tstart / Config.fs))\n",
    "coeft = fitcoef4(coeff, coeft, reader)\n",
    "# coeft = fitcoef4(coeff, coeft, reader) # do this to check correctness of fitcoef4"
   ]
  },
  {
   "cell_type": "markdown",
   "id": "04f9eaac",
   "metadata": {},
   "source": [
    "### get coeflist from renewed coeft, and Find intersections between each coef\n",
    "\n",
    "### findintersections.py"
   ]
  },
  {
   "cell_type": "code",
   "execution_count": 8,
   "id": "7ec85107",
   "metadata": {},
   "outputs": [],
   "source": [
    "import numpy as np # for np.roots\n",
    "\n",
    "# Function to find crossing points where poly(x) = (2n +1)*pi\n",
    "def find_crossings(coef_in, x_min, x_max):\n",
    "    coef = coef_in.copy()\n",
    "    # coef[2] %= (2 * xp.pi)\n",
    "    # ymin ymax: suppose is increasing/decreasing in this section\n",
    "    assert not x_min <= - coef[1] / 2 / coef[0] <= x_max\n",
    "\n",
    "    ya = xp.polyval(coef, x_min)\n",
    "    yb = xp.polyval(coef, x_max)\n",
    "    y_lower = min(ya, yb)\n",
    "    y_upper = max(ya, yb)\n",
    "\n",
    "    # Compute the range of n values\n",
    "    n_min = ceil((y_lower - xp.pi) / (2 * xp.pi))\n",
    "    n_max = floor((y_upper - xp.pi) / (2 * xp.pi))\n",
    "\n",
    "    nrange = xp.arange(int(n_min), int(n_max) + 1)\n",
    "    nrangex = xp.arange(int(n_min), int(n_max) + 2)\n",
    "    crossings = xp.empty_like(nrange, dtype=xp.float64)\n",
    "\n",
    "    if coef[0] * 2 * x_min + coef[1] < 0: # decreasing\n",
    "        assert coef[0] * 2 * x_max + coef[1] < 0\n",
    "        nrange = nrange[::-1]\n",
    "        nrangex = nrangex[::-1]\n",
    "\n",
    "    for idx in range(len(nrange)):\n",
    "        n = nrange[idx]\n",
    "        # Solve poly(x) - (2n +1)*pi = 0\n",
    "        shifted_poly = coef.copy()\n",
    "        shifted_poly[2] -= (2 * n + 1) * xp.pi\n",
    "        roots = to_device(np.roots(to_host(shifted_poly)))\n",
    "        # Filter real roots within [x_min, x_max]\n",
    "        real_roots = roots[xp.isreal(roots)].real\n",
    "        valid_roots = real_roots[(real_roots >= x_min) & (real_roots <= x_max)]\n",
    "        assert len(valid_roots) == 1, f\"valid roots {shifted_poly=} {roots=} {x_min=} {x_max=} {y_lower=} {y_upper=} {n_min=} {n_max=}\"\n",
    "        assert - xp.pi <= xp.polyval(shifted_poly, valid_roots[0]) <= xp.pi, f\"valid roots {shifted_poly=} {roots=}\"\n",
    "        crossings[idx] = valid_roots[0]\n",
    "    # slope: is strictly increasing or decreasing\n",
    "    for i in range(len(crossings) - 1):\n",
    "        xv = (crossings[i] + crossings[i + 1]) / 2\n",
    "        # print( - xp.pi + 2 * xp.pi * nrangex[i + 1] , xp.polyval(coef, xv) , xp.pi + 2 * xp.pi * nrangex[i + 1])\n",
    "        assert - xp.pi + 2 * xp.pi * nrangex[i + 1] <= xp.polyval(coef, xv) <= xp.pi + 2 * xp.pi * nrangex[i + 1]\n",
    "\n",
    "    assert len(crossings) == len(nrangex) - 1\n",
    "    # print(xp.min(xp.diff(crossings)) < 0, coef[0] * 2 * x_min + coef[1] < 0, coef[0] * 2 * x_max + coef[1] < 0)\n",
    "    if len(crossings) > 0:\n",
    "        if len(crossings) > 1: assert xp.min(xp.diff(crossings)) > 0\n",
    "        assert xp.min(crossings) > x_min, f\"{xp.min(crossings)=} {x_min=}\"\n",
    "        assert xp.max(crossings) < x_max, f\"{xp.max(crossings)=} {x_max=}\"\n",
    "        return crossings, nrangex\n",
    "\n",
    "def merge_crossings(crossings_poly1, crossing_n1, crossings_poly2, crossing_n2, x_min, x_max, tol=1e-12):\n",
    "    merged_crossings = xp.union1d(crossings_poly1, crossings_poly2)\n",
    "\n",
    "    # Remove crossings that are too close to each other\n",
    "    if len(merged_crossings) == 0: filtered_crossings = []\n",
    "    else:\n",
    "        filtered_crossings = [merged_crossings[0]]\n",
    "        for x in merged_crossings[1:]:\n",
    "            if abs(x - filtered_crossings[-1]) >= tol:\n",
    "                filtered_crossings.append(x)\n",
    "\n",
    "    # Initialize the weight list for the filtered sections\n",
    "    merged_weights = []\n",
    "    sections0 = [(x_min, xp.nan, -1), *filtered_crossings, (x_max, xp.nan, -1)]\n",
    "    sections = [(sections0[x], sections0[x + 1]) for x in range(len(sections0) - 1)]\n",
    "\n",
    "    sections1 = [x_min, *crossings_poly1, x_max]\n",
    "    sections2 = [x_min, *crossings_poly2, x_max]\n",
    "    sections = [x_min, *filtered_crossings, x_max]\n",
    "    sections1 = [(sections1[x], sections1[x + 1]) for x in range(len(sections1) - 1)]\n",
    "    sections2 = [(sections2[x], sections2[x + 1]) for x in range(len(sections2) - 1)]\n",
    "    sections = [(sections[x], sections[x + 1]) for x in range(len(sections) - 1)]\n",
    "\n",
    "    for (x_left, x_right) in sections:\n",
    "        # Determine the weights for the current section from crossing_n1 and crossing_n2\n",
    "        weight1 = next((w for (x1, x2), w in zip(sections1, crossing_n1) if x1 <= x_left <= x_right <= x2), None)\n",
    "        weight2 = next((w for (x1, x2), w in zip(sections2, crossing_n2) if x1 <= x_left <= x_right <= x2), None)\n",
    "        # print(weight1, weight2)\n",
    "\n",
    "        merged_weights.append((weight1, weight2))\n",
    "\n",
    "    assert len(sections) == len(merged_weights)\n",
    "    return sections, merged_weights\n",
    "\n",
    "\n",
    "\n",
    "# Function to determine n for wrapping within a section\n",
    "def determine_n(coef, x_start, x_end):\n",
    "    # Choose the midpoint to determine n\n",
    "    x_mid = (x_start + x_end) / 2\n",
    "    y_mid = xp.polyval(coef, x_mid)\n",
    "    n = floor((y_mid + xp.pi) / (2 * xp.pi))\n",
    "    return n\n",
    "\n",
    "\n",
    "def find_intersections(coefa, coefb, tstart2,reader, epsilon, margin, draw, remove_range):\n",
    "    selected = None\n",
    "    x_min = tstart2 - epsilon\n",
    "    x_max = tstart2 + epsilon\n",
    "\n",
    "    # Find all crossing points for both polynomials, cutting the range into sections\n",
    "    crossings_poly1, crossing_n1 = find_crossings(coefa, x_min, x_max)\n",
    "    crossings_poly2, crossing_n2 = find_crossings(coefb, x_min, x_max)\n",
    "\n",
    "    # Combine and sort all crossing points to make smaller sections\n",
    "    sections, all_weights = merge_crossings(crossings_poly1, crossing_n1, crossings_poly2, crossing_n2, x_min, x_max)\n",
    "    # print(sections)\n",
    "    # print(all_weights)\n",
    "    assert len(sections) == len(all_weights)\n",
    "\n",
    "    for i, (x1, x2) in enumerate(sections):\n",
    "        xv = (x1 + x2) / 2\n",
    "        # print(i, - xp.pi + 2 * xp.pi * all_weights[i][0] , xp.polyval(coefa, xv) , xp.pi + 2 * xp.pi * all_weights[i][0])\n",
    "        # print(i, - xp.pi + 2 * xp.pi * all_weights[i][1] , xp.polyval(coefb, xv) , xp.pi + 2 * xp.pi * all_weights[i][1])\n",
    "        assert - xp.pi + 2 * xp.pi * all_weights[i][0] <= xp.polyval(coefa, xv) <= xp.pi + 2 * xp.pi * all_weights[i][0]\n",
    "        assert - xp.pi + 2 * xp.pi * all_weights[i][1] <= xp.polyval(coefb, xv) <= xp.pi + 2 * xp.pi * all_weights[i][1]\n",
    "\n",
    "    intersection_points = []\n",
    "    fig = go.Figure(layout_title_text=f\"finditx {tstart2=}\")\n",
    "    for idx, ((x_start, x_end), (n1, n2)) in enumerate(zip(sections, all_weights)):\n",
    "\n",
    "        # Adjust the constant term for wrapping\n",
    "        # Create shifted polynomials by adding (2n -1)*pi to the constant term\n",
    "        poly1_shifted_coef = coefa.copy()\n",
    "        poly1_shifted_coef[2] -= (2 * n1) * xp.pi\n",
    "\n",
    "        poly2_shifted_coef = coefb.copy()\n",
    "        poly2_shifted_coef[2] -= (2 * n2) * xp.pi\n",
    "\n",
    "        # Compute the difference polynomial\n",
    "        poly_diff = xp.polysub(poly1_shifted_coef, poly2_shifted_coef)\n",
    "\n",
    "        xv = (x_start + x_end) / 2\n",
    "        assert - xp.pi <= xp.polyval(poly1_shifted_coef, xv) <= xp.pi\n",
    "        assert - xp.pi <= xp.polyval(poly2_shifted_coef, xv) <= xp.pi\n",
    "        # assert - xp.pi + 2 * xp.pi * all_weights[i][0] <= xp.polyval(coefa, xv) <= xp.pi + 2 * xp.pi * all_weights[i][0]\n",
    "        # assert - xp.pi + 2 * xp.pi * all_weights[i][1] <= xp.polyval(coefb, xv) <= xp.pi + 2 * xp.pi * all_weights[i][1]\n",
    "\n",
    "        # Find roots of the difference polynomial\n",
    "        roots = to_device(np.roots(to_host(poly_diff)))\n",
    "        # Filter real roots\n",
    "        real_roots = roots[xp.isreal(roots)].real\n",
    "        # Filter roots within the current section\n",
    "        valid_roots = real_roots[(real_roots >= x_start) & (real_roots <= x_end)]\n",
    "        # Convert to float and remove duplicates\n",
    "        valid_roots = valid_roots.astype(float)\n",
    "\n",
    "        assert x_start < x_end, f\"section range error {x_start=} {x_end=}\"\n",
    "        if len(valid_roots) != 1 and idx != 0 and idx != len(sections) - 1:\n",
    "                x = to_host(xp.linspace(x_start - 0.00000001, x_end + 0.00000001, 500))\n",
    "\n",
    "# Calculate the corresponding y-values for each polynomial\n",
    "                p1 = np.poly1d(poly1_shifted_coef.get())\n",
    "                p2 = np.poly1d(poly2_shifted_coef.get())\n",
    "                print(p1)\n",
    "                y1 = p1(x)\n",
    "                y2 = p2(x)\n",
    "\n",
    "# To find the intersection, create a new polynomial representing the difference\n",
    "# between the first two. The root of this new polynomial is the x-coordinate\n",
    "# of the intersection point.\n",
    "                p_diff = to_host(xp.polysub(poly1_shifted_coef, poly2_shifted_coef))\n",
    "                intersection_x_roots = np.roots(p_diff)\n",
    "\n",
    "# Since the difference is a linear equation, there will be one root.\n",
    "                intersection_x = intersection_x_roots[0]\n",
    "\n",
    "# Calculate the y-coordinate of the intersection by evaluating either\n",
    "# polynomial at the intersection's x-coordinate.\n",
    "                intersection_y = p1(intersection_x)\n",
    "\n",
    "# --- Plotting Section ---\n",
    "\n",
    "                pltfig(((x, y1), (x, y2)), title=f\"Section {idx} Polynomials\", addvline=(intersection_x, x_start, x_end), addhline=(intersection_y, -xp.pi, xp.pi)).show()\n",
    "                print(f\"Intersection point found at x = {intersection_x}, y = {intersection_y}\")\n",
    "\n",
    "        assert len(valid_roots) == 1 or idx == 0 or idx == len(sections) - 1, f\"intersection valid roots {poly1_shifted_coef=} {poly2_shifted_coef=} {poly_diff=} {roots=} {x_start=} {x_end=}\"\n",
    "\n",
    "        # Add valid roots to intersection points\n",
    "        intersection_points.extend(valid_roots)\n",
    "        # Generate x values for plotting\n",
    "\n",
    "        if draw:\n",
    "            num_points = 20\n",
    "            x_vals = xp.linspace(x_start, x_end, num_points)\n",
    "            y1_wrapped = xp.polyval(poly1_shifted_coef, x_vals)\n",
    "            y2_wrapped = xp.polyval(poly2_shifted_coef, x_vals)\n",
    "\n",
    "            # Add shifted polynomials to the subplot\n",
    "            fig = pltfig(((x_vals, y1_wrapped), (x_vals, y2_wrapped)), addvline=(x_start, x_end), addhline=(-xp.pi, xp.pi), fig = fig)\n",
    "            fig.add_vline(x = to_scalar(tstart2), line=dict(color='blue'))\n",
    "\n",
    "\n",
    "            # Highlight intersection points within this section\n",
    "            if len(valid_roots) > 0:\n",
    "                for x_int in valid_roots:\n",
    "                    fig.add_trace(\n",
    "                        go.Scatter(x=(to_host(x_int),), y=(to_host(xp.polyval(poly1_shifted_coef, x_int)),), mode='markers', name='Intersections',\n",
    "                                   marker=dict(color='red', size=8, symbol='circle')),\n",
    "                    )\n",
    "                #     fig.add_trace(\n",
    "                #         go.Scatter(x=(to_host(x_int),), y=(xp.polyval(to_host(poly1_shifted_coef), to_host(x_int)),), mode='markers', name='Intersections',\n",
    "                #                    marker=dict(color='red', size=8, symbol='circle')),\n",
    "                #     )\n",
    "                # # fig.update_yaxes(range=[-xp.pi * 5 - 0.1, xp.pi * 5 + 0.1])\n",
    "\n",
    "\n",
    "    xv = to_device(xp.arange(ceil(x_min * Config.fs), ceil(x_max * Config.fs), dtype=int))\n",
    "    sig = reader.get(to_scalar(xv[0]), len(xv))\n",
    "    sig_ref1 = sig * xp.exp(-1j * xp.polyval(coefa, xv / Config.fs))\n",
    "    sig_ref2 = sig * xp.exp(-1j * xp.polyval(coefb, xv / Config.fs))\n",
    "    # val1 = xp.cos(xp.polyval(coefa, xv / Config.fs) - xp.angle(sig))\n",
    "    # val2 = xp.cos(xp.polyval(coefb, xv / Config.fs) - xp.angle(sig))\n",
    "\n",
    "    intersection_points = xp.hstack(intersection_points)\n",
    "    if len(intersection_points) != 0:\n",
    "        selected = max(intersection_points, key=lambda x: xp.abs(xp.sum(sig_ref1[:xp.ceil(x * Config.fs - xv[0])])) + xp.abs(xp.sum(sig_ref2[xp.ceil(x * Config.fs - xv[0]):])))\n",
    "        selected2 = min(intersection_points, key=lambda x: abs(x - tstart2))\n",
    "        if selected2 != selected:\n",
    "            print(f\"find_intersections(): break point not closeset to tstart2 selected {selected - tstart2 =}\")\n",
    "            if remove_range: return None\n",
    "\n",
    "    if draw:\n",
    "        val1 = [xp.abs(xp.sum(sig_ref1[:xp.ceil(x * Config.fs - xv[0])])) for x in intersection_points]\n",
    "        val2 = [xp.abs(xp.sum(sig_ref2[xp.ceil(x * Config.fs - xv[0]):])) for x in intersection_points]\n",
    "        vals = val1 + val2\n",
    "        fig = pltfig1(intersection_points, val1, mode=\"lines+markers\", title=\"power at break points\")\n",
    "        fig = pltfig1(intersection_points, val1, mode=\"lines+markers\", fig=fig)\n",
    "        pltfig1(intersection_points, vals, mode=\"lines+markers\", fig=fig).show()\n",
    "        # xv = to_device(xp.arange(xp.ceil(to_host(x_min) * Config.fs), xp.ceil(to_host(x_max) * Config.fs), dtype=int))\n",
    "        xv = xp.arange(xp.ceil(x_min * Config.fs), xp.ceil(x_max * Config.fs), dtype=int)\n",
    "        fig.add_trace(\n",
    "            go.Scatter(x=to_host(xv / Config.fs), y=to_host(xp.angle(sig)), mode='markers',\n",
    "                       name='rawdata',\n",
    "                       marker=dict(color='blue', size=4, symbol='circle')),\n",
    "        )\n",
    "        if len(intersection_points) != 0:\n",
    "            fig.add_vline(x = to_host(selected), line=dict(color='red'))\n",
    "\n",
    "\n",
    "        fig.show()\n",
    "\n",
    "        # a1 = []\n",
    "        # x1 = []\n",
    "        # for i in range(-3000, 0):\n",
    "        #     xv1 = xp.arange(around(tstart2 * Config.fs + i - margin), around(tstart2 * Config.fs + i + margin), dtype=int)\n",
    "        #     a1v = xp.angle(pktdata_in[xv1].dot(xp.exp(-1j * xp.polyval(coefa, xv1 / Config.fs))))\n",
    "        #     x1.append(around(tstart2 * Config.fs + i) )\n",
    "        #     a1.append(a1v)\n",
    "        # for i in range(1, 3000):\n",
    "        #     xv1 = xp.arange(around(tstart2 * Config.fs + i - margin), around(tstart2 * Config.fs + i + margin), dtype=int)\n",
    "        #     a1v = xp.angle(pktdata_in[xv1].dot(xp.exp(-1j * xp.polyval(coefb, xv1 / Config.fs))))\n",
    "        #     x1.append(around(tstart2 * Config.fs + i) )\n",
    "        #     a1.append(a1v)\n",
    "        # pltfig1(x1, a1, title=\"angle difference\").show()\n",
    "\n",
    "\n",
    "    # Print the intersection points\n",
    "    # print(\"Intersection Points within the specified range:\")\n",
    "    # for idx, x in enumerate(intersection_points, 1):\n",
    "    #     y1 = xp.polyval(coefa, x)\n",
    "    #     y2 = xp.polyval(coefb, x)\n",
    "    #     assert abs(wrap(y1) - wrap(y2)) < 1e-6, f\"intersection point check failed {x=} {y1=} {y2=} {wrap(y1)=} {wrap(y2)=} {y1-y2=} {wrap(y1) - wrap(y2)=}\"\n",
    "    # this is useless because large error margin caused by large y1 y2\n",
    "\n",
    "        # print(f\"{idx}: x = {x:.12f}, y1 = {y1:.12f} y2 = {y2:.12f} y1-y2={y1-y2:.12f}\")\n",
    "    return selected\n"
   ]
  },
  {
   "cell_type": "markdown",
   "id": "2200e0e9",
   "metadata": {},
   "source": [
    "### find intersections"
   ]
  },
  {
   "cell_type": "code",
   "execution_count": 9,
   "id": "af735fc5",
   "metadata": {},
   "outputs": [],
   "source": [
    "coeflist = fitcoef2(coeff, coeft, reader)\n",
    "if False:\n",
    "    for pidx in xp.arange(10, Config.preamble_len):\n",
    "        tstart2 = xp.polyval(coeft, pidx)\n",
    "        selected = find_intersections(coeflist[pidx - 1], coeflist[pidx], tstart2, reader, 1e-5, margin=margin, draw=False, remove_range=False) #!!! TODO remove range\n",
    "        if selected != None:\n",
    "            dx.append(pidx)\n",
    "            dy.append(to_scalar(selected))\n",
    "    dx = xp.array(dx)\n",
    "    dy = xp.array(dy)\n",
    "    with open(f\"intersections0.pkl\",\"wb\") as f:\n",
    "        pickle.dump((dx, dy), f)\n",
    "\n",
    "with open(f\"intersections0.pkl\",\"rb\") as f:\n",
    "    dx, dy = pickle.load(f)\n",
    "coeff_time = xp.polyfit(dx, dy, 1)"
   ]
  },
  {
   "cell_type": "markdown",
   "id": "b954a3cd",
   "metadata": {},
   "source": [
    "### Plot"
   ]
  },
  {
   "cell_type": "code",
   "execution_count": 10,
   "id": "6b72119a",
   "metadata": {},
   "outputs": [
    {
     "name": "stdout",
     "output_type": "stream",
     "text": [
      "guessed: coeft=array([0.01008263, 4.24009137]) coeff_time=0.010082633185,4.240091394779 cfo ppm from time: -1.702430541561384e-05 cfo: -40858.33299747321\n"
     ]
    },
    {
     "data": {
      "application/vnd.plotly.v1+json": {
       "config": {
        "plotlyServerURL": "https://plot.ly"
       },
       "data": [
        {
         "mode": "lines",
         "type": "scatter",
         "x": [
          10,
          11,
          12,
          13,
          14,
          15,
          16,
          17,
          18,
          19,
          20,
          21,
          22,
          23,
          24,
          25,
          26,
          27,
          28,
          29,
          30,
          31,
          32,
          33,
          34,
          35,
          36,
          37,
          38,
          39,
          40,
          41,
          42,
          43,
          44,
          45,
          46,
          47,
          48,
          49,
          50,
          51,
          52,
          53,
          54,
          55,
          56,
          57,
          58,
          59,
          60,
          61,
          62,
          63,
          64,
          65,
          66,
          67,
          68,
          69,
          70,
          71,
          72,
          73,
          74,
          75,
          76,
          77,
          78,
          79,
          80,
          81,
          82,
          83,
          84,
          85,
          86,
          87,
          88,
          89,
          90,
          91,
          92,
          93,
          94,
          95,
          96,
          97,
          98,
          99,
          100,
          101,
          102,
          103,
          104,
          105,
          106,
          107,
          108,
          109,
          110,
          111,
          112,
          113,
          114,
          115,
          116,
          117,
          118,
          119,
          120,
          121,
          122,
          123,
          124,
          125,
          126,
          127,
          128,
          129,
          130,
          131,
          132,
          133,
          134,
          135,
          136,
          137,
          138,
          139,
          140,
          141,
          142,
          143,
          144,
          145,
          146,
          147,
          148,
          149,
          150,
          151,
          152,
          153,
          154,
          155,
          156,
          157,
          158,
          159,
          160,
          161,
          162,
          163,
          164,
          165,
          166,
          167,
          168,
          169,
          170,
          171,
          172,
          173,
          174,
          175,
          176,
          177,
          178,
          179,
          180,
          181,
          182,
          183,
          184,
          185,
          186,
          187,
          188,
          189,
          190,
          191,
          192,
          193,
          194,
          195,
          196,
          197,
          198,
          199,
          200,
          201,
          202,
          203,
          204,
          205,
          206,
          207,
          208,
          209,
          210,
          211,
          212,
          213,
          214,
          215,
          216,
          217,
          218,
          219,
          220,
          221,
          222,
          223,
          224,
          225,
          226,
          227,
          228,
          229,
          230,
          231,
          232,
          233,
          234,
          235,
          236,
          237,
          238,
          239
         ],
         "y": [
          4.340917732163224,
          4.351000359085801,
          4.361082985741165,
          4.371165627144528,
          4.381248265979528,
          4.391330882897684,
          4.401413520378052,
          4.411496158137639,
          4.421578769100389,
          4.431661409290432,
          4.441744034189877,
          4.451826673356384,
          4.461909304221571,
          4.471991937000676,
          4.482074577109229,
          4.492157224198998,
          4.502239826078133,
          4.5123224745135095,
          4.522405132888577,
          4.532487757442066,
          4.542570383898167,
          4.552653035706684,
          4.562735661239324,
          4.572818267254085,
          4.582900917513847,
          4.592983550722853,
          4.603066183232484,
          4.613148810902868,
          4.623231464141126,
          4.633314085604331,
          4.643396728220756,
          4.65347935178317,
          4.663561975770671,
          4.673644602394852,
          4.683727238029061,
          4.693809854606594,
          4.703892524383866,
          4.713975119746491,
          4.724057775271789,
          4.734140410215318,
          4.744223032923416,
          4.754305671118954,
          4.764388313886514,
          4.774470945286797,
          4.784553602554203,
          4.794636206926926,
          4.804718854599037,
          4.814801474493742,
          4.824884114590484,
          4.834966735098565,
          4.845049384555378,
          4.8551320219126195,
          4.865214672261972,
          4.875297284967087,
          4.885379916340572,
          4.895462550823476,
          4.905545172727648,
          4.915627818161131,
          4.925710454717972,
          4.9357930933125544,
          4.9458757036822,
          4.955958356530708,
          4.96604098024665,
          4.976123598151932,
          4.986206235806082,
          4.996288864633416,
          5.006371496204221,
          5.016454122709434,
          5.02653676776529,
          5.036619404394123,
          5.04670203584892,
          5.056784701142718,
          5.066867322442282,
          5.076949943327273,
          5.0870326035480735,
          5.097115226796692,
          5.107197853232601,
          5.11728048506829,
          5.12736312648343,
          5.1374457226372305,
          5.147528380975637,
          5.15761101086413,
          5.1676936419435,
          5.17777627559414,
          5.187858911205832,
          5.19794156180778,
          5.208024205877115,
          5.21810682312898,
          5.228189441827703,
          5.23827209912731,
          5.248354716764056,
          5.258437347807877,
          5.268519977130688,
          5.278602616586056,
          5.288685264548016,
          5.29876790778214,
          5.3088505377053865,
          5.318933129693198,
          5.329015778406573,
          5.339098419051421,
          5.349181081852073,
          5.359263670875117,
          5.369346321406432,
          5.379428948164675,
          5.389511547514567,
          5.3995942215187505,
          5.409676851081285,
          5.41975945783858,
          5.429842118775845,
          5.439924749778334,
          5.450007364535869,
          5.460090016286757,
          5.470172647495258,
          5.48025526983292,
          5.490337943193812,
          5.500420545493419,
          5.510503160963737,
          5.520585812616799,
          5.530668446498969,
          5.540751082521867,
          5.550833703170436,
          5.5609163422599455,
          5.570998978113898,
          5.581081629243469,
          5.591164253944908,
          5.601246872017973,
          5.611329522775607,
          5.621412160827929,
          5.631494778836483,
          5.641577397521637,
          5.651660041034025,
          5.661742670587478,
          5.671825303351772,
          5.681907926421439,
          5.691990597189509,
          5.7020732488379675,
          5.712155864259615,
          5.722238485418768,
          5.732321122121889,
          5.74240374316019,
          5.752486382854508,
          5.762569019185854,
          5.772651657851286,
          5.782734293622179,
          5.792816914036602,
          5.802899568855626,
          5.812982197225561,
          5.823064831604952,
          5.833147466459429,
          5.84323011501324,
          5.853312717430625,
          5.863395356804563,
          5.873478000390195,
          5.883560611594732,
          5.893643257002847,
          5.903725894812937,
          5.913808533991186,
          5.923891139383462,
          5.933973777188486,
          5.944056427126635,
          5.954139072270396,
          5.964221688621276,
          5.974304327814061,
          5.984386964128638,
          5.994469595306963,
          6.004552218816043,
          6.014634859349965,
          6.024717465261305,
          6.034800127602784,
          6.044882777724737,
          6.054965408986637,
          6.065048019947285,
          6.075130658764021,
          6.085213293881031,
          6.095295923691802,
          6.105378555923398,
          6.115461190769239,
          6.12554382716768,
          6.135626465804675,
          6.145709084700983,
          6.155791727870522,
          6.165874363769085,
          6.175957005681126,
          6.1860396135696725,
          6.19612223823777,
          6.206204888271099,
          6.216287523798958,
          6.226370172346702,
          6.23645278297147,
          6.24653543944439,
          6.256618054778736,
          6.266700712158983,
          6.276783336421336,
          6.286865984383077,
          6.296948601518524,
          6.3070312228540475,
          6.3171138661064905,
          6.327196523337442,
          6.3372791420152375,
          6.347361757322969,
          6.3574444002415955,
          6.367527032731172,
          6.377609652072748,
          6.387692292552047,
          6.39777493500837,
          6.4078575705299015,
          6.417940205955645,
          6.428022831608969,
          6.438105454564808,
          6.448188105319668,
          6.458270732989006,
          6.46835334034492,
          6.478435980960543,
          6.488518646386535,
          6.498601268742784,
          6.50868145875162,
          6.518766538813113,
          6.5288491535336135,
          6.538931783525034,
          6.54901442356876,
          6.559097062626817,
          6.569179697020125,
          6.5792623587702455,
          6.589344968093521,
          6.599427608535804,
          6.609510208009618,
          6.619592866845513,
          6.629675505655786,
          6.639758147380877,
          6.649840774505587
         ]
        },
        {
         "line": {
          "dash": "dash"
         },
         "mode": "lines",
         "type": "scatter",
         "x": [
          10,
          11,
          12,
          13,
          14,
          15,
          16,
          17,
          18,
          19,
          20,
          21,
          22,
          23,
          24,
          25,
          26,
          27,
          28,
          29,
          30,
          31,
          32,
          33,
          34,
          35,
          36,
          37,
          38,
          39,
          40,
          41,
          42,
          43,
          44,
          45,
          46,
          47,
          48,
          49,
          50,
          51,
          52,
          53,
          54,
          55,
          56,
          57,
          58,
          59,
          60,
          61,
          62,
          63,
          64,
          65,
          66,
          67,
          68,
          69,
          70,
          71,
          72,
          73,
          74,
          75,
          76,
          77,
          78,
          79,
          80,
          81,
          82,
          83,
          84,
          85,
          86,
          87,
          88,
          89,
          90,
          91,
          92,
          93,
          94,
          95,
          96,
          97,
          98,
          99,
          100,
          101,
          102,
          103,
          104,
          105,
          106,
          107,
          108,
          109,
          110,
          111,
          112,
          113,
          114,
          115,
          116,
          117,
          118,
          119,
          120,
          121,
          122,
          123,
          124,
          125,
          126,
          127,
          128,
          129,
          130,
          131,
          132,
          133,
          134,
          135,
          136,
          137,
          138,
          139,
          140,
          141,
          142,
          143,
          144,
          145,
          146,
          147,
          148,
          149,
          150,
          151,
          152,
          153,
          154,
          155,
          156,
          157,
          158,
          159,
          160,
          161,
          162,
          163,
          164,
          165,
          166,
          167,
          168,
          169,
          170,
          171,
          172,
          173,
          174,
          175,
          176,
          177,
          178,
          179,
          180,
          181,
          182,
          183,
          184,
          185,
          186,
          187,
          188,
          189,
          190,
          191,
          192,
          193,
          194,
          195,
          196,
          197,
          198,
          199,
          200,
          201,
          202,
          203,
          204,
          205,
          206,
          207,
          208,
          209,
          210,
          211,
          212,
          213,
          214,
          215,
          216,
          217,
          218,
          219,
          220,
          221,
          222,
          223,
          224,
          225,
          226,
          227,
          228,
          229,
          230,
          231,
          232,
          233,
          234,
          235,
          236,
          237,
          238,
          239
         ],
         "y": [
          4.340917726632556,
          4.351000359817922,
          4.361082993003288,
          4.371165626188654,
          4.38124825937402,
          4.391330892559386,
          4.401413525744752,
          4.4114961589301185,
          4.4215787921154845,
          4.431661425300851,
          4.441744058486217,
          4.451826691671583,
          4.461909324856949,
          4.471991958042315,
          4.482074591227681,
          4.492157224413047,
          4.502239857598413,
          4.512322490783779,
          4.522405123969145,
          4.532487757154511,
          4.542570390339878,
          4.552653023525244,
          4.56273565671061,
          4.572818289895976,
          4.5829009230813424,
          4.5929835562667085,
          4.603066189452075,
          4.613148822637441,
          4.623231455822807,
          4.633314089008173,
          4.643396722193539,
          4.653479355378905,
          4.663561988564271,
          4.673644621749637,
          4.683727254935003,
          4.693809888120369,
          4.703892521305735,
          4.713975154491102,
          4.724057787676468,
          4.734140420861834,
          4.7442230540472,
          4.754305687232566,
          4.7643883204179325,
          4.7744709536032985,
          4.784553586788665,
          4.794636219974031,
          4.804718853159397,
          4.814801486344763,
          4.824884119530129,
          4.834966752715495,
          4.845049385900861,
          4.855132019086227,
          4.865214652271593,
          4.875297285456959,
          4.885379918642325,
          4.895462551827691,
          4.905545185013057,
          4.915627818198423,
          4.92571045138379,
          4.935793084569156,
          4.9458757177545225,
          4.955958350939889,
          4.966040984125255,
          4.976123617310621,
          4.986206250495987,
          4.996288883681353,
          5.006371516866719,
          5.016454150052085,
          5.026536783237451,
          5.036619416422817,
          5.046702049608183,
          5.056784682793549,
          5.066867315978915,
          5.076949949164281,
          5.087032582349647,
          5.097115215535014,
          5.1071978487203795,
          5.1172804819057465,
          5.1273631150911125,
          5.137445748276479,
          5.147528381461845,
          5.157611014647211,
          5.167693647832577,
          5.177776281017943,
          5.187858914203309,
          5.197941547388675,
          5.208024180574041,
          5.218106813759407,
          5.228189446944773,
          5.238272080130139,
          5.248354713315505,
          5.258437346500871,
          5.268519979686237,
          5.2786026128716035,
          5.2886852460569695,
          5.298767879242336,
          5.308850512427702,
          5.318933145613069,
          5.329015778798435,
          5.339098411983801,
          5.349181045169167,
          5.359263678354533,
          5.369346311539899,
          5.379428944725265,
          5.389511577910631,
          5.399594211095997,
          5.409676844281363,
          5.419759477466729,
          5.429842110652095,
          5.439924743837461,
          5.4500073770228274,
          5.460090010208194,
          5.4701726433935605,
          5.4802552765789265,
          5.490337909764293,
          5.500420542949659,
          5.510503176135025,
          5.520585809320391,
          5.530668442505757,
          5.540751075691123,
          5.550833708876489,
          5.560916342061855,
          5.570998975247221,
          5.581081608432587,
          5.591164241617953,
          5.601246874803319,
          5.611329507988685,
          5.621412141174051,
          5.6314947743594175,
          5.6415774075447835,
          5.65166004073015,
          5.661742673915516,
          5.671825307100882,
          5.681907940286248,
          5.691990573471614,
          5.702073206656981,
          5.712155839842347,
          5.722238473027712,
          5.732321106213079,
          5.742403739398445,
          5.752486372583811,
          5.762569005769177,
          5.772651638954543,
          5.782734272139909,
          5.792816905325275,
          5.802899538510641,
          5.8129821716960075,
          5.823064804881374,
          5.83314743806674,
          5.843230071252107,
          5.853312704437473,
          5.863395337622839,
          5.873477970808205,
          5.883560603993571,
          5.893643237178937,
          5.903725870364303,
          5.913808503549669,
          5.923891136735035,
          5.933973769920401,
          5.944056403105767,
          5.954139036291133,
          5.964221669476499,
          5.974304302661865,
          5.9843869358472315,
          5.9944695690325975,
          6.004552202217964,
          6.01463483540333,
          6.024717468588696,
          6.034800101774062,
          6.044882734959428,
          6.054965368144794,
          6.06504800133016,
          6.075130634515526,
          6.085213267700893,
          6.095295900886259,
          6.105378534071625,
          6.115461167256991,
          6.125543800442357,
          6.135626433627723,
          6.145709066813089,
          6.155791699998455,
          6.1658743331838215,
          6.175956966369188,
          6.186039599554554,
          6.19612223273992,
          6.206204865925286,
          6.216287499110652,
          6.226370132296019,
          6.236452765481385,
          6.246535398666751,
          6.256618031852117,
          6.266700665037483,
          6.276783298222849,
          6.286865931408215,
          6.296948564593581,
          6.307031197778947,
          6.317113830964313,
          6.327196464149679,
          6.3372790973350455,
          6.3473617305204115,
          6.357444363705778,
          6.367526996891144,
          6.37760963007651,
          6.387692263261876,
          6.397774896447242,
          6.407857529632608,
          6.417940162817974,
          6.42802279600334,
          6.438105429188706,
          6.448188062374072,
          6.458270695559438,
          6.468353328744804,
          6.47843596193017,
          6.488518595115537,
          6.498601228300903,
          6.508683861486269,
          6.5187664946716355,
          6.5288491278570016,
          6.538931761042368,
          6.549014394227735,
          6.5590970274131,
          6.569179660598466,
          6.579262293783833,
          6.589344926969199,
          6.599427560154565,
          6.609510193339931,
          6.619592826525297,
          6.629675459710663,
          6.639758092896029,
          6.649840726081395
         ]
        }
       ],
       "layout": {
        "template": {
         "data": {
          "bar": [
           {
            "error_x": {
             "color": "#2a3f5f"
            },
            "error_y": {
             "color": "#2a3f5f"
            },
            "marker": {
             "line": {
              "color": "#E5ECF6",
              "width": 0.5
             },
             "pattern": {
              "fillmode": "overlay",
              "size": 10,
              "solidity": 0.2
             }
            },
            "type": "bar"
           }
          ],
          "barpolar": [
           {
            "marker": {
             "line": {
              "color": "#E5ECF6",
              "width": 0.5
             },
             "pattern": {
              "fillmode": "overlay",
              "size": 10,
              "solidity": 0.2
             }
            },
            "type": "barpolar"
           }
          ],
          "carpet": [
           {
            "aaxis": {
             "endlinecolor": "#2a3f5f",
             "gridcolor": "white",
             "linecolor": "white",
             "minorgridcolor": "white",
             "startlinecolor": "#2a3f5f"
            },
            "baxis": {
             "endlinecolor": "#2a3f5f",
             "gridcolor": "white",
             "linecolor": "white",
             "minorgridcolor": "white",
             "startlinecolor": "#2a3f5f"
            },
            "type": "carpet"
           }
          ],
          "choropleth": [
           {
            "colorbar": {
             "outlinewidth": 0,
             "ticks": ""
            },
            "type": "choropleth"
           }
          ],
          "contour": [
           {
            "colorbar": {
             "outlinewidth": 0,
             "ticks": ""
            },
            "colorscale": [
             [
              0,
              "#0d0887"
             ],
             [
              0.1111111111111111,
              "#46039f"
             ],
             [
              0.2222222222222222,
              "#7201a8"
             ],
             [
              0.3333333333333333,
              "#9c179e"
             ],
             [
              0.4444444444444444,
              "#bd3786"
             ],
             [
              0.5555555555555556,
              "#d8576b"
             ],
             [
              0.6666666666666666,
              "#ed7953"
             ],
             [
              0.7777777777777778,
              "#fb9f3a"
             ],
             [
              0.8888888888888888,
              "#fdca26"
             ],
             [
              1,
              "#f0f921"
             ]
            ],
            "type": "contour"
           }
          ],
          "contourcarpet": [
           {
            "colorbar": {
             "outlinewidth": 0,
             "ticks": ""
            },
            "type": "contourcarpet"
           }
          ],
          "heatmap": [
           {
            "colorbar": {
             "outlinewidth": 0,
             "ticks": ""
            },
            "colorscale": [
             [
              0,
              "#0d0887"
             ],
             [
              0.1111111111111111,
              "#46039f"
             ],
             [
              0.2222222222222222,
              "#7201a8"
             ],
             [
              0.3333333333333333,
              "#9c179e"
             ],
             [
              0.4444444444444444,
              "#bd3786"
             ],
             [
              0.5555555555555556,
              "#d8576b"
             ],
             [
              0.6666666666666666,
              "#ed7953"
             ],
             [
              0.7777777777777778,
              "#fb9f3a"
             ],
             [
              0.8888888888888888,
              "#fdca26"
             ],
             [
              1,
              "#f0f921"
             ]
            ],
            "type": "heatmap"
           }
          ],
          "histogram": [
           {
            "marker": {
             "pattern": {
              "fillmode": "overlay",
              "size": 10,
              "solidity": 0.2
             }
            },
            "type": "histogram"
           }
          ],
          "histogram2d": [
           {
            "colorbar": {
             "outlinewidth": 0,
             "ticks": ""
            },
            "colorscale": [
             [
              0,
              "#0d0887"
             ],
             [
              0.1111111111111111,
              "#46039f"
             ],
             [
              0.2222222222222222,
              "#7201a8"
             ],
             [
              0.3333333333333333,
              "#9c179e"
             ],
             [
              0.4444444444444444,
              "#bd3786"
             ],
             [
              0.5555555555555556,
              "#d8576b"
             ],
             [
              0.6666666666666666,
              "#ed7953"
             ],
             [
              0.7777777777777778,
              "#fb9f3a"
             ],
             [
              0.8888888888888888,
              "#fdca26"
             ],
             [
              1,
              "#f0f921"
             ]
            ],
            "type": "histogram2d"
           }
          ],
          "histogram2dcontour": [
           {
            "colorbar": {
             "outlinewidth": 0,
             "ticks": ""
            },
            "colorscale": [
             [
              0,
              "#0d0887"
             ],
             [
              0.1111111111111111,
              "#46039f"
             ],
             [
              0.2222222222222222,
              "#7201a8"
             ],
             [
              0.3333333333333333,
              "#9c179e"
             ],
             [
              0.4444444444444444,
              "#bd3786"
             ],
             [
              0.5555555555555556,
              "#d8576b"
             ],
             [
              0.6666666666666666,
              "#ed7953"
             ],
             [
              0.7777777777777778,
              "#fb9f3a"
             ],
             [
              0.8888888888888888,
              "#fdca26"
             ],
             [
              1,
              "#f0f921"
             ]
            ],
            "type": "histogram2dcontour"
           }
          ],
          "mesh3d": [
           {
            "colorbar": {
             "outlinewidth": 0,
             "ticks": ""
            },
            "type": "mesh3d"
           }
          ],
          "parcoords": [
           {
            "line": {
             "colorbar": {
              "outlinewidth": 0,
              "ticks": ""
             }
            },
            "type": "parcoords"
           }
          ],
          "pie": [
           {
            "automargin": true,
            "type": "pie"
           }
          ],
          "scatter": [
           {
            "fillpattern": {
             "fillmode": "overlay",
             "size": 10,
             "solidity": 0.2
            },
            "type": "scatter"
           }
          ],
          "scatter3d": [
           {
            "line": {
             "colorbar": {
              "outlinewidth": 0,
              "ticks": ""
             }
            },
            "marker": {
             "colorbar": {
              "outlinewidth": 0,
              "ticks": ""
             }
            },
            "type": "scatter3d"
           }
          ],
          "scattercarpet": [
           {
            "marker": {
             "colorbar": {
              "outlinewidth": 0,
              "ticks": ""
             }
            },
            "type": "scattercarpet"
           }
          ],
          "scattergeo": [
           {
            "marker": {
             "colorbar": {
              "outlinewidth": 0,
              "ticks": ""
             }
            },
            "type": "scattergeo"
           }
          ],
          "scattergl": [
           {
            "marker": {
             "colorbar": {
              "outlinewidth": 0,
              "ticks": ""
             }
            },
            "type": "scattergl"
           }
          ],
          "scattermap": [
           {
            "marker": {
             "colorbar": {
              "outlinewidth": 0,
              "ticks": ""
             }
            },
            "type": "scattermap"
           }
          ],
          "scattermapbox": [
           {
            "marker": {
             "colorbar": {
              "outlinewidth": 0,
              "ticks": ""
             }
            },
            "type": "scattermapbox"
           }
          ],
          "scatterpolar": [
           {
            "marker": {
             "colorbar": {
              "outlinewidth": 0,
              "ticks": ""
             }
            },
            "type": "scatterpolar"
           }
          ],
          "scatterpolargl": [
           {
            "marker": {
             "colorbar": {
              "outlinewidth": 0,
              "ticks": ""
             }
            },
            "type": "scatterpolargl"
           }
          ],
          "scatterternary": [
           {
            "marker": {
             "colorbar": {
              "outlinewidth": 0,
              "ticks": ""
             }
            },
            "type": "scatterternary"
           }
          ],
          "surface": [
           {
            "colorbar": {
             "outlinewidth": 0,
             "ticks": ""
            },
            "colorscale": [
             [
              0,
              "#0d0887"
             ],
             [
              0.1111111111111111,
              "#46039f"
             ],
             [
              0.2222222222222222,
              "#7201a8"
             ],
             [
              0.3333333333333333,
              "#9c179e"
             ],
             [
              0.4444444444444444,
              "#bd3786"
             ],
             [
              0.5555555555555556,
              "#d8576b"
             ],
             [
              0.6666666666666666,
              "#ed7953"
             ],
             [
              0.7777777777777778,
              "#fb9f3a"
             ],
             [
              0.8888888888888888,
              "#fdca26"
             ],
             [
              1,
              "#f0f921"
             ]
            ],
            "type": "surface"
           }
          ],
          "table": [
           {
            "cells": {
             "fill": {
              "color": "#EBF0F8"
             },
             "line": {
              "color": "white"
             }
            },
            "header": {
             "fill": {
              "color": "#C8D4E3"
             },
             "line": {
              "color": "white"
             }
            },
            "type": "table"
           }
          ]
         },
         "layout": {
          "annotationdefaults": {
           "arrowcolor": "#2a3f5f",
           "arrowhead": 0,
           "arrowwidth": 1
          },
          "autotypenumbers": "strict",
          "coloraxis": {
           "colorbar": {
            "outlinewidth": 0,
            "ticks": ""
           }
          },
          "colorscale": {
           "diverging": [
            [
             0,
             "#8e0152"
            ],
            [
             0.1,
             "#c51b7d"
            ],
            [
             0.2,
             "#de77ae"
            ],
            [
             0.3,
             "#f1b6da"
            ],
            [
             0.4,
             "#fde0ef"
            ],
            [
             0.5,
             "#f7f7f7"
            ],
            [
             0.6,
             "#e6f5d0"
            ],
            [
             0.7,
             "#b8e186"
            ],
            [
             0.8,
             "#7fbc41"
            ],
            [
             0.9,
             "#4d9221"
            ],
            [
             1,
             "#276419"
            ]
           ],
           "sequential": [
            [
             0,
             "#0d0887"
            ],
            [
             0.1111111111111111,
             "#46039f"
            ],
            [
             0.2222222222222222,
             "#7201a8"
            ],
            [
             0.3333333333333333,
             "#9c179e"
            ],
            [
             0.4444444444444444,
             "#bd3786"
            ],
            [
             0.5555555555555556,
             "#d8576b"
            ],
            [
             0.6666666666666666,
             "#ed7953"
            ],
            [
             0.7777777777777778,
             "#fb9f3a"
            ],
            [
             0.8888888888888888,
             "#fdca26"
            ],
            [
             1,
             "#f0f921"
            ]
           ],
           "sequentialminus": [
            [
             0,
             "#0d0887"
            ],
            [
             0.1111111111111111,
             "#46039f"
            ],
            [
             0.2222222222222222,
             "#7201a8"
            ],
            [
             0.3333333333333333,
             "#9c179e"
            ],
            [
             0.4444444444444444,
             "#bd3786"
            ],
            [
             0.5555555555555556,
             "#d8576b"
            ],
            [
             0.6666666666666666,
             "#ed7953"
            ],
            [
             0.7777777777777778,
             "#fb9f3a"
            ],
            [
             0.8888888888888888,
             "#fdca26"
            ],
            [
             1,
             "#f0f921"
            ]
           ]
          },
          "colorway": [
           "#636efa",
           "#EF553B",
           "#00cc96",
           "#ab63fa",
           "#FFA15A",
           "#19d3f3",
           "#FF6692",
           "#B6E880",
           "#FF97FF",
           "#FECB52"
          ],
          "font": {
           "color": "#2a3f5f"
          },
          "geo": {
           "bgcolor": "white",
           "lakecolor": "white",
           "landcolor": "#E5ECF6",
           "showlakes": true,
           "showland": true,
           "subunitcolor": "white"
          },
          "hoverlabel": {
           "align": "left"
          },
          "hovermode": "closest",
          "mapbox": {
           "style": "light"
          },
          "paper_bgcolor": "white",
          "plot_bgcolor": "#E5ECF6",
          "polar": {
           "angularaxis": {
            "gridcolor": "white",
            "linecolor": "white",
            "ticks": ""
           },
           "bgcolor": "#E5ECF6",
           "radialaxis": {
            "gridcolor": "white",
            "linecolor": "white",
            "ticks": ""
           }
          },
          "scene": {
           "xaxis": {
            "backgroundcolor": "#E5ECF6",
            "gridcolor": "white",
            "gridwidth": 2,
            "linecolor": "white",
            "showbackground": true,
            "ticks": "",
            "zerolinecolor": "white"
           },
           "yaxis": {
            "backgroundcolor": "#E5ECF6",
            "gridcolor": "white",
            "gridwidth": 2,
            "linecolor": "white",
            "showbackground": true,
            "ticks": "",
            "zerolinecolor": "white"
           },
           "zaxis": {
            "backgroundcolor": "#E5ECF6",
            "gridcolor": "white",
            "gridwidth": 2,
            "linecolor": "white",
            "showbackground": true,
            "ticks": "",
            "zerolinecolor": "white"
           }
          },
          "shapedefaults": {
           "line": {
            "color": "#2a3f5f"
           }
          },
          "ternary": {
           "aaxis": {
            "gridcolor": "white",
            "linecolor": "white",
            "ticks": ""
           },
           "baxis": {
            "gridcolor": "white",
            "linecolor": "white",
            "ticks": ""
           },
           "bgcolor": "#E5ECF6",
           "caxis": {
            "gridcolor": "white",
            "linecolor": "white",
            "ticks": ""
           }
          },
          "title": {
           "x": 0.05
          },
          "xaxis": {
           "automargin": true,
           "gridcolor": "white",
           "linecolor": "white",
           "ticks": "",
           "title": {
            "standoff": 15
           },
           "zerolinecolor": "white",
           "zerolinewidth": 2
          },
          "yaxis": {
           "automargin": true,
           "gridcolor": "white",
           "linecolor": "white",
           "ticks": "",
           "title": {
            "standoff": 15
           },
           "zerolinecolor": "white",
           "zerolinewidth": 2
          }
         }
        },
        "title": {
         "text": "intersect points fitline"
        }
       }
      }
     },
     "metadata": {},
     "output_type": "display_data"
    },
    {
     "data": {
      "application/vnd.plotly.v1+json": {
       "config": {
        "plotlyServerURL": "https://plot.ly"
       },
       "data": [
        {
         "mode": "lines",
         "type": "scatter",
         "x": [
          10,
          11,
          12,
          13,
          14,
          15,
          16,
          17,
          18,
          19,
          20,
          21,
          22,
          23,
          24,
          25,
          26,
          27,
          28,
          29,
          30,
          31,
          32,
          33,
          34,
          35,
          36,
          37,
          38,
          39,
          40,
          41,
          42,
          43,
          44,
          45,
          46,
          47,
          48,
          49,
          50,
          51,
          52,
          53,
          54,
          55,
          56,
          57,
          58,
          59,
          60,
          61,
          62,
          63,
          64,
          65,
          66,
          67,
          68,
          69,
          70,
          71,
          72,
          73,
          74,
          75,
          76,
          77,
          78,
          79,
          80,
          81,
          82,
          83,
          84,
          85,
          86,
          87,
          88,
          89,
          90,
          91,
          92,
          93,
          94,
          95,
          96,
          97,
          98,
          99,
          100,
          101,
          102,
          103,
          104,
          105,
          106,
          107,
          108,
          109,
          110,
          111,
          112,
          113,
          114,
          115,
          116,
          117,
          118,
          119,
          120,
          121,
          122,
          123,
          124,
          125,
          126,
          127,
          128,
          129,
          130,
          131,
          132,
          133,
          134,
          135,
          136,
          137,
          138,
          139,
          140,
          141,
          142,
          143,
          144,
          145,
          146,
          147,
          148,
          149,
          150,
          151,
          152,
          153,
          154,
          155,
          156,
          157,
          158,
          159,
          160,
          161,
          162,
          163,
          164,
          165,
          166,
          167,
          168,
          169,
          170,
          171,
          172,
          173,
          174,
          175,
          176,
          177,
          178,
          179,
          180,
          181,
          182,
          183,
          184,
          185,
          186,
          187,
          188,
          189,
          190,
          191,
          192,
          193,
          194,
          195,
          196,
          197,
          198,
          199,
          200,
          201,
          202,
          203,
          204,
          205,
          206,
          207,
          208,
          209,
          210,
          211,
          212,
          213,
          214,
          215,
          216,
          217,
          218,
          219,
          220,
          221,
          222,
          223,
          224,
          225,
          226,
          227,
          228,
          229,
          230,
          231,
          232,
          233,
          234,
          235,
          236,
          237,
          238,
          239
         ],
         "y": [
          5.530668367725866e-9,
          -7.321210304667147e-10,
          -7.262123347118177e-9,
          9.558736024928294e-10,
          6.605508140467009e-9,
          -9.66170254912413e-9,
          -5.366700861486606e-9,
          -7.924798595126958e-10,
          -2.3015095607092917e-8,
          -1.60104187685306e-8,
          -2.4296340050966592e-8,
          -1.8315199135088278e-8,
          -2.06353778509083e-8,
          -2.1041638653684913e-8,
          -1.4118452185130081e-8,
          -2.1404922279089078e-10,
          -3.152027971964344e-8,
          -1.6270269576068586e-8,
          8.919431415677082e-9,
          2.8755486880527314e-10,
          -6.441711164484332e-9,
          1.2181439856817633e-8,
          4.528713404283735e-9,
          -2.26418910287407e-8,
          -5.567495797720312e-9,
          -5.543855152723154e-9,
          -6.219590176215206e-9,
          -1.1734572424870748e-8,
          8.318319366651394e-9,
          -3.4038416529824644e-9,
          6.027216947757097e-9,
          -3.5957352650939356e-9,
          -1.279359995720597e-8,
          -1.9354785329994684e-8,
          -1.6905942423761644e-8,
          -3.35137748663783e-8,
          3.078130639266874e-9,
          -3.474461074404189e-8,
          -1.2404679061717161e-8,
          -1.0646516557244468e-8,
          -2.1123784499366138e-8,
          -1.6113612666401878e-8,
          -6.531418073052464e-9,
          -8.316501265426268e-9,
          1.5765538208256658e-8,
          -1.30471047299352e-8,
          1.4396404068861557e-9,
          -1.1851020609299212e-8,
          -4.939645137369553e-9,
          -1.7616930136910014e-8,
          -1.345482836256906e-9,
          2.826392453414428e-9,
          1.999037912980839e-8,
          -4.89872142850345e-10,
          -2.3017534545033413e-9,
          -1.0042153775202678e-9,
          -1.228540913444931e-8,
          -3.729283548636886e-11,
          3.3341818195253836e-9,
          8.743398005606196e-9,
          -1.4072322862546116e-8,
          5.590819363021637e-9,
          -3.8786049927352906e-9,
          -1.915868885760119e-8,
          -1.4689904404008303e-8,
          -1.9047936561378265e-8,
          -2.0662497490775422e-8,
          -2.734265081016929e-8,
          -1.547216132991025e-8,
          -1.2028694484911284e-8,
          -1.3759263062240734e-8,
          1.834916840692813e-8,
          6.46336673071346e-9,
          -5.837008210107797e-9,
          2.1198426125579317e-8,
          1.1261677812512971e-8,
          4.512221707386743e-9,
          3.162543116275174e-9,
          1.1392317311731404e-8,
          -2.5639248057984787e-8,
          -4.862075186906623e-10,
          -3.783080515518122e-9,
          -5.889076781784297e-9,
          -5.423802740267547e-9,
          -2.997476933330745e-9,
          1.4419105021090672e-8,
          2.530307430248513e-8,
          9.36957267327898e-9,
          -5.117070323024109e-9,
          1.8997170947443465e-8,
          3.4485507782733293e-9,
          1.3070060589370769e-9,
          -2.5555495497542324e-9,
          3.714452745384733e-9,
          1.8491046027691027e-8,
          2.8539804297622595e-8,
          2.527768483417958e-8,
          -1.591987075499901e-8,
          -3.9186165423643615e-10,
          7.067620266809627e-9,
          3.668290649017081e-8,
          -7.479416197497812e-9,
          9.866533368096952e-9,
          3.4394096459777757e-9,
          -3.039606433219433e-8,
          1.0422753327077316e-8,
          6.7999215147551695e-9,
          -1.9628148884009988e-8,
          8.123749672961367e-9,
          5.940872682685949e-9,
          -1.2486958134161341e-8,
          6.078562542199961e-9,
          4.101697648195568e-9,
          -6.746006420144113e-9,
          3.3429519596950286e-8,
          2.5437607575895527e-9,
          -1.5171287337523154e-8,
          3.296408479513957e-9,
          3.993211983299716e-9,
          6.830743970454023e-9,
          -5.706053407550371e-9,
          1.9809043294571893e-10,
          2.866676673818347e-9,
          2.0810881906641043e-8,
          1.2326954568209203e-8,
          -2.7853461759264064e-9,
          1.4786921909148987e-8,
          1.965387763647186e-8,
          4.477065829178173e-9,
          -1.0023146757021095e-8,
          3.0387514726726295e-10,
          -3.328037401217898e-9,
          -3.749109467321432e-9,
          -1.3864808856567379e-8,
          2.371789520339007e-8,
          4.218098670349946e-8,
          2.4417268207344023e-8,
          1.23910561811158e-8,
          1.5908810269138485e-8,
          3.761744693520086e-9,
          1.0270697181624655e-8,
          1.3416676658550841e-8,
          1.8896742837171132e-8,
          2.1482269296768663e-8,
          8.711326771049244e-9,
          3.0344984303098954e-8,
          2.5529553582259723e-8,
          2.6723578017140426e-8,
          2.8392689088718726e-8,
          4.3761133383668493e-8,
          1.2993152331830515e-8,
          1.9181724653094534e-8,
          2.9581990190763463e-8,
          7.601161478021368e-9,
          1.9823910513139253e-8,
          2.4448634228235733e-8,
          3.044151686282248e-8,
          2.6484272552806942e-9,
          7.268084800671204e-9,
          2.402086796138292e-8,
          3.597926312437494e-8,
          1.914477643083501e-8,
          2.515219588161699e-8,
          2.8281406549979238e-8,
          2.6274365794165533e-8,
          1.6598079355389928e-8,
          2.3946634897242802e-8,
          -3.3273908073283565e-9,
          2.5828722272080995e-8,
          4.276530951585755e-8,
          4.084184279662395e-8,
          1.86171247307243e-8,
          2.4248494767675766e-8,
          2.6180138057441127e-8,
          2.2805543231640968e-8,
          2.185177283564599e-8,
          2.3512248148449544e-8,
          2.6725322399556717e-8,
          3.217695176971347e-8,
          1.788789383283529e-8,
          2.7872066432621523e-8,
          3.058526321098043e-8,
          3.931193859330051e-8,
          1.401511884324691e-8,
          5.4978501751179465e-9,
          2.2345813199819986e-8,
          2.4688306510256552e-8,
          4.005068365842135e-8,
          1.749008493590054e-8,
          4.077763904319909e-8,
          2.292661882563607e-8,
          4.7121499591185056e-8,
          3.8198487040119744e-8,
          5.297486183053479e-8,
          3.692494310314487e-8,
          2.507510021843018e-8,
          3.514217716826806e-8,
          5.9187762246892817e-8,
          4.468019199066475e-8,
          2.680255750675542e-8,
          3.653581792661953e-8,
          3.584002872258907e-8,
          2.1996238608323893e-8,
          2.929017117736521e-8,
          3.8561128512526466e-8,
          4.089729355172267e-8,
          4.313767121288947e-8,
          3.560562866766759e-8,
          2.5376102108509713e-8,
          4.294559552420196e-8,
          3.7429567889546433e-8,
          1.1600115534804445e-8,
          1.9030372833128695e-8,
          5.1270998113750466e-8,
          4.044188095519985e-8,
          -0.0000024027346494648327,
          4.414147714015826e-8,
          2.5676611947744732e-8,
          2.248266639526264e-8,
          2.934102560914198e-8,
          3.521371727543965e-8,
          3.642165946615705e-8,
          6.498641269558902e-8,
          4.112432261393906e-8,
          4.838123945916095e-8,
          1.4669686798640669e-8,
          4.032021561073407e-8,
          4.5945123261503795e-8,
          5.448484774461804e-8,
          4.842419176753765e-8
         ]
        }
       ],
       "layout": {
        "template": {
         "data": {
          "bar": [
           {
            "error_x": {
             "color": "#2a3f5f"
            },
            "error_y": {
             "color": "#2a3f5f"
            },
            "marker": {
             "line": {
              "color": "#E5ECF6",
              "width": 0.5
             },
             "pattern": {
              "fillmode": "overlay",
              "size": 10,
              "solidity": 0.2
             }
            },
            "type": "bar"
           }
          ],
          "barpolar": [
           {
            "marker": {
             "line": {
              "color": "#E5ECF6",
              "width": 0.5
             },
             "pattern": {
              "fillmode": "overlay",
              "size": 10,
              "solidity": 0.2
             }
            },
            "type": "barpolar"
           }
          ],
          "carpet": [
           {
            "aaxis": {
             "endlinecolor": "#2a3f5f",
             "gridcolor": "white",
             "linecolor": "white",
             "minorgridcolor": "white",
             "startlinecolor": "#2a3f5f"
            },
            "baxis": {
             "endlinecolor": "#2a3f5f",
             "gridcolor": "white",
             "linecolor": "white",
             "minorgridcolor": "white",
             "startlinecolor": "#2a3f5f"
            },
            "type": "carpet"
           }
          ],
          "choropleth": [
           {
            "colorbar": {
             "outlinewidth": 0,
             "ticks": ""
            },
            "type": "choropleth"
           }
          ],
          "contour": [
           {
            "colorbar": {
             "outlinewidth": 0,
             "ticks": ""
            },
            "colorscale": [
             [
              0,
              "#0d0887"
             ],
             [
              0.1111111111111111,
              "#46039f"
             ],
             [
              0.2222222222222222,
              "#7201a8"
             ],
             [
              0.3333333333333333,
              "#9c179e"
             ],
             [
              0.4444444444444444,
              "#bd3786"
             ],
             [
              0.5555555555555556,
              "#d8576b"
             ],
             [
              0.6666666666666666,
              "#ed7953"
             ],
             [
              0.7777777777777778,
              "#fb9f3a"
             ],
             [
              0.8888888888888888,
              "#fdca26"
             ],
             [
              1,
              "#f0f921"
             ]
            ],
            "type": "contour"
           }
          ],
          "contourcarpet": [
           {
            "colorbar": {
             "outlinewidth": 0,
             "ticks": ""
            },
            "type": "contourcarpet"
           }
          ],
          "heatmap": [
           {
            "colorbar": {
             "outlinewidth": 0,
             "ticks": ""
            },
            "colorscale": [
             [
              0,
              "#0d0887"
             ],
             [
              0.1111111111111111,
              "#46039f"
             ],
             [
              0.2222222222222222,
              "#7201a8"
             ],
             [
              0.3333333333333333,
              "#9c179e"
             ],
             [
              0.4444444444444444,
              "#bd3786"
             ],
             [
              0.5555555555555556,
              "#d8576b"
             ],
             [
              0.6666666666666666,
              "#ed7953"
             ],
             [
              0.7777777777777778,
              "#fb9f3a"
             ],
             [
              0.8888888888888888,
              "#fdca26"
             ],
             [
              1,
              "#f0f921"
             ]
            ],
            "type": "heatmap"
           }
          ],
          "histogram": [
           {
            "marker": {
             "pattern": {
              "fillmode": "overlay",
              "size": 10,
              "solidity": 0.2
             }
            },
            "type": "histogram"
           }
          ],
          "histogram2d": [
           {
            "colorbar": {
             "outlinewidth": 0,
             "ticks": ""
            },
            "colorscale": [
             [
              0,
              "#0d0887"
             ],
             [
              0.1111111111111111,
              "#46039f"
             ],
             [
              0.2222222222222222,
              "#7201a8"
             ],
             [
              0.3333333333333333,
              "#9c179e"
             ],
             [
              0.4444444444444444,
              "#bd3786"
             ],
             [
              0.5555555555555556,
              "#d8576b"
             ],
             [
              0.6666666666666666,
              "#ed7953"
             ],
             [
              0.7777777777777778,
              "#fb9f3a"
             ],
             [
              0.8888888888888888,
              "#fdca26"
             ],
             [
              1,
              "#f0f921"
             ]
            ],
            "type": "histogram2d"
           }
          ],
          "histogram2dcontour": [
           {
            "colorbar": {
             "outlinewidth": 0,
             "ticks": ""
            },
            "colorscale": [
             [
              0,
              "#0d0887"
             ],
             [
              0.1111111111111111,
              "#46039f"
             ],
             [
              0.2222222222222222,
              "#7201a8"
             ],
             [
              0.3333333333333333,
              "#9c179e"
             ],
             [
              0.4444444444444444,
              "#bd3786"
             ],
             [
              0.5555555555555556,
              "#d8576b"
             ],
             [
              0.6666666666666666,
              "#ed7953"
             ],
             [
              0.7777777777777778,
              "#fb9f3a"
             ],
             [
              0.8888888888888888,
              "#fdca26"
             ],
             [
              1,
              "#f0f921"
             ]
            ],
            "type": "histogram2dcontour"
           }
          ],
          "mesh3d": [
           {
            "colorbar": {
             "outlinewidth": 0,
             "ticks": ""
            },
            "type": "mesh3d"
           }
          ],
          "parcoords": [
           {
            "line": {
             "colorbar": {
              "outlinewidth": 0,
              "ticks": ""
             }
            },
            "type": "parcoords"
           }
          ],
          "pie": [
           {
            "automargin": true,
            "type": "pie"
           }
          ],
          "scatter": [
           {
            "fillpattern": {
             "fillmode": "overlay",
             "size": 10,
             "solidity": 0.2
            },
            "type": "scatter"
           }
          ],
          "scatter3d": [
           {
            "line": {
             "colorbar": {
              "outlinewidth": 0,
              "ticks": ""
             }
            },
            "marker": {
             "colorbar": {
              "outlinewidth": 0,
              "ticks": ""
             }
            },
            "type": "scatter3d"
           }
          ],
          "scattercarpet": [
           {
            "marker": {
             "colorbar": {
              "outlinewidth": 0,
              "ticks": ""
             }
            },
            "type": "scattercarpet"
           }
          ],
          "scattergeo": [
           {
            "marker": {
             "colorbar": {
              "outlinewidth": 0,
              "ticks": ""
             }
            },
            "type": "scattergeo"
           }
          ],
          "scattergl": [
           {
            "marker": {
             "colorbar": {
              "outlinewidth": 0,
              "ticks": ""
             }
            },
            "type": "scattergl"
           }
          ],
          "scattermap": [
           {
            "marker": {
             "colorbar": {
              "outlinewidth": 0,
              "ticks": ""
             }
            },
            "type": "scattermap"
           }
          ],
          "scattermapbox": [
           {
            "marker": {
             "colorbar": {
              "outlinewidth": 0,
              "ticks": ""
             }
            },
            "type": "scattermapbox"
           }
          ],
          "scatterpolar": [
           {
            "marker": {
             "colorbar": {
              "outlinewidth": 0,
              "ticks": ""
             }
            },
            "type": "scatterpolar"
           }
          ],
          "scatterpolargl": [
           {
            "marker": {
             "colorbar": {
              "outlinewidth": 0,
              "ticks": ""
             }
            },
            "type": "scatterpolargl"
           }
          ],
          "scatterternary": [
           {
            "marker": {
             "colorbar": {
              "outlinewidth": 0,
              "ticks": ""
             }
            },
            "type": "scatterternary"
           }
          ],
          "surface": [
           {
            "colorbar": {
             "outlinewidth": 0,
             "ticks": ""
            },
            "colorscale": [
             [
              0,
              "#0d0887"
             ],
             [
              0.1111111111111111,
              "#46039f"
             ],
             [
              0.2222222222222222,
              "#7201a8"
             ],
             [
              0.3333333333333333,
              "#9c179e"
             ],
             [
              0.4444444444444444,
              "#bd3786"
             ],
             [
              0.5555555555555556,
              "#d8576b"
             ],
             [
              0.6666666666666666,
              "#ed7953"
             ],
             [
              0.7777777777777778,
              "#fb9f3a"
             ],
             [
              0.8888888888888888,
              "#fdca26"
             ],
             [
              1,
              "#f0f921"
             ]
            ],
            "type": "surface"
           }
          ],
          "table": [
           {
            "cells": {
             "fill": {
              "color": "#EBF0F8"
             },
             "line": {
              "color": "white"
             }
            },
            "header": {
             "fill": {
              "color": "#C8D4E3"
             },
             "line": {
              "color": "white"
             }
            },
            "type": "table"
           }
          ]
         },
         "layout": {
          "annotationdefaults": {
           "arrowcolor": "#2a3f5f",
           "arrowhead": 0,
           "arrowwidth": 1
          },
          "autotypenumbers": "strict",
          "coloraxis": {
           "colorbar": {
            "outlinewidth": 0,
            "ticks": ""
           }
          },
          "colorscale": {
           "diverging": [
            [
             0,
             "#8e0152"
            ],
            [
             0.1,
             "#c51b7d"
            ],
            [
             0.2,
             "#de77ae"
            ],
            [
             0.3,
             "#f1b6da"
            ],
            [
             0.4,
             "#fde0ef"
            ],
            [
             0.5,
             "#f7f7f7"
            ],
            [
             0.6,
             "#e6f5d0"
            ],
            [
             0.7,
             "#b8e186"
            ],
            [
             0.8,
             "#7fbc41"
            ],
            [
             0.9,
             "#4d9221"
            ],
            [
             1,
             "#276419"
            ]
           ],
           "sequential": [
            [
             0,
             "#0d0887"
            ],
            [
             0.1111111111111111,
             "#46039f"
            ],
            [
             0.2222222222222222,
             "#7201a8"
            ],
            [
             0.3333333333333333,
             "#9c179e"
            ],
            [
             0.4444444444444444,
             "#bd3786"
            ],
            [
             0.5555555555555556,
             "#d8576b"
            ],
            [
             0.6666666666666666,
             "#ed7953"
            ],
            [
             0.7777777777777778,
             "#fb9f3a"
            ],
            [
             0.8888888888888888,
             "#fdca26"
            ],
            [
             1,
             "#f0f921"
            ]
           ],
           "sequentialminus": [
            [
             0,
             "#0d0887"
            ],
            [
             0.1111111111111111,
             "#46039f"
            ],
            [
             0.2222222222222222,
             "#7201a8"
            ],
            [
             0.3333333333333333,
             "#9c179e"
            ],
            [
             0.4444444444444444,
             "#bd3786"
            ],
            [
             0.5555555555555556,
             "#d8576b"
            ],
            [
             0.6666666666666666,
             "#ed7953"
            ],
            [
             0.7777777777777778,
             "#fb9f3a"
            ],
            [
             0.8888888888888888,
             "#fdca26"
            ],
            [
             1,
             "#f0f921"
            ]
           ]
          },
          "colorway": [
           "#636efa",
           "#EF553B",
           "#00cc96",
           "#ab63fa",
           "#FFA15A",
           "#19d3f3",
           "#FF6692",
           "#B6E880",
           "#FF97FF",
           "#FECB52"
          ],
          "font": {
           "color": "#2a3f5f"
          },
          "geo": {
           "bgcolor": "white",
           "lakecolor": "white",
           "landcolor": "#E5ECF6",
           "showlakes": true,
           "showland": true,
           "subunitcolor": "white"
          },
          "hoverlabel": {
           "align": "left"
          },
          "hovermode": "closest",
          "mapbox": {
           "style": "light"
          },
          "paper_bgcolor": "white",
          "plot_bgcolor": "#E5ECF6",
          "polar": {
           "angularaxis": {
            "gridcolor": "white",
            "linecolor": "white",
            "ticks": ""
           },
           "bgcolor": "#E5ECF6",
           "radialaxis": {
            "gridcolor": "white",
            "linecolor": "white",
            "ticks": ""
           }
          },
          "scene": {
           "xaxis": {
            "backgroundcolor": "#E5ECF6",
            "gridcolor": "white",
            "gridwidth": 2,
            "linecolor": "white",
            "showbackground": true,
            "ticks": "",
            "zerolinecolor": "white"
           },
           "yaxis": {
            "backgroundcolor": "#E5ECF6",
            "gridcolor": "white",
            "gridwidth": 2,
            "linecolor": "white",
            "showbackground": true,
            "ticks": "",
            "zerolinecolor": "white"
           },
           "zaxis": {
            "backgroundcolor": "#E5ECF6",
            "gridcolor": "white",
            "gridwidth": 2,
            "linecolor": "white",
            "showbackground": true,
            "ticks": "",
            "zerolinecolor": "white"
           }
          },
          "shapedefaults": {
           "line": {
            "color": "#2a3f5f"
           }
          },
          "ternary": {
           "aaxis": {
            "gridcolor": "white",
            "linecolor": "white",
            "ticks": ""
           },
           "baxis": {
            "gridcolor": "white",
            "linecolor": "white",
            "ticks": ""
           },
           "bgcolor": "#E5ECF6",
           "caxis": {
            "gridcolor": "white",
            "linecolor": "white",
            "ticks": ""
           }
          },
          "title": {
           "x": 0.05
          },
          "xaxis": {
           "automargin": true,
           "gridcolor": "white",
           "linecolor": "white",
           "ticks": "",
           "title": {
            "standoff": 15
           },
           "zerolinecolor": "white",
           "zerolinewidth": 2
          },
          "yaxis": {
           "automargin": true,
           "gridcolor": "white",
           "linecolor": "white",
           "ticks": "",
           "title": {
            "standoff": 15
           },
           "zerolinecolor": "white",
           "zerolinewidth": 2
          }
         }
        },
        "title": {
         "text": "intersect points diff"
        }
       }
      }
     },
     "metadata": {},
     "output_type": "display_data"
    },
    {
     "data": {
      "application/vnd.plotly.v1+json": {
       "config": {
        "plotlyServerURL": "https://plot.ly"
       },
       "data": [
        {
         "mode": "lines",
         "type": "scatter",
         "x": [
          10,
          11,
          12,
          13,
          14,
          15,
          16,
          17,
          18,
          19,
          20,
          21,
          22,
          23,
          24,
          25,
          26,
          27,
          28,
          29,
          30,
          31,
          32,
          33,
          34,
          35,
          36,
          37,
          38,
          39,
          40,
          41,
          42,
          43,
          44,
          45,
          46,
          47,
          48,
          49,
          50,
          51,
          52,
          53,
          54,
          55,
          56,
          57,
          58,
          59,
          60,
          61,
          62,
          63,
          64,
          65,
          66,
          67,
          68,
          69,
          70,
          71,
          72,
          73,
          74,
          75,
          76,
          77,
          78,
          79,
          80,
          81,
          82,
          83,
          84,
          85,
          86,
          87,
          88,
          89,
          90,
          91,
          92,
          93,
          94,
          95,
          96,
          97,
          98,
          99,
          100,
          101,
          102,
          103,
          104,
          105,
          106,
          107,
          108,
          109,
          110,
          111,
          112,
          113,
          114,
          115,
          116,
          117,
          118,
          119,
          120,
          121,
          122,
          123,
          124,
          125,
          126,
          127,
          128,
          129,
          130,
          131,
          132,
          133,
          134,
          135,
          136,
          137,
          138,
          139,
          140,
          141,
          142,
          143,
          144,
          145,
          146,
          147,
          148,
          149,
          150,
          151,
          152,
          153,
          154,
          155,
          156,
          157,
          158,
          159,
          160,
          161,
          162,
          163,
          164,
          165,
          166,
          167,
          168,
          169,
          170,
          171,
          172,
          173,
          174,
          175,
          176,
          177,
          178,
          179,
          180,
          181,
          182,
          183,
          184,
          185,
          186,
          187,
          188,
          189,
          190,
          191,
          192,
          193,
          194,
          195,
          196,
          197,
          198,
          199,
          200,
          201,
          202,
          203,
          204,
          205,
          206,
          207,
          208,
          209,
          210,
          211,
          212,
          213,
          214,
          215,
          216,
          217,
          218,
          219,
          220,
          221,
          222,
          223,
          224,
          225,
          226,
          227,
          228,
          229,
          230,
          231,
          232,
          233,
          234
         ],
         "y": [
          5.530668367725866e-9,
          -7.321210304667147e-10,
          -7.262123347118177e-9,
          9.558736024928294e-10,
          6.605508140467009e-9,
          -9.66170254912413e-9,
          -5.366700861486606e-9,
          -7.924798595126958e-10,
          -2.3015095607092917e-8,
          -1.60104187685306e-8,
          -2.4296340050966592e-8,
          -1.8315199135088278e-8,
          -2.06353778509083e-8,
          -2.1041638653684913e-8,
          -1.4118452185130081e-8,
          -2.1404922279089078e-10,
          -3.152027971964344e-8,
          -1.6270269576068586e-8,
          8.919431415677082e-9,
          2.8755486880527314e-10,
          -6.441711164484332e-9,
          1.2181439856817633e-8,
          4.528713404283735e-9,
          -2.26418910287407e-8,
          -5.567495797720312e-9,
          -5.543855152723154e-9,
          -6.219590176215206e-9,
          -1.1734572424870748e-8,
          8.318319366651394e-9,
          -3.4038416529824644e-9,
          6.027216947757097e-9,
          -3.5957352650939356e-9,
          -1.279359995720597e-8,
          -1.9354785329994684e-8,
          -1.6905942423761644e-8,
          -3.35137748663783e-8,
          3.078130639266874e-9,
          -3.474461074404189e-8,
          -1.2404679061717161e-8,
          -1.0646516557244468e-8,
          -2.1123784499366138e-8,
          -1.6113612666401878e-8,
          -6.531418073052464e-9,
          -8.316501265426268e-9,
          1.5765538208256658e-8,
          -1.30471047299352e-8,
          1.4396404068861557e-9,
          -1.1851020609299212e-8,
          -4.939645137369553e-9,
          -1.7616930136910014e-8,
          -1.345482836256906e-9,
          2.826392453414428e-9,
          1.999037912980839e-8,
          -4.89872142850345e-10,
          -2.3017534545033413e-9,
          -1.0042153775202678e-9,
          -1.228540913444931e-8,
          -3.729283548636886e-11,
          3.3341818195253836e-9,
          8.743398005606196e-9,
          -1.4072322862546116e-8,
          5.590819363021637e-9,
          -3.8786049927352906e-9,
          -1.915868885760119e-8,
          -1.4689904404008303e-8,
          -1.9047936561378265e-8,
          -2.0662497490775422e-8,
          -2.734265081016929e-8,
          -1.547216132991025e-8,
          -1.2028694484911284e-8,
          -1.3759263062240734e-8,
          1.834916840692813e-8,
          6.46336673071346e-9,
          -5.837008210107797e-9,
          2.1198426125579317e-8,
          1.1261677812512971e-8,
          4.512221707386743e-9,
          3.162543116275174e-9,
          1.1392317311731404e-8,
          -2.5639248057984787e-8,
          -4.862075186906623e-10,
          -3.783080515518122e-9,
          -5.889076781784297e-9,
          -5.423802740267547e-9,
          -2.997476933330745e-9,
          1.4419105021090672e-8,
          2.530307430248513e-8,
          9.36957267327898e-9,
          -5.117070323024109e-9,
          1.8997170947443465e-8,
          3.4485507782733293e-9,
          1.3070060589370769e-9,
          -2.5555495497542324e-9,
          3.714452745384733e-9,
          1.8491046027691027e-8,
          2.8539804297622595e-8,
          2.527768483417958e-8,
          -1.591987075499901e-8,
          -3.9186165423643615e-10,
          7.067620266809627e-9,
          3.668290649017081e-8,
          -7.479416197497812e-9,
          9.866533368096952e-9,
          3.4394096459777757e-9,
          -3.039606433219433e-8,
          1.0422753327077316e-8,
          6.7999215147551695e-9,
          -1.9628148884009988e-8,
          8.123749672961367e-9,
          5.940872682685949e-9,
          -1.2486958134161341e-8,
          6.078562542199961e-9,
          4.101697648195568e-9,
          -6.746006420144113e-9,
          3.3429519596950286e-8,
          2.5437607575895527e-9,
          -1.5171287337523154e-8,
          3.296408479513957e-9,
          3.993211983299716e-9,
          6.830743970454023e-9,
          -5.706053407550371e-9,
          1.9809043294571893e-10,
          2.866676673818347e-9,
          2.0810881906641043e-8,
          1.2326954568209203e-8,
          -2.7853461759264064e-9,
          1.4786921909148987e-8,
          1.965387763647186e-8,
          4.477065829178173e-9,
          -1.0023146757021095e-8,
          3.0387514726726295e-10,
          -3.328037401217898e-9,
          -3.749109467321432e-9,
          -1.3864808856567379e-8,
          2.371789520339007e-8,
          4.218098670349946e-8,
          2.4417268207344023e-8,
          1.23910561811158e-8,
          1.5908810269138485e-8,
          3.761744693520086e-9,
          1.0270697181624655e-8,
          1.3416676658550841e-8,
          1.8896742837171132e-8,
          2.1482269296768663e-8,
          8.711326771049244e-9,
          3.0344984303098954e-8,
          2.5529553582259723e-8,
          2.6723578017140426e-8,
          2.8392689088718726e-8,
          4.3761133383668493e-8,
          1.2993152331830515e-8,
          1.9181724653094534e-8,
          2.9581990190763463e-8,
          7.601161478021368e-9,
          1.9823910513139253e-8,
          2.4448634228235733e-8,
          3.044151686282248e-8,
          2.6484272552806942e-9,
          7.268084800671204e-9,
          2.402086796138292e-8,
          3.597926312437494e-8,
          1.914477643083501e-8,
          2.515219588161699e-8,
          2.8281406549979238e-8,
          2.6274365794165533e-8,
          1.6598079355389928e-8,
          2.3946634897242802e-8,
          -3.3273908073283565e-9,
          2.5828722272080995e-8,
          4.276530951585755e-8,
          4.084184279662395e-8,
          1.86171247307243e-8,
          2.4248494767675766e-8,
          2.6180138057441127e-8,
          2.2805543231640968e-8,
          2.185177283564599e-8,
          2.3512248148449544e-8,
          2.6725322399556717e-8,
          3.217695176971347e-8,
          1.788789383283529e-8,
          2.7872066432621523e-8,
          3.058526321098043e-8,
          3.931193859330051e-8,
          1.401511884324691e-8,
          5.4978501751179465e-9,
          2.2345813199819986e-8,
          2.4688306510256552e-8,
          4.005068365842135e-8,
          1.749008493590054e-8,
          4.077763904319909e-8,
          2.292661882563607e-8,
          4.7121499591185056e-8,
          3.8198487040119744e-8,
          5.297486183053479e-8,
          3.692494310314487e-8,
          2.507510021843018e-8,
          3.514217716826806e-8,
          5.9187762246892817e-8,
          4.468019199066475e-8,
          2.680255750675542e-8,
          3.653581792661953e-8,
          3.584002872258907e-8,
          2.1996238608323893e-8,
          2.929017117736521e-8,
          3.8561128512526466e-8,
          4.089729355172267e-8,
          4.313767121288947e-8,
          3.560562866766759e-8,
          2.5376102108509713e-8,
          4.294559552420196e-8,
          3.7429567889546433e-8,
          1.1600115534804445e-8,
          1.9030372833128695e-8,
          5.1270998113750466e-8,
          4.044188095519985e-8,
          4.2291679047679054e-8,
          4.414147714015826e-8,
          2.5676611947744732e-8,
          2.248266639526264e-8,
          2.934102560914198e-8,
          3.521371727543965e-8,
          3.642165946615705e-8,
          6.498641269558902e-8,
          4.112432261393906e-8,
          4.838123945916095e-8
         ]
        },
        {
         "line": {
          "dash": "dash"
         },
         "mode": "lines",
         "type": "scatter",
         "x": [
          10,
          11,
          12,
          13,
          14,
          15,
          16,
          17,
          18,
          19,
          20,
          21,
          22,
          23,
          24,
          25,
          26,
          27,
          28,
          29,
          30,
          31,
          32,
          33,
          34,
          35,
          36,
          37,
          38,
          39,
          40,
          41,
          42,
          43,
          44,
          45,
          46,
          47,
          48,
          49,
          50,
          51,
          52,
          53,
          54,
          55,
          56,
          57,
          58,
          59,
          60,
          61,
          62,
          63,
          64,
          65,
          66,
          67,
          68,
          69,
          70,
          71,
          72,
          73,
          74,
          75,
          76,
          77,
          78,
          79,
          80,
          81,
          82,
          83,
          84,
          85,
          86,
          87,
          88,
          89,
          90,
          91,
          92,
          93,
          94,
          95,
          96,
          97,
          98,
          99,
          100,
          101,
          102,
          103,
          104,
          105,
          106,
          107,
          108,
          109,
          110,
          111,
          112,
          113,
          114,
          115,
          116,
          117,
          118,
          119,
          120,
          121,
          122,
          123,
          124,
          125,
          126,
          127,
          128,
          129,
          130,
          131,
          132,
          133,
          134,
          135,
          136,
          137,
          138,
          139,
          140,
          141,
          142,
          143,
          144,
          145,
          146,
          147,
          148,
          149,
          150,
          151,
          152,
          153,
          154,
          155,
          156,
          157,
          158,
          159,
          160,
          161,
          162,
          163,
          164,
          165,
          166,
          167,
          168,
          169,
          170,
          171,
          172,
          173,
          174,
          175,
          176,
          177,
          178,
          179,
          180,
          181,
          182,
          183,
          184,
          185,
          186,
          187,
          188,
          189,
          190,
          191,
          192,
          193,
          194,
          195,
          196,
          197,
          198,
          199,
          200,
          201,
          202,
          203,
          204,
          205,
          206,
          207,
          208,
          209,
          210,
          211,
          212,
          213,
          214,
          215,
          216,
          217,
          218,
          219,
          220,
          221,
          222,
          223,
          224,
          225,
          226,
          227,
          228,
          229,
          230,
          231,
          232,
          233,
          234
         ],
         "y": [
          -1.6978892434718777e-8,
          -1.6738359382340964e-8,
          -1.6497826329963154e-8,
          -1.6257293277585345e-8,
          -1.6016760225207532e-8,
          -1.5776227172829722e-8,
          -1.5535694120451913e-8,
          -1.52951610680741e-8,
          -1.505462801569629e-8,
          -1.481409496331848e-8,
          -1.457356191094067e-8,
          -1.4333028858562858e-8,
          -1.4092495806185048e-8,
          -1.3851962753807237e-8,
          -1.3611429701429426e-8,
          -1.3370896649051616e-8,
          -1.3130363596673805e-8,
          -1.2889830544295994e-8,
          -1.2649297491918184e-8,
          -1.2408764439540373e-8,
          -1.2168231387162562e-8,
          -1.1927698334784752e-8,
          -1.1687165282406941e-8,
          -1.144663223002913e-8,
          -1.120609917765132e-8,
          -1.0965566125273509e-8,
          -1.0725033072895697e-8,
          -1.0484500020517886e-8,
          -1.0243966968140077e-8,
          -1.0003433915762265e-8,
          -9.762900863384456e-9,
          -9.522367811006645e-9,
          -9.281834758628833e-9,
          -9.041301706251024e-9,
          -8.800768653873212e-9,
          -8.560235601495401e-9,
          -8.319702549117592e-9,
          -8.07916949673978e-9,
          -7.838636444361969e-9,
          -7.59810339198416e-9,
          -7.357570339606348e-9,
          -7.1170372872285386e-9,
          -6.876504234850727e-9,
          -6.635971182472916e-9,
          -6.3954381300951065e-9,
          -6.154905077717295e-9,
          -5.914372025339484e-9,
          -5.673838972961674e-9,
          -5.433305920583863e-9,
          -5.192772868206052e-9,
          -4.952239815828242e-9,
          -4.711706763450431e-9,
          -4.471173711072621e-9,
          -4.2306406586948085e-9,
          -3.990107606316999e-9,
          -3.749574553939189e-9,
          -3.5090415015613764e-9,
          -3.2685084491835668e-9,
          -3.027975396805757e-9,
          -2.7874423444279443e-9,
          -2.5469092920501347e-9,
          -2.306376239672325e-9,
          -2.065843187294512e-9,
          -1.8253101349167026e-9,
          -1.584777082538893e-9,
          -1.34424403016108e-9,
          -1.1037109777832704e-9,
          -8.631779254054608e-10,
          -6.226448730276479e-10,
          -3.8211182064983834e-10,
          -1.4157876827202874e-10,
          9.895428410578417e-11,
          3.3948733648359377e-10,
          5.800203888614034e-10,
          8.20553441239213e-10,
          1.0610864936170259e-9,
          1.3016195459948322e-9,
          1.5421525983726484e-9,
          1.782685650750458e-9,
          2.0232187031282676e-9,
          2.2637517555060805e-9,
          2.50428480788389e-9,
          2.7448178602616997e-9,
          2.9853509126395126e-9,
          3.2258839650173222e-9,
          3.4664170173951285e-9,
          3.7069500697729447e-9,
          3.947483122150754e-9,
          4.188016174528564e-9,
          4.4285492269063735e-9,
          4.6690822792841864e-9,
          4.909615331661996e-9,
          5.150148384039806e-9,
          5.3906814364176185e-9,
          5.631214488795428e-9,
          5.871747541173238e-9,
          6.112280593551051e-9,
          6.35281364592886e-9,
          6.59334669830667e-9,
          6.833879750684483e-9,
          7.074412803062292e-9,
          7.314945855440102e-9,
          7.555478907817915e-9,
          7.796011960195724e-9,
          8.036545012573534e-9,
          8.277078064951347e-9,
          8.517611117329157e-9,
          8.758144169706963e-9,
          8.998677222084779e-9,
          9.239210274462589e-9,
          9.479743326840398e-9,
          9.720276379218211e-9,
          9.96080943159602e-9,
          1.020134248397383e-8,
          1.044187553635164e-8,
          1.0682408588729453e-8,
          1.0922941641107266e-8,
          1.1163474693485072e-8,
          1.1404007745862885e-8,
          1.1644540798240698e-8,
          1.1885073850618504e-8,
          1.2125606902996317e-8,
          1.236613995537413e-8,
          1.2606673007751936e-8,
          1.284720606012975e-8,
          1.3087739112507562e-8,
          1.3328272164885368e-8,
          1.3568805217263181e-8,
          1.3809338269640994e-8,
          1.40498713220188e-8,
          1.4290404374396613e-8,
          1.4530937426774426e-8,
          1.4771470479152233e-8,
          1.5012003531530046e-8,
          1.525253658390786e-8,
          1.5493069636285665e-8,
          1.5733602688663478e-8,
          1.5974135741041284e-8,
          1.6214668793419097e-8,
          1.645520184579691e-8,
          1.6695734898174723e-8,
          1.693626795055253e-8,
          1.7176801002930342e-8,
          1.7417334055308155e-8,
          1.765786710768596e-8,
          1.7898400160063774e-8,
          1.8138933212441587e-8,
          1.8379466264819393e-8,
          1.86199993171972e-8,
          1.886053236957502e-8,
          1.9101065421952825e-8,
          1.9341598474330638e-8,
          1.958213152670845e-8,
          1.9822664579086257e-8,
          2.006319763146407e-8,
          2.0303730683841883e-8,
          2.054426373621969e-8,
          2.0784796788597502e-8,
          2.1025329840975315e-8,
          2.126586289335312e-8,
          2.1506395945730935e-8,
          2.1746928998108747e-8,
          2.1987462050486554e-8,
          2.2227995102864367e-8,
          2.246852815524218e-8,
          2.2709061207619986e-8,
          2.29495942599978e-8,
          2.3190127312375612e-8,
          2.3430660364753418e-8,
          2.367119341713123e-8,
          2.3911726469509044e-8,
          2.415225952188685e-8,
          2.4392792574264663e-8,
          2.4633325626642476e-8,
          2.4873858679020282e-8,
          2.5114391731398102e-8,
          2.5354924783775908e-8,
          2.559545783615372e-8,
          2.5835990888531527e-8,
          2.607652394090934e-8,
          2.6317056993287146e-8,
          2.655759004566496e-8,
          2.6798123098042772e-8,
          2.703865615042058e-8,
          2.727918920279839e-8,
          2.7519722255176198e-8,
          2.776025530755401e-8,
          2.8000788359931824e-8,
          2.824132141230963e-8,
          2.8481854464687443e-8,
          2.8722387517065256e-8,
          2.8962920569443062e-8,
          2.9203453621820875e-8,
          2.9443986674198688e-8,
          2.9684519726576494e-8,
          2.9925052778954304e-8,
          3.0165585831332117e-8,
          3.040611888370993e-8,
          3.064665193608774e-8,
          3.0887184988465555e-8,
          3.1127718040843355e-8,
          3.136825109322117e-8,
          3.160878414559898e-8,
          3.184931719797678e-8,
          3.2089850250354607e-8,
          3.233038330273242e-8,
          3.257091635511022e-8,
          3.281144940748803e-8,
          3.3051982459865845e-8,
          3.329251551224366e-8,
          3.353304856462147e-8,
          3.3773581616999284e-8,
          3.4014114669377083e-8,
          3.4254647721754896e-8,
          3.449518077413271e-8,
          3.473571382651052e-8,
          3.4976246878888335e-8,
          3.521677993126615e-8,
          3.545731298364395e-8,
          3.5697846036021774e-8,
          3.5938379088399573e-8,
          3.6178912140777386e-8,
          3.64194451931552e-8,
          3.665997824553301e-8,
          3.690051129791081e-8
         ]
        }
       ],
       "layout": {
        "template": {
         "data": {
          "bar": [
           {
            "error_x": {
             "color": "#2a3f5f"
            },
            "error_y": {
             "color": "#2a3f5f"
            },
            "marker": {
             "line": {
              "color": "#E5ECF6",
              "width": 0.5
             },
             "pattern": {
              "fillmode": "overlay",
              "size": 10,
              "solidity": 0.2
             }
            },
            "type": "bar"
           }
          ],
          "barpolar": [
           {
            "marker": {
             "line": {
              "color": "#E5ECF6",
              "width": 0.5
             },
             "pattern": {
              "fillmode": "overlay",
              "size": 10,
              "solidity": 0.2
             }
            },
            "type": "barpolar"
           }
          ],
          "carpet": [
           {
            "aaxis": {
             "endlinecolor": "#2a3f5f",
             "gridcolor": "white",
             "linecolor": "white",
             "minorgridcolor": "white",
             "startlinecolor": "#2a3f5f"
            },
            "baxis": {
             "endlinecolor": "#2a3f5f",
             "gridcolor": "white",
             "linecolor": "white",
             "minorgridcolor": "white",
             "startlinecolor": "#2a3f5f"
            },
            "type": "carpet"
           }
          ],
          "choropleth": [
           {
            "colorbar": {
             "outlinewidth": 0,
             "ticks": ""
            },
            "type": "choropleth"
           }
          ],
          "contour": [
           {
            "colorbar": {
             "outlinewidth": 0,
             "ticks": ""
            },
            "colorscale": [
             [
              0,
              "#0d0887"
             ],
             [
              0.1111111111111111,
              "#46039f"
             ],
             [
              0.2222222222222222,
              "#7201a8"
             ],
             [
              0.3333333333333333,
              "#9c179e"
             ],
             [
              0.4444444444444444,
              "#bd3786"
             ],
             [
              0.5555555555555556,
              "#d8576b"
             ],
             [
              0.6666666666666666,
              "#ed7953"
             ],
             [
              0.7777777777777778,
              "#fb9f3a"
             ],
             [
              0.8888888888888888,
              "#fdca26"
             ],
             [
              1,
              "#f0f921"
             ]
            ],
            "type": "contour"
           }
          ],
          "contourcarpet": [
           {
            "colorbar": {
             "outlinewidth": 0,
             "ticks": ""
            },
            "type": "contourcarpet"
           }
          ],
          "heatmap": [
           {
            "colorbar": {
             "outlinewidth": 0,
             "ticks": ""
            },
            "colorscale": [
             [
              0,
              "#0d0887"
             ],
             [
              0.1111111111111111,
              "#46039f"
             ],
             [
              0.2222222222222222,
              "#7201a8"
             ],
             [
              0.3333333333333333,
              "#9c179e"
             ],
             [
              0.4444444444444444,
              "#bd3786"
             ],
             [
              0.5555555555555556,
              "#d8576b"
             ],
             [
              0.6666666666666666,
              "#ed7953"
             ],
             [
              0.7777777777777778,
              "#fb9f3a"
             ],
             [
              0.8888888888888888,
              "#fdca26"
             ],
             [
              1,
              "#f0f921"
             ]
            ],
            "type": "heatmap"
           }
          ],
          "histogram": [
           {
            "marker": {
             "pattern": {
              "fillmode": "overlay",
              "size": 10,
              "solidity": 0.2
             }
            },
            "type": "histogram"
           }
          ],
          "histogram2d": [
           {
            "colorbar": {
             "outlinewidth": 0,
             "ticks": ""
            },
            "colorscale": [
             [
              0,
              "#0d0887"
             ],
             [
              0.1111111111111111,
              "#46039f"
             ],
             [
              0.2222222222222222,
              "#7201a8"
             ],
             [
              0.3333333333333333,
              "#9c179e"
             ],
             [
              0.4444444444444444,
              "#bd3786"
             ],
             [
              0.5555555555555556,
              "#d8576b"
             ],
             [
              0.6666666666666666,
              "#ed7953"
             ],
             [
              0.7777777777777778,
              "#fb9f3a"
             ],
             [
              0.8888888888888888,
              "#fdca26"
             ],
             [
              1,
              "#f0f921"
             ]
            ],
            "type": "histogram2d"
           }
          ],
          "histogram2dcontour": [
           {
            "colorbar": {
             "outlinewidth": 0,
             "ticks": ""
            },
            "colorscale": [
             [
              0,
              "#0d0887"
             ],
             [
              0.1111111111111111,
              "#46039f"
             ],
             [
              0.2222222222222222,
              "#7201a8"
             ],
             [
              0.3333333333333333,
              "#9c179e"
             ],
             [
              0.4444444444444444,
              "#bd3786"
             ],
             [
              0.5555555555555556,
              "#d8576b"
             ],
             [
              0.6666666666666666,
              "#ed7953"
             ],
             [
              0.7777777777777778,
              "#fb9f3a"
             ],
             [
              0.8888888888888888,
              "#fdca26"
             ],
             [
              1,
              "#f0f921"
             ]
            ],
            "type": "histogram2dcontour"
           }
          ],
          "mesh3d": [
           {
            "colorbar": {
             "outlinewidth": 0,
             "ticks": ""
            },
            "type": "mesh3d"
           }
          ],
          "parcoords": [
           {
            "line": {
             "colorbar": {
              "outlinewidth": 0,
              "ticks": ""
             }
            },
            "type": "parcoords"
           }
          ],
          "pie": [
           {
            "automargin": true,
            "type": "pie"
           }
          ],
          "scatter": [
           {
            "fillpattern": {
             "fillmode": "overlay",
             "size": 10,
             "solidity": 0.2
            },
            "type": "scatter"
           }
          ],
          "scatter3d": [
           {
            "line": {
             "colorbar": {
              "outlinewidth": 0,
              "ticks": ""
             }
            },
            "marker": {
             "colorbar": {
              "outlinewidth": 0,
              "ticks": ""
             }
            },
            "type": "scatter3d"
           }
          ],
          "scattercarpet": [
           {
            "marker": {
             "colorbar": {
              "outlinewidth": 0,
              "ticks": ""
             }
            },
            "type": "scattercarpet"
           }
          ],
          "scattergeo": [
           {
            "marker": {
             "colorbar": {
              "outlinewidth": 0,
              "ticks": ""
             }
            },
            "type": "scattergeo"
           }
          ],
          "scattergl": [
           {
            "marker": {
             "colorbar": {
              "outlinewidth": 0,
              "ticks": ""
             }
            },
            "type": "scattergl"
           }
          ],
          "scattermap": [
           {
            "marker": {
             "colorbar": {
              "outlinewidth": 0,
              "ticks": ""
             }
            },
            "type": "scattermap"
           }
          ],
          "scattermapbox": [
           {
            "marker": {
             "colorbar": {
              "outlinewidth": 0,
              "ticks": ""
             }
            },
            "type": "scattermapbox"
           }
          ],
          "scatterpolar": [
           {
            "marker": {
             "colorbar": {
              "outlinewidth": 0,
              "ticks": ""
             }
            },
            "type": "scatterpolar"
           }
          ],
          "scatterpolargl": [
           {
            "marker": {
             "colorbar": {
              "outlinewidth": 0,
              "ticks": ""
             }
            },
            "type": "scatterpolargl"
           }
          ],
          "scatterternary": [
           {
            "marker": {
             "colorbar": {
              "outlinewidth": 0,
              "ticks": ""
             }
            },
            "type": "scatterternary"
           }
          ],
          "surface": [
           {
            "colorbar": {
             "outlinewidth": 0,
             "ticks": ""
            },
            "colorscale": [
             [
              0,
              "#0d0887"
             ],
             [
              0.1111111111111111,
              "#46039f"
             ],
             [
              0.2222222222222222,
              "#7201a8"
             ],
             [
              0.3333333333333333,
              "#9c179e"
             ],
             [
              0.4444444444444444,
              "#bd3786"
             ],
             [
              0.5555555555555556,
              "#d8576b"
             ],
             [
              0.6666666666666666,
              "#ed7953"
             ],
             [
              0.7777777777777778,
              "#fb9f3a"
             ],
             [
              0.8888888888888888,
              "#fdca26"
             ],
             [
              1,
              "#f0f921"
             ]
            ],
            "type": "surface"
           }
          ],
          "table": [
           {
            "cells": {
             "fill": {
              "color": "#EBF0F8"
             },
             "line": {
              "color": "white"
             }
            },
            "header": {
             "fill": {
              "color": "#C8D4E3"
             },
             "line": {
              "color": "white"
             }
            },
            "type": "table"
           }
          ]
         },
         "layout": {
          "annotationdefaults": {
           "arrowcolor": "#2a3f5f",
           "arrowhead": 0,
           "arrowwidth": 1
          },
          "autotypenumbers": "strict",
          "coloraxis": {
           "colorbar": {
            "outlinewidth": 0,
            "ticks": ""
           }
          },
          "colorscale": {
           "diverging": [
            [
             0,
             "#8e0152"
            ],
            [
             0.1,
             "#c51b7d"
            ],
            [
             0.2,
             "#de77ae"
            ],
            [
             0.3,
             "#f1b6da"
            ],
            [
             0.4,
             "#fde0ef"
            ],
            [
             0.5,
             "#f7f7f7"
            ],
            [
             0.6,
             "#e6f5d0"
            ],
            [
             0.7,
             "#b8e186"
            ],
            [
             0.8,
             "#7fbc41"
            ],
            [
             0.9,
             "#4d9221"
            ],
            [
             1,
             "#276419"
            ]
           ],
           "sequential": [
            [
             0,
             "#0d0887"
            ],
            [
             0.1111111111111111,
             "#46039f"
            ],
            [
             0.2222222222222222,
             "#7201a8"
            ],
            [
             0.3333333333333333,
             "#9c179e"
            ],
            [
             0.4444444444444444,
             "#bd3786"
            ],
            [
             0.5555555555555556,
             "#d8576b"
            ],
            [
             0.6666666666666666,
             "#ed7953"
            ],
            [
             0.7777777777777778,
             "#fb9f3a"
            ],
            [
             0.8888888888888888,
             "#fdca26"
            ],
            [
             1,
             "#f0f921"
            ]
           ],
           "sequentialminus": [
            [
             0,
             "#0d0887"
            ],
            [
             0.1111111111111111,
             "#46039f"
            ],
            [
             0.2222222222222222,
             "#7201a8"
            ],
            [
             0.3333333333333333,
             "#9c179e"
            ],
            [
             0.4444444444444444,
             "#bd3786"
            ],
            [
             0.5555555555555556,
             "#d8576b"
            ],
            [
             0.6666666666666666,
             "#ed7953"
            ],
            [
             0.7777777777777778,
             "#fb9f3a"
            ],
            [
             0.8888888888888888,
             "#fdca26"
            ],
            [
             1,
             "#f0f921"
            ]
           ]
          },
          "colorway": [
           "#636efa",
           "#EF553B",
           "#00cc96",
           "#ab63fa",
           "#FFA15A",
           "#19d3f3",
           "#FF6692",
           "#B6E880",
           "#FF97FF",
           "#FECB52"
          ],
          "font": {
           "color": "#2a3f5f"
          },
          "geo": {
           "bgcolor": "white",
           "lakecolor": "white",
           "landcolor": "#E5ECF6",
           "showlakes": true,
           "showland": true,
           "subunitcolor": "white"
          },
          "hoverlabel": {
           "align": "left"
          },
          "hovermode": "closest",
          "mapbox": {
           "style": "light"
          },
          "paper_bgcolor": "white",
          "plot_bgcolor": "#E5ECF6",
          "polar": {
           "angularaxis": {
            "gridcolor": "white",
            "linecolor": "white",
            "ticks": ""
           },
           "bgcolor": "#E5ECF6",
           "radialaxis": {
            "gridcolor": "white",
            "linecolor": "white",
            "ticks": ""
           }
          },
          "scene": {
           "xaxis": {
            "backgroundcolor": "#E5ECF6",
            "gridcolor": "white",
            "gridwidth": 2,
            "linecolor": "white",
            "showbackground": true,
            "ticks": "",
            "zerolinecolor": "white"
           },
           "yaxis": {
            "backgroundcolor": "#E5ECF6",
            "gridcolor": "white",
            "gridwidth": 2,
            "linecolor": "white",
            "showbackground": true,
            "ticks": "",
            "zerolinecolor": "white"
           },
           "zaxis": {
            "backgroundcolor": "#E5ECF6",
            "gridcolor": "white",
            "gridwidth": 2,
            "linecolor": "white",
            "showbackground": true,
            "ticks": "",
            "zerolinecolor": "white"
           }
          },
          "shapedefaults": {
           "line": {
            "color": "#2a3f5f"
           }
          },
          "ternary": {
           "aaxis": {
            "gridcolor": "white",
            "linecolor": "white",
            "ticks": ""
           },
           "baxis": {
            "gridcolor": "white",
            "linecolor": "white",
            "ticks": ""
           },
           "bgcolor": "#E5ECF6",
           "caxis": {
            "gridcolor": "white",
            "linecolor": "white",
            "ticks": ""
           }
          },
          "title": {
           "x": 0.05
          },
          "xaxis": {
           "automargin": true,
           "gridcolor": "white",
           "linecolor": "white",
           "ticks": "",
           "title": {
            "standoff": 15
           },
           "zerolinecolor": "white",
           "zerolinewidth": 2
          },
          "yaxis": {
           "automargin": true,
           "gridcolor": "white",
           "linecolor": "white",
           "ticks": "",
           "title": {
            "standoff": 15
           },
           "zerolinecolor": "white",
           "zerolinewidth": 2
          }
         }
        },
        "title": {
         "text": "intersect points fitline 2"
        }
       }
      }
     },
     "metadata": {},
     "output_type": "display_data"
    },
    {
     "data": {
      "application/vnd.plotly.v1+json": {
       "config": {
        "plotlyServerURL": "https://plot.ly"
       },
       "data": [
        {
         "mode": "lines",
         "type": "scatter",
         "x": [
          10,
          11,
          12,
          13,
          14,
          15,
          16,
          17,
          18,
          19,
          20,
          21,
          22,
          23,
          24,
          25,
          26,
          27,
          28,
          29,
          30,
          31,
          32,
          33,
          34,
          35,
          36,
          37,
          38,
          39,
          40,
          41,
          42,
          43,
          44,
          45,
          46,
          47,
          48,
          49,
          50,
          51,
          52,
          53,
          54,
          55,
          56,
          57,
          58,
          59,
          60,
          61,
          62,
          63,
          64,
          65,
          66,
          67,
          68,
          69,
          70,
          71,
          72,
          73,
          74,
          75,
          76,
          77,
          78,
          79,
          80,
          81,
          82,
          83,
          84,
          85,
          86,
          87,
          88,
          89,
          90,
          91,
          92,
          93,
          94,
          95,
          96,
          97,
          98,
          99,
          100,
          101,
          102,
          103,
          104,
          105,
          106,
          107,
          108,
          109,
          110,
          111,
          112,
          113,
          114,
          115,
          116,
          117,
          118,
          119,
          120,
          121,
          122,
          123,
          124,
          125,
          126,
          127,
          128,
          129,
          130,
          131,
          132,
          133,
          134,
          135,
          136,
          137,
          138,
          139,
          140,
          141,
          142,
          143,
          144,
          145,
          146,
          147,
          148,
          149,
          150,
          151,
          152,
          153,
          154,
          155,
          156,
          157,
          158,
          159,
          160,
          161,
          162,
          163,
          164,
          165,
          166,
          167,
          168,
          169,
          170,
          171,
          172,
          173,
          174,
          175,
          176,
          177,
          178,
          179,
          180,
          181,
          182,
          183,
          184,
          185,
          186,
          187,
          188,
          189,
          190,
          191,
          192,
          193,
          194,
          195,
          196,
          197,
          198,
          199,
          200,
          201,
          202,
          203,
          204,
          205,
          206,
          207,
          208,
          209,
          210,
          211,
          212,
          213,
          214,
          215,
          216,
          217,
          218,
          219,
          220,
          221,
          222,
          223,
          224,
          225,
          226,
          227,
          228,
          229,
          230,
          231,
          232,
          233,
          234
         ],
         "y": [
          2.2509560802444643e-8,
          1.600623835187425e-8,
          9.235702982844978e-9,
          1.7213166880078174e-8,
          2.262226836567454e-8,
          6.114524623705593e-9,
          1.0168993258965306e-8,
          1.4502681208561404e-8,
          -7.960467591396627e-9,
          -1.1963238052121182e-9,
          -9.722778140025922e-9,
          -3.98217027652542e-9,
          -6.54288204472325e-9,
          -7.189675899877676e-9,
          -5.070224837006556e-10,
          1.3156847426260726e-8,
          -1.8389916122969637e-8,
          -3.3804390317725918e-9,
          2.1568728907595266e-8,
          1.2696319308345646e-8,
          5.72652022267823e-9,
          2.4109138191602385e-8,
          1.6215878686690674e-8,
          -1.1195258798711572e-8,
          5.638603379931008e-9,
          5.421710972550355e-9,
          4.505442896680491e-9,
          -1.2500724043528621e-9,
          1.856228633479147e-8,
          6.599592262779801e-9,
          1.5790117811141553e-8,
          5.926632545912709e-9,
          -3.5117651985771367e-9,
          -1.031348362374366e-8,
          -8.105173769888432e-9,
          -2.4953539264882897e-8,
          1.1397833188384465e-8,
          -2.6665441247302114e-8,
          -4.566042617355192e-9,
          -3.048413165260308e-9,
          -1.376621415975979e-8,
          -8.996575379173339e-9,
          3.450861617982633e-10,
          -1.6805300829533521e-9,
          2.2160976338351766e-8,
          -6.892199652217904e-9,
          7.35401243222564e-9,
          -6.177181636337538e-9,
          4.936607832143104e-10,
          -1.2424157268703962e-8,
          3.6067569795713362e-9,
          7.538099216864859e-9,
          2.446155284088101e-8,
          3.7407685158444635e-9,
          1.6883541518136575e-9,
          2.7453591764189215e-9,
          -8.776367632887934e-9,
          3.231215613697198e-9,
          6.362157216331141e-9,
          1.153084035003414e-8,
          -1.1525413570495981e-8,
          7.897195602693962e-9,
          -1.8127618054407784e-9,
          -1.733337872268449e-8,
          -1.310512732146941e-8,
          -1.7703692531217185e-8,
          -1.9558786512992152e-8,
          -2.6479472884763828e-8,
          -1.4849516456882602e-8,
          -1.1646582664261446e-8,
          -1.3617684293968705e-8,
          1.8250214122822345e-8,
          6.123879394229866e-9,
          -6.4170285989692e-9,
          2.0377872684340104e-8,
          1.0200591318895945e-8,
          3.210602161391911e-9,
          1.6203905179025254e-9,
          9.609631660980946e-9,
          -2.7662466761113055e-8,
          -2.7499592741967428e-9,
          -6.2873653234020125e-9,
          -8.633894642045997e-9,
          -8.40915365290706e-9,
          -6.223360898348067e-9,
          1.0952688003695544e-8,
          2.1596124232712184e-8,
          5.4220895511282265e-9,
          -9.305086497552673e-9,
          1.4568621720537091e-8,
          -1.220531501010857e-9,
          -3.602609272724919e-9,
          -7.705697933794038e-9,
          -1.6762286910328854e-9,
          1.2859831538895599e-8,
          2.2668056756449357e-8,
          1.916540424062853e-8,
          -2.227268440092787e-8,
          -6.985208352543106e-9,
          2.3374051612514387e-10,
          2.9608493687108516e-8,
          -1.4794362052937914e-8,
          2.3110544602790376e-9,
          -4.356602314217949e-9,
          -3.843260934476786e-8,
          2.1456752621259695e-9,
          -1.717689602573987e-9,
          -2.838629305371695e-8,
          -8.749275491234123e-10,
          -3.2983375917766394e-9,
          -2.196670146100174e-8,
          -3.64171383701825e-9,
          -5.859111783400453e-9,
          -1.6947348904117943e-8,
          2.2987644060598646e-8,
          -8.1386478311399e-9,
          -2.609422897863042e-8,
          -7.867066213971115e-9,
          -7.410795762563169e-9,
          -4.813796827786675e-9,
          -1.7591127258168875e-8,
          -1.1927516470050598e-8,
          -9.499463281555783e-9,
          8.204208898889107e-9,
          -5.202514919205462e-10,
          -1.587308528843397e-8,
          1.4586497442636183e-9,
          6.08507241920868e-9,
          -9.332272440462821e-9,
          -2.4073018079039896e-8,
          -1.398652922712935e-8,
          -1.7858974827992325e-8,
          -1.8520579946473665e-8,
          -2.8876812388097424e-8,
          8.465358619482213e-9,
          2.6687917067213792e-8,
          8.683665518680545e-9,
          -3.5830795599254835e-9,
          -3.0585852428061215e-10,
          -1.2693457152276824e-8,
          -6.425037716550068e-9,
          -3.5195912920016877e-9,
          1.7199418342407902e-9,
          4.064935241460509e-9,
          -8.946540336636717e-9,
          1.244658414303518e-8,
          7.390620369818136e-9,
          8.344111752321033e-9,
          9.772689771521526e-9,
          2.4900601014093474e-8,
          -6.10791309012231e-9,
          -1.5987382123610422e-10,
          9.999858664055012e-9,
          -1.222150310106489e-8,
          -2.392871183248169e-10,
          4.1449035443938495e-9,
          9.897253126602792e-9,
          -1.8136369533316808e-8,
          -1.3757245040304111e-8,
          2.7550050680297974e-9,
          1.4472867178644004e-8,
          -2.6021525672737387e-9,
          3.164733831130436e-9,
          6.053411447114871e-9,
          3.805837638923353e-9,
          -6.110981852230058e-9,
          9.970406372450035e-10,
          -2.6517518119703968e-8,
          2.398061907327577e-9,
          1.909411609872632e-8,
          1.6930116327114907e-8,
          -5.535134791162551e-9,
          -1.4429780658889738e-10,
          1.546812430798651e-9,
          -2.0683154473793143e-9,
          -3.2626188957521133e-9,
          -1.8426766353263642e-9,
          1.129864563402996e-9,
          6.340960881181942e-9,
          -8.188630108074051e-9,
          1.5550094393343764e-9,
          4.02767316531547e-9,
          1.2513815495257738e-8,
          -1.3023537307173669e-8,
          -2.1781339027680445e-8,
          -5.173909055356212e-9,
          -3.071948797297458e-9,
          1.2049895298489525e-8,
          -1.075123647640909e-8,
          1.2295784578511645e-8,
          -5.7957686914291864e-9,
          1.8158579021741995e-8,
          8.99503341829887e-9,
          2.3530875156336104e-8,
          7.240423376568375e-9,
          -4.849952560524124e-9,
          4.976591336935946e-9,
          2.8781643363182887e-8,
          1.403354005457701e-8,
          -4.084627481710135e-9,
          5.408099885776174e-9,
          4.4717776293679e-9,
          -9.612545537275088e-9,
          -2.559146020611571e-9,
          6.471278262171859e-9,
          8.56691024899025e-9,
          1.0566754857779253e-8,
          2.794179260179556e-9,
          -7.675880351356132e-9,
          9.653080011958305e-9,
          3.896519324924963e-9,
          -2.217346608219484e-8,
          -1.498374183624839e-8,
          1.701635039199557e-8,
          5.94670018106714e-9,
          7.555965221168532e-9,
          9.165230261269923e-9,
          -9.540167983521416e-9,
          -1.2974646588381307e-8,
          -6.356820426879794e-9,
          -7.246618129599246e-10,
          2.4274732537966617e-10,
          2.8566967502433825e-8,
          4.464344368406045e-9,
          1.148072816125014e-8
         ]
        }
       ],
       "layout": {
        "template": {
         "data": {
          "bar": [
           {
            "error_x": {
             "color": "#2a3f5f"
            },
            "error_y": {
             "color": "#2a3f5f"
            },
            "marker": {
             "line": {
              "color": "#E5ECF6",
              "width": 0.5
             },
             "pattern": {
              "fillmode": "overlay",
              "size": 10,
              "solidity": 0.2
             }
            },
            "type": "bar"
           }
          ],
          "barpolar": [
           {
            "marker": {
             "line": {
              "color": "#E5ECF6",
              "width": 0.5
             },
             "pattern": {
              "fillmode": "overlay",
              "size": 10,
              "solidity": 0.2
             }
            },
            "type": "barpolar"
           }
          ],
          "carpet": [
           {
            "aaxis": {
             "endlinecolor": "#2a3f5f",
             "gridcolor": "white",
             "linecolor": "white",
             "minorgridcolor": "white",
             "startlinecolor": "#2a3f5f"
            },
            "baxis": {
             "endlinecolor": "#2a3f5f",
             "gridcolor": "white",
             "linecolor": "white",
             "minorgridcolor": "white",
             "startlinecolor": "#2a3f5f"
            },
            "type": "carpet"
           }
          ],
          "choropleth": [
           {
            "colorbar": {
             "outlinewidth": 0,
             "ticks": ""
            },
            "type": "choropleth"
           }
          ],
          "contour": [
           {
            "colorbar": {
             "outlinewidth": 0,
             "ticks": ""
            },
            "colorscale": [
             [
              0,
              "#0d0887"
             ],
             [
              0.1111111111111111,
              "#46039f"
             ],
             [
              0.2222222222222222,
              "#7201a8"
             ],
             [
              0.3333333333333333,
              "#9c179e"
             ],
             [
              0.4444444444444444,
              "#bd3786"
             ],
             [
              0.5555555555555556,
              "#d8576b"
             ],
             [
              0.6666666666666666,
              "#ed7953"
             ],
             [
              0.7777777777777778,
              "#fb9f3a"
             ],
             [
              0.8888888888888888,
              "#fdca26"
             ],
             [
              1,
              "#f0f921"
             ]
            ],
            "type": "contour"
           }
          ],
          "contourcarpet": [
           {
            "colorbar": {
             "outlinewidth": 0,
             "ticks": ""
            },
            "type": "contourcarpet"
           }
          ],
          "heatmap": [
           {
            "colorbar": {
             "outlinewidth": 0,
             "ticks": ""
            },
            "colorscale": [
             [
              0,
              "#0d0887"
             ],
             [
              0.1111111111111111,
              "#46039f"
             ],
             [
              0.2222222222222222,
              "#7201a8"
             ],
             [
              0.3333333333333333,
              "#9c179e"
             ],
             [
              0.4444444444444444,
              "#bd3786"
             ],
             [
              0.5555555555555556,
              "#d8576b"
             ],
             [
              0.6666666666666666,
              "#ed7953"
             ],
             [
              0.7777777777777778,
              "#fb9f3a"
             ],
             [
              0.8888888888888888,
              "#fdca26"
             ],
             [
              1,
              "#f0f921"
             ]
            ],
            "type": "heatmap"
           }
          ],
          "histogram": [
           {
            "marker": {
             "pattern": {
              "fillmode": "overlay",
              "size": 10,
              "solidity": 0.2
             }
            },
            "type": "histogram"
           }
          ],
          "histogram2d": [
           {
            "colorbar": {
             "outlinewidth": 0,
             "ticks": ""
            },
            "colorscale": [
             [
              0,
              "#0d0887"
             ],
             [
              0.1111111111111111,
              "#46039f"
             ],
             [
              0.2222222222222222,
              "#7201a8"
             ],
             [
              0.3333333333333333,
              "#9c179e"
             ],
             [
              0.4444444444444444,
              "#bd3786"
             ],
             [
              0.5555555555555556,
              "#d8576b"
             ],
             [
              0.6666666666666666,
              "#ed7953"
             ],
             [
              0.7777777777777778,
              "#fb9f3a"
             ],
             [
              0.8888888888888888,
              "#fdca26"
             ],
             [
              1,
              "#f0f921"
             ]
            ],
            "type": "histogram2d"
           }
          ],
          "histogram2dcontour": [
           {
            "colorbar": {
             "outlinewidth": 0,
             "ticks": ""
            },
            "colorscale": [
             [
              0,
              "#0d0887"
             ],
             [
              0.1111111111111111,
              "#46039f"
             ],
             [
              0.2222222222222222,
              "#7201a8"
             ],
             [
              0.3333333333333333,
              "#9c179e"
             ],
             [
              0.4444444444444444,
              "#bd3786"
             ],
             [
              0.5555555555555556,
              "#d8576b"
             ],
             [
              0.6666666666666666,
              "#ed7953"
             ],
             [
              0.7777777777777778,
              "#fb9f3a"
             ],
             [
              0.8888888888888888,
              "#fdca26"
             ],
             [
              1,
              "#f0f921"
             ]
            ],
            "type": "histogram2dcontour"
           }
          ],
          "mesh3d": [
           {
            "colorbar": {
             "outlinewidth": 0,
             "ticks": ""
            },
            "type": "mesh3d"
           }
          ],
          "parcoords": [
           {
            "line": {
             "colorbar": {
              "outlinewidth": 0,
              "ticks": ""
             }
            },
            "type": "parcoords"
           }
          ],
          "pie": [
           {
            "automargin": true,
            "type": "pie"
           }
          ],
          "scatter": [
           {
            "fillpattern": {
             "fillmode": "overlay",
             "size": 10,
             "solidity": 0.2
            },
            "type": "scatter"
           }
          ],
          "scatter3d": [
           {
            "line": {
             "colorbar": {
              "outlinewidth": 0,
              "ticks": ""
             }
            },
            "marker": {
             "colorbar": {
              "outlinewidth": 0,
              "ticks": ""
             }
            },
            "type": "scatter3d"
           }
          ],
          "scattercarpet": [
           {
            "marker": {
             "colorbar": {
              "outlinewidth": 0,
              "ticks": ""
             }
            },
            "type": "scattercarpet"
           }
          ],
          "scattergeo": [
           {
            "marker": {
             "colorbar": {
              "outlinewidth": 0,
              "ticks": ""
             }
            },
            "type": "scattergeo"
           }
          ],
          "scattergl": [
           {
            "marker": {
             "colorbar": {
              "outlinewidth": 0,
              "ticks": ""
             }
            },
            "type": "scattergl"
           }
          ],
          "scattermap": [
           {
            "marker": {
             "colorbar": {
              "outlinewidth": 0,
              "ticks": ""
             }
            },
            "type": "scattermap"
           }
          ],
          "scattermapbox": [
           {
            "marker": {
             "colorbar": {
              "outlinewidth": 0,
              "ticks": ""
             }
            },
            "type": "scattermapbox"
           }
          ],
          "scatterpolar": [
           {
            "marker": {
             "colorbar": {
              "outlinewidth": 0,
              "ticks": ""
             }
            },
            "type": "scatterpolar"
           }
          ],
          "scatterpolargl": [
           {
            "marker": {
             "colorbar": {
              "outlinewidth": 0,
              "ticks": ""
             }
            },
            "type": "scatterpolargl"
           }
          ],
          "scatterternary": [
           {
            "marker": {
             "colorbar": {
              "outlinewidth": 0,
              "ticks": ""
             }
            },
            "type": "scatterternary"
           }
          ],
          "surface": [
           {
            "colorbar": {
             "outlinewidth": 0,
             "ticks": ""
            },
            "colorscale": [
             [
              0,
              "#0d0887"
             ],
             [
              0.1111111111111111,
              "#46039f"
             ],
             [
              0.2222222222222222,
              "#7201a8"
             ],
             [
              0.3333333333333333,
              "#9c179e"
             ],
             [
              0.4444444444444444,
              "#bd3786"
             ],
             [
              0.5555555555555556,
              "#d8576b"
             ],
             [
              0.6666666666666666,
              "#ed7953"
             ],
             [
              0.7777777777777778,
              "#fb9f3a"
             ],
             [
              0.8888888888888888,
              "#fdca26"
             ],
             [
              1,
              "#f0f921"
             ]
            ],
            "type": "surface"
           }
          ],
          "table": [
           {
            "cells": {
             "fill": {
              "color": "#EBF0F8"
             },
             "line": {
              "color": "white"
             }
            },
            "header": {
             "fill": {
              "color": "#C8D4E3"
             },
             "line": {
              "color": "white"
             }
            },
            "type": "table"
           }
          ]
         },
         "layout": {
          "annotationdefaults": {
           "arrowcolor": "#2a3f5f",
           "arrowhead": 0,
           "arrowwidth": 1
          },
          "autotypenumbers": "strict",
          "coloraxis": {
           "colorbar": {
            "outlinewidth": 0,
            "ticks": ""
           }
          },
          "colorscale": {
           "diverging": [
            [
             0,
             "#8e0152"
            ],
            [
             0.1,
             "#c51b7d"
            ],
            [
             0.2,
             "#de77ae"
            ],
            [
             0.3,
             "#f1b6da"
            ],
            [
             0.4,
             "#fde0ef"
            ],
            [
             0.5,
             "#f7f7f7"
            ],
            [
             0.6,
             "#e6f5d0"
            ],
            [
             0.7,
             "#b8e186"
            ],
            [
             0.8,
             "#7fbc41"
            ],
            [
             0.9,
             "#4d9221"
            ],
            [
             1,
             "#276419"
            ]
           ],
           "sequential": [
            [
             0,
             "#0d0887"
            ],
            [
             0.1111111111111111,
             "#46039f"
            ],
            [
             0.2222222222222222,
             "#7201a8"
            ],
            [
             0.3333333333333333,
             "#9c179e"
            ],
            [
             0.4444444444444444,
             "#bd3786"
            ],
            [
             0.5555555555555556,
             "#d8576b"
            ],
            [
             0.6666666666666666,
             "#ed7953"
            ],
            [
             0.7777777777777778,
             "#fb9f3a"
            ],
            [
             0.8888888888888888,
             "#fdca26"
            ],
            [
             1,
             "#f0f921"
            ]
           ],
           "sequentialminus": [
            [
             0,
             "#0d0887"
            ],
            [
             0.1111111111111111,
             "#46039f"
            ],
            [
             0.2222222222222222,
             "#7201a8"
            ],
            [
             0.3333333333333333,
             "#9c179e"
            ],
            [
             0.4444444444444444,
             "#bd3786"
            ],
            [
             0.5555555555555556,
             "#d8576b"
            ],
            [
             0.6666666666666666,
             "#ed7953"
            ],
            [
             0.7777777777777778,
             "#fb9f3a"
            ],
            [
             0.8888888888888888,
             "#fdca26"
            ],
            [
             1,
             "#f0f921"
            ]
           ]
          },
          "colorway": [
           "#636efa",
           "#EF553B",
           "#00cc96",
           "#ab63fa",
           "#FFA15A",
           "#19d3f3",
           "#FF6692",
           "#B6E880",
           "#FF97FF",
           "#FECB52"
          ],
          "font": {
           "color": "#2a3f5f"
          },
          "geo": {
           "bgcolor": "white",
           "lakecolor": "white",
           "landcolor": "#E5ECF6",
           "showlakes": true,
           "showland": true,
           "subunitcolor": "white"
          },
          "hoverlabel": {
           "align": "left"
          },
          "hovermode": "closest",
          "mapbox": {
           "style": "light"
          },
          "paper_bgcolor": "white",
          "plot_bgcolor": "#E5ECF6",
          "polar": {
           "angularaxis": {
            "gridcolor": "white",
            "linecolor": "white",
            "ticks": ""
           },
           "bgcolor": "#E5ECF6",
           "radialaxis": {
            "gridcolor": "white",
            "linecolor": "white",
            "ticks": ""
           }
          },
          "scene": {
           "xaxis": {
            "backgroundcolor": "#E5ECF6",
            "gridcolor": "white",
            "gridwidth": 2,
            "linecolor": "white",
            "showbackground": true,
            "ticks": "",
            "zerolinecolor": "white"
           },
           "yaxis": {
            "backgroundcolor": "#E5ECF6",
            "gridcolor": "white",
            "gridwidth": 2,
            "linecolor": "white",
            "showbackground": true,
            "ticks": "",
            "zerolinecolor": "white"
           },
           "zaxis": {
            "backgroundcolor": "#E5ECF6",
            "gridcolor": "white",
            "gridwidth": 2,
            "linecolor": "white",
            "showbackground": true,
            "ticks": "",
            "zerolinecolor": "white"
           }
          },
          "shapedefaults": {
           "line": {
            "color": "#2a3f5f"
           }
          },
          "ternary": {
           "aaxis": {
            "gridcolor": "white",
            "linecolor": "white",
            "ticks": ""
           },
           "baxis": {
            "gridcolor": "white",
            "linecolor": "white",
            "ticks": ""
           },
           "bgcolor": "#E5ECF6",
           "caxis": {
            "gridcolor": "white",
            "linecolor": "white",
            "ticks": ""
           }
          },
          "title": {
           "x": 0.05
          },
          "xaxis": {
           "automargin": true,
           "gridcolor": "white",
           "linecolor": "white",
           "ticks": "",
           "title": {
            "standoff": 15
           },
           "zerolinecolor": "white",
           "zerolinewidth": 2
          },
          "yaxis": {
           "automargin": true,
           "gridcolor": "white",
           "linecolor": "white",
           "ticks": "",
           "title": {
            "standoff": 15
           },
           "zerolinecolor": "white",
           "zerolinewidth": 2
          }
         }
        },
        "title": {
         "text": "intersect points diff 2"
        }
       }
      }
     },
     "metadata": {},
     "output_type": "display_data"
    },
    {
     "name": "stdout",
     "output_type": "stream",
     "text": [
      "coeff_time2=0.000000000241,-0.000000019384\n"
     ]
    }
   ],
   "source": [
    "print(f\"guessed: {coeft=} coeff_time={coeff_time[0]:.12f},{coeff_time[1]:.12f} cfo ppm from time: {1 - coeff_time[0] / Config.nsampf * Config.fs} cfo: {(1 - coeff_time[0] / Config.nsampf * Config.fs) * Config.sig_freq}\")\n",
    "pltfig(((dx, dy), (dx, xp.polyval(coeff_time, dx))), title=\"intersect points fitline\").show()\n",
    "pltfig1(dx, dy - xp.polyval(coeff_time, dx), title=\"intersect points diff\").show()\n",
    "\n",
    "dx2 = dy - xp.polyval(coeff_time, dx)\n",
    "dx2 = dx2[:225]\n",
    "dx = dx[:225]\n",
    "dx3 = dy.copy()[:225]\n",
    "for pidx in range(1, len(dx2) - 1):\n",
    "    if abs(dx2[pidx] - dx2[pidx-1]) > 0.2e-6 and abs(dx2[pidx] + dx2[pidx-1]) > 0.2e-6:\n",
    "        dx2[pidx] = (dx2[pidx-1] + dx2[pidx+1])/2\n",
    "        dx3[pidx] = (dx3[pidx-1] + dx3[pidx+1])/2\n",
    "\n",
    "coeff_time2 = xp.polyfit(dx, dx2, 1)\n",
    "pltfig(((dx, dx2), (dx, xp.polyval(coeff_time2, dx))),\n",
    "       title=\"intersect points fitline 2\").show()\n",
    "pltfig1(dx, dx2 - xp.polyval(coeff_time2, dx), title=\"intersect points diff 2\").show()\n",
    "print(f\"coeff_time2={coeff_time2[0]:.12f},{coeff_time2[1]:.12f}\")\n"
   ]
  },
  {
   "cell_type": "markdown",
   "id": "90192164",
   "metadata": {},
   "source": []
  },
  {
   "cell_type": "code",
   "execution_count": 11,
   "id": "9b581a83",
   "metadata": {},
   "outputs": [
    {
     "name": "stdout",
     "output_type": "stream",
     "text": [
      "coeff_time3=8.018800888788714708e-13,1.008263323024039849e-02,4.240091383946991144e+00\n",
      "freq_start=array(-40869.20562028) freq_rate=array(-0.38175444)\n"
     ]
    }
   ],
   "source": [
    "\n",
    "coeff_time3 = xp.polyfit(dx, dx3, 2)\n",
    "# pltfig(((dx, dx3), (dx, xp.polyval(coeff_time3, dx))),\n",
    "#        title=\"intersect points fitline coeff_time3\").show()\n",
    "# pltfig1(dx, dx3 - xp.polyval(coeff_time3, dx), title=\"intersect points diff coeff_time3\").show()\n",
    "print(f\"coeff_time3={coeff_time3[0]:.18e},{coeff_time3[1]:.18e},{coeff_time3[2]:.18e}\")\n",
    "# t1 - coef(1) - coef(0) = a + b\n",
    "freq_start = (1 - (coeff_time3[0] + coeff_time3[1]) / (2 ** Config.sf / Config.bw)) * Config.sig_freq\n",
    "# t2 - t1 = coef(2) - coef(1) - coef(1) + coef(0) = 2a\n",
    "freq_rate = - 2 * coeff_time3[0] / (2 ** Config.sf / Config.bw) * Config.sig_freq\n",
    "print(f\"{freq_start=} {freq_rate=}\")\n"
   ]
  },
  {
   "cell_type": "code",
   "execution_count": 12,
   "id": "60b7ece8",
   "metadata": {},
   "outputs": [
    {
     "name": "stdout",
     "output_type": "stream",
     "text": [
      "coef2 start coeff_new at t=0: -41023.146567502648 estf change rate per symb: -0.511938179522 fixed: -0.381754436844 -41041.307199606235 -0.000000450733\n",
      "coef2 end coeff_new at t=0: -41023.164195098274 estf change rate per symb: -0.511873561846 fixed: -0.381754436844 -41041.315813035966 -0.000000450509\n"
     ]
    }
   ],
   "source": [
    "pidx_range = xp.arange(Config.preamble_len)\n",
    "# TODO simplify\n",
    "estcoefs = []\n",
    "for ixx in range(2):\n",
    "    dd = []\n",
    "    for pidx in range(240):\n",
    "        estf = xp.polyval(coeff, pidx)\n",
    "        if ixx == 0:\n",
    "            bwdiff = -Config.bw * (1 + estf / Config.sig_freq) / 2\n",
    "        else:\n",
    "            bwdiff = Config.bw * (1 + estf / Config.sig_freq) / 2\n",
    "        dd.append(to_scalar((coeflist[pidx, 0] * 2 * xp.polyval(coeff_time3, pidx + ixx) + coeflist[pidx, 1]) / 2 / xp.pi - bwdiff))\n",
    "    dd = xp.array(dd)\n",
    "    pidx_range2 = xp.arange(50, Config.preamble_len - 10)\n",
    "    estcoef = xp.polyfit(pidx_range2, dd[pidx_range2], 1)\n",
    "    intercept = xp.mean(dd[pidx_range2] - freq_rate * pidx_range2)\n",
    "    estcoefs.append(estcoef)\n",
    "\n",
    "    # pltfig(((pidx_range2, dd[pidx_range2]), (pidx_range2, xp.polyval(coeff_new, pidx_range2))),\n",
    "    #        title=f\"intersect points fitline freq{ixx}\").show()\n",
    "    # pltfig1(pidx_range2, dd[pidx_range2] - xp.polyval(coeff_new, pidx_range2), title=f\"intersect points diff freq{ixx}\").show()\n",
    "    #\n",
    "    fdiff = intercept - estcoef[1] # freq = (2at + b) / 2pi deltaf = a/pi deltat\n",
    "    tdiff =  fdiff / xp.mean(coeflist[:, 0]) * xp.pi\n",
    "    print(f\"coef2 {'start' if ixx == 0 else 'end'} coeff_new at t=0: {estcoef[1]:.12f} estf change rate per symb: {estcoef[0]:.12f} fixed: {freq_rate:.12f} {intercept:.12f} {tdiff:.12f}\")\n"
   ]
  },
  {
   "cell_type": "code",
   "execution_count": 13,
   "id": "39ef1a69",
   "metadata": {},
   "outputs": [
    {
     "name": "stdout",
     "output_type": "stream",
     "text": [
      "xp.polyval(coeff_time, Config.preamble_len)=array(6.65992339) xp.polyval(coeff_time3, Config.preamble_len)=array(6.65992341)\n"
     ]
    }
   ],
   "source": [
    "\n",
    "coeff_new, coeff_new1 = estcoefs\n",
    "\n",
    "coeff_time = coeft # todo!!!2\n",
    "# coeff_time[-1] += 0.4e-6 + 130e-9\n",
    "\n",
    "print(f\"{xp.polyval(coeff_time, Config.preamble_len)=} {xp.polyval(coeff_time3, Config.preamble_len)=}\")\n",
    "# coeff_time = coeff_time3 # !!! todo !!!\n",
    "# print(f\"{coeff_time=} already replaced by coefftime3\")\n",
    "\n",
    "betai = Config.bw / ((2 ** Config.sf) / Config.bw) * xp.pi\n",
    "coeffitlist = xp.zeros((Config.preamble_len, 3), dtype=xp.float64)\n",
    "coeffitlist[:, 0] = betai * (1 + 2 * xp.polyval(coeff_new, pidx_range) / Config.sig_freq)\n",
    "\n",
    "bwdiff = - Config.bw * (1 + coeff_new[1] / Config.sig_freq) / 2\n",
    "coeffitlist[:, 1] = 2 * xp.pi * xp.polyval(coeff_new, pidx_range) - xp.polyval(coeff_time, pidx_range) * 2 * coeffitlist[:, 0] + bwdiff * 2 * xp.pi\n",
    "\n",
    "for pidx in pidx_range[1:]:\n",
    "    coeffitlist[pidx, 2] -= xp.polyval(coeffitlist[pidx], xp.polyval(coeff_time, pidx)) - xp.polyval(coeffitlist[pidx - 1], xp.polyval(coeff_time, pidx))\n"
   ]
  },
  {
   "cell_type": "markdown",
   "id": "8cb52dd0",
   "metadata": {},
   "source": [
    "### Decode_core"
   ]
  },
  {
   "cell_type": "code",
   "execution_count": 17,
   "id": "9b6769da",
   "metadata": {},
   "outputs": [
    {
     "name": "stdout",
     "output_type": "stream",
     "text": [
      "freq1/ estbw * 2 ** Config.sf=array(7.97536381) freq/ estbw * 2 ** Config.sf=array(7.97353239)\n",
      "pidx=240 code=8 xp.angle(res2)=array(0.95356375) pow=0.9352311665410726\n",
      "freq1/ estbw * 2 ** Config.sf=array(15.98097552) freq/ estbw * 2 ** Config.sf=array(15.97820871)\n",
      "pidx=241 code=16 xp.angle(res2)=array(0.81816228) pow=0.9430392629374329\n",
      "WARN last phase cd2=array(0.51531188) manually add phase compensation\n"
     ]
    }
   ],
   "source": [
    "\n",
    "codephase = []\n",
    "powers = []\n",
    "\n",
    "# preamble codephase and powers\n",
    "for pidx in range(Config.preamble_len):\n",
    "    x1 = math.ceil(xp.polyval(coeff_time, pidx) * Config.fs)\n",
    "    x2 = math.ceil(xp.polyval(coeff_time, pidx + 1) * Config.fs)\n",
    "    nsymbr = xp.arange(x1, x2)\n",
    "    tsymbr = nsymbr / Config.fs\n",
    "    sig = reader.get(x1, x2 - x1)\n",
    "    res = sig.dot(xp.exp(-1j * xp.polyval(coeffitlist[pidx], tsymbr)))\n",
    "    codephase.append(xp.angle(res).item())\n",
    "    powers.append(xp.abs(res).item() / xp.sum(xp.abs(sig)).item())\n",
    "# pltfig1(None, xp.unwrap(codephase), title=\"unwrap phase\").show()\n",
    "\n",
    "coeffitlist = xp.concatenate((coeffitlist, xp.zeros((100, 3))), axis=0)\n",
    "fig=None\n",
    "\n",
    "# pidx = -1\n",
    "# x1 = math.ceil(xp.polyval(coeff_time, pidx) * Config.fs)\n",
    "# x2 = math.ceil(xp.polyval(coeff_time, pidx + 2) * Config.fs)\n",
    "# print(x1, x2)\n",
    "# nsymbr = xp.arange(x1, x2)\n",
    "# sig = reader.get(x1, x2 - x1)\n",
    "# plt.plot(xp.unwrap(xp.angle(sig)).get())\n",
    "# plt.show()\n",
    "# sys.exit(0)\n",
    "\n",
    "for pidx in range(Config.preamble_len, Config.preamble_len + 2):\n",
    "\n",
    "    # FFT find frequency\n",
    "    x1 = math.ceil(xp.polyval(coeff_time, pidx) * Config.fs)\n",
    "    x2 = math.ceil(xp.polyval(coeff_time, pidx + 1) * Config.fs)\n",
    "    nsymbr = xp.arange(x1, x2)\n",
    "    sig = reader.get(x1, x2 - x1)\n",
    "    tsymbr = nsymbr / Config.fs\n",
    "\n",
    "    estcoef_this = xp.polyval(coeff_new, pidx)\n",
    "    beta1 = betai * (1 + 2 * estcoef_this / Config.sig_freq)\n",
    "    estbw = Config.bw * (1 + estcoef_this / Config.sig_freq)\n",
    "    beta2 = 2 * xp.pi * (estcoef_this - estbw / 2) - xp.polyval(coeff_time, pidx) * 2 * beta1 # 2ax+b=differential b=differential - 2 * beta1 * time\n",
    "    coef2d_est = xp.array([beta1.get(), beta2.get(), 0])\n",
    "\n",
    "    refchirp = xp.exp(-1j * xp.polyval(coef2d_est, tsymbr))\n",
    "    sig2 = sig * refchirp\n",
    "    data0 = myfft(sig2, n=Config.fft_n, plan=Config.plan)\n",
    "    # plt.plot(xp.unwrap(xp.angle(sig)).get())\n",
    "    # plt.title(f\"preamble code uphase {pidx-Config.preamble_len}\")\n",
    "    # plt.show()\n",
    "    freq1 = xp.fft.fftshift(xp.fft.fftfreq(Config.fft_n, d=1 / Config.fs))[xp.argmax(xp.abs(data0))]\n",
    "    freq, valnew = optimize_1dfreq(sig2, tsymbr, freq1, Config.fs / Config.fft_n * 5)  # valnew may be as low as 0.3, only half the power will be collected\n",
    "    assert valnew > 0.9, f\"FFT power <= 0.9, {pidx=} fft {freq=} {freq1=} FFTmaxpow={xp.max(xp.abs(data0))} {valnew=}\"\n",
    "    # plt.plot(xp.abs(data0).get())\n",
    "    # plt.title(f\"preamble code FFT {pidx-Config.preamble_len}\")\n",
    "    # plt.show()\n",
    "    # freq, valnew = optimize_1dfreq(sig2, tsymbr, freq)\n",
    "    code = freq / estbw * 2 ** Config.sf\n",
    "    print(f\"{freq1/ estbw * 2 ** Config.sf=} {freq/ estbw * 2 ** Config.sf=}\")\n",
    "    assert code >=0 and code < 4096\n",
    "    # print(f\"{pidx=} optimized fft {freq=} maxpow={valnew} {code=:.12f}\")\n",
    "    code = around(code)\n",
    "\n",
    "    x3 = math.ceil(xp.polyval(coeff_time, pidx + 1 - code / 2 ** Config.sf ) * Config.fs)\n",
    "    nsymbr1 = xp.arange(x1, x3)\n",
    "    tsymbr1 = nsymbr1 / Config.fs\n",
    "    sig21 = reader.get(x1, x3 - x1)\n",
    "\n",
    "    beta2 = (2 * xp.pi * (xp.polyval(coeff_new, pidx) + estbw * (code / 2 ** Config.sf - 0.5))\n",
    "             - xp.polyval(coeff_time, pidx) * 2 * beta1)\n",
    "    coef2d_est2 = xp.array([beta1.get(), beta2.get(), 0])\n",
    "    coef2d_est2_2d = xp.polyval(coef2d_est2, xp.polyval(coeff_time, pidx)) - xp.polyval(coeffitlist[pidx - 1], xp.polyval(coeff_time, pidx))\n",
    "    coef2d_est2[2] -= coef2d_est2_2d\n",
    "    coeffitlist[pidx] = coef2d_est2\n",
    "\n",
    "    res2 = sig21.dot(xp.exp(-1j * xp.polyval(coef2d_est2, tsymbr1)) )\n",
    "\n",
    "    codephase.append(xp.angle(res2).item())\n",
    "    powers.append(xp.abs(res2).item() / xp.sum(xp.abs(sig21)).item())\n",
    "    # pltfig1(tsymbr1, xp.angle(sig21 * xp.exp(-1j * 2 * xp.pi * freq1 * tsymbr1)), title=f\"residue {pidx=}\").show()\n",
    "    print(f\"{pidx=} {code=} {xp.angle(res2)=} pow={xp.abs(res2)/xp.sum(xp.abs(sig21))}\")\n",
    "    fig=pltfig1(tsymbr, xp.angle(sig * xp.exp(-1j * xp.polyval(coef2d_est2, tsymbr))), title=f\"residue {pidx=}\", fig=fig)\n",
    "\n",
    "for pidx in range(Config.preamble_len + 2, Config.preamble_len + 4):\n",
    "    x1 = math.ceil(xp.polyval(coeff_time, pidx) * Config.fs)\n",
    "    x2 = math.ceil(xp.polyval(coeff_time, pidx + 1) * Config.fs)\n",
    "    sig = reader.get(x1, x2 - x1)\n",
    "    nsymbr = xp.arange(x1, x2)\n",
    "    tsymbr = nsymbr / Config.fs\n",
    "\n",
    "    estcoef_this = xp.polyval(coeff_new, pidx)\n",
    "    beta1 = - betai * (1 + 2 * estcoef_this / Config.sig_freq)\n",
    "    estbw = Config.bw * (1 + estcoef_this / Config.sig_freq)\n",
    "    # print(f\"EEE! {Config.bw * (estcoef_this / Config.sig_freq)=}\")\n",
    "    beta2 = 2 * xp.pi * (xp.polyval(coeff_new, pidx) + estbw / 2) - xp.polyval(coeff_time, pidx) * 2 * beta1 # 2ax+b=differential b=differential - 2 * beta1 * time\n",
    "    coef2d_est2 = xp.array([beta1.get(), beta2.get(), 0])\n",
    "    coef2d_est2_2d = xp.polyval(coef2d_est2, xp.polyval(coeff_time, pidx)) - xp.polyval(\n",
    "        coeffitlist[pidx - 1], xp.polyval(coeff_time, pidx))\n",
    "    coef2d_est2[2] -= coef2d_est2_2d\n",
    "    coeffitlist[pidx] = coef2d_est2\n",
    "    res2 = sig.dot(xp.exp(-1j * xp.polyval(coef2d_est2, tsymbr)))\n",
    "    fig = pltfig1(tsymbr, xp.angle(sig * xp.exp(-1j * xp.polyval(coef2d_est2, tsymbr))), title=f\"residue {pidx=}\", fig=fig)\n",
    "    codephase.append(xp.angle(res2).item())\n",
    "    powers.append(xp.abs(res2).item() / xp.sum(xp.abs(sig)).item())\n",
    "    # pltfig1(None, xp.angle(sig * xp.exp(-1j * xp.polyval(coef2d_est2, tsymbr))), title=f\"residue {pidx=}\").show()\n",
    "    # freq, power = optimize_1dfreq(sig * xp.exp(-1j * xp.polyval(coef2d_est2, tsymbr)), tsymbr, 0)\n",
    "    # print(f\"EEE! {freq=} {power=}\")\n",
    "\n",
    "for pidx in range(Config.preamble_len + 4, Config.preamble_len + 5):\n",
    "    x1 = math.ceil(xp.polyval(coeff_time, pidx) * Config.fs)\n",
    "    x2 = math.ceil(xp.polyval(coeff_time, pidx + 0.25) * Config.fs)\n",
    "    nsymbr = xp.arange(x1, x2)\n",
    "    tsymbr = nsymbr / Config.fs\n",
    "    sig = reader.get(x1, x2 - x1)\n",
    "\n",
    "    estcoef_this = xp.polyval(coeff_new, pidx)\n",
    "    beta1 = - betai * (1 + 2 * estcoef_this / Config.sig_freq)\n",
    "    estbw = Config.bw * (1 + estcoef_this / Config.sig_freq)\n",
    "    beta2 = 2 * xp.pi * (xp.polyval(coeff_new, pidx) + estbw / 2) - xp.polyval(coeff_time, pidx) * 2 * beta1 # 2ax+b=differential b=differential - 2 * beta1 * time\n",
    "    coef2d_est2 = xp.array([beta1.get(), beta2.get(), 0])\n",
    "    coef2d_est2_2d = xp.polyval(coef2d_est2, xp.polyval(coeff_time, pidx)) - xp.polyval(\n",
    "        coeffitlist[pidx - 1], xp.polyval(coeff_time, pidx))\n",
    "    coef2d_est2[2] -= coef2d_est2_2d\n",
    "    cd2 = xp.angle(sig.dot(xp.exp(-1j * xp.polyval(coef2d_est2, tsymbr)) ))#!!!!!!!!!!!! TODO here we align phase for the last symbol\n",
    "    print(f\"WARN last phase {cd2=} manually add phase compensation\")\n",
    "    # coef2d_est2[2] += cd2\n",
    "    # cd2 = xp.angle(sig.dot(xp.exp(-1j * xp.polyval(coef2d_est2, tsymbr)) ))#!!!!!!!!!!!! TODO here we align phase for the last symbol\n",
    "    # assert abs(cd2) < 1e-4\n",
    "    coeffitlist[pidx] = coef2d_est2\n",
    "    res2 = sig.dot(xp.exp(-1j * xp.polyval(coef2d_est2, tsymbr)))\n",
    "    codephase.append(xp.angle(res2).item())\n",
    "    powers.append(xp.abs(res2).item() / xp.sum(xp.abs(sig)).item())\n",
    "    fig=pltfig1(tsymbr, xp.angle(sig * xp.exp(-1j * xp.polyval(coef2d_est2, tsymbr))), title=f\"residue {pidx=}\", fig=fig)\n"
   ]
  },
  {
   "cell_type": "code",
   "execution_count": 23,
   "id": "2e3ac40f",
   "metadata": {},
   "outputs": [
    {
     "data": {
      "application/vnd.plotly.v1+json": {
       "config": {
        "plotlyServerURL": "https://plot.ly"
       },
       "data": [
        {
         "mode": "lines",
         "type": "scatter",
         "x": [
          0,
          1,
          2,
          3,
          4,
          5,
          6,
          7,
          8,
          9,
          10,
          11,
          12,
          13,
          14,
          15,
          16,
          17,
          18,
          19,
          20,
          21,
          22,
          23,
          24,
          25,
          26,
          27,
          28,
          29,
          30,
          31,
          32,
          33,
          34,
          35,
          36,
          37,
          38,
          39,
          40,
          41,
          42,
          43,
          44,
          45,
          46,
          47,
          48,
          49,
          50,
          51,
          52,
          53,
          54,
          55,
          56,
          57,
          58,
          59,
          60,
          61,
          62,
          63,
          64,
          65,
          66,
          67,
          68
         ],
         "y": [
          0.19118850933637077,
          0.1947771302993715,
          0.19153653429248152,
          0.1783411358878766,
          0.15920707688155744,
          0.14282432698001912,
          0.1742493526285216,
          0.17845207693767406,
          0.14631083025807357,
          0.14730754196853013,
          0.15733916695057815,
          0.1117144505651595,
          0.12755194059764108,
          0.14523829704035052,
          0.11912536553563768,
          0.10959332458759263,
          0.09022422326188462,
          0.13035450498637147,
          0.08828347266440062,
          0.08392585800697816,
          0.07825648104881111,
          0.08766071045238277,
          0.07635857316040529,
          0.07428072595735102,
          0.055345775169826084,
          0.033286663255239546,
          0.05033016250013134,
          0.0364038595130296,
          0.028082896384376,
          0.07089722886939853,
          0.032907224481562025,
          0.016259538693248032,
          0.03091044516850161,
          0.0036200942095092614,
          0.0010797660074786108,
          0.03646638907230226,
          0.012464078395169054,
          0.03528345482573059,
          0.043667703817845904,
          0.01991382797109509,
          0.03297044367144508,
          0.02326963017367234,
          0.03449231996364688,
          0.04167819745862289,
          0.05898708466312996,
          0.06842619385747639,
          0.07195655616396834,
          0.05517058093414562,
          0.0942569787694083,
          0.10574072970848647,
          0.10243123769123486,
          0.07399155753421383,
          0.1030454520373496,
          0.1016514446612291,
          0.11516168993955489,
          0.1320019348426058,
          0.12785859895711837,
          0.1380111425883115,
          0.12811627382916413,
          0.1527664854284012,
          0.1419862517452657,
          0.17321092815564043,
          0.15645874054126807,
          0.13233864991229893,
          0.15290342941375457,
          0.16845824791596442,
          0.20156614849565813,
          0.18376416077768454,
          0.1974776834590557
         ]
        }
       ],
       "layout": {
        "template": {
         "data": {
          "bar": [
           {
            "error_x": {
             "color": "#2a3f5f"
            },
            "error_y": {
             "color": "#2a3f5f"
            },
            "marker": {
             "line": {
              "color": "#E5ECF6",
              "width": 0.5
             },
             "pattern": {
              "fillmode": "overlay",
              "size": 10,
              "solidity": 0.2
             }
            },
            "type": "bar"
           }
          ],
          "barpolar": [
           {
            "marker": {
             "line": {
              "color": "#E5ECF6",
              "width": 0.5
             },
             "pattern": {
              "fillmode": "overlay",
              "size": 10,
              "solidity": 0.2
             }
            },
            "type": "barpolar"
           }
          ],
          "carpet": [
           {
            "aaxis": {
             "endlinecolor": "#2a3f5f",
             "gridcolor": "white",
             "linecolor": "white",
             "minorgridcolor": "white",
             "startlinecolor": "#2a3f5f"
            },
            "baxis": {
             "endlinecolor": "#2a3f5f",
             "gridcolor": "white",
             "linecolor": "white",
             "minorgridcolor": "white",
             "startlinecolor": "#2a3f5f"
            },
            "type": "carpet"
           }
          ],
          "choropleth": [
           {
            "colorbar": {
             "outlinewidth": 0,
             "ticks": ""
            },
            "type": "choropleth"
           }
          ],
          "contour": [
           {
            "colorbar": {
             "outlinewidth": 0,
             "ticks": ""
            },
            "colorscale": [
             [
              0,
              "#0d0887"
             ],
             [
              0.1111111111111111,
              "#46039f"
             ],
             [
              0.2222222222222222,
              "#7201a8"
             ],
             [
              0.3333333333333333,
              "#9c179e"
             ],
             [
              0.4444444444444444,
              "#bd3786"
             ],
             [
              0.5555555555555556,
              "#d8576b"
             ],
             [
              0.6666666666666666,
              "#ed7953"
             ],
             [
              0.7777777777777778,
              "#fb9f3a"
             ],
             [
              0.8888888888888888,
              "#fdca26"
             ],
             [
              1,
              "#f0f921"
             ]
            ],
            "type": "contour"
           }
          ],
          "contourcarpet": [
           {
            "colorbar": {
             "outlinewidth": 0,
             "ticks": ""
            },
            "type": "contourcarpet"
           }
          ],
          "heatmap": [
           {
            "colorbar": {
             "outlinewidth": 0,
             "ticks": ""
            },
            "colorscale": [
             [
              0,
              "#0d0887"
             ],
             [
              0.1111111111111111,
              "#46039f"
             ],
             [
              0.2222222222222222,
              "#7201a8"
             ],
             [
              0.3333333333333333,
              "#9c179e"
             ],
             [
              0.4444444444444444,
              "#bd3786"
             ],
             [
              0.5555555555555556,
              "#d8576b"
             ],
             [
              0.6666666666666666,
              "#ed7953"
             ],
             [
              0.7777777777777778,
              "#fb9f3a"
             ],
             [
              0.8888888888888888,
              "#fdca26"
             ],
             [
              1,
              "#f0f921"
             ]
            ],
            "type": "heatmap"
           }
          ],
          "histogram": [
           {
            "marker": {
             "pattern": {
              "fillmode": "overlay",
              "size": 10,
              "solidity": 0.2
             }
            },
            "type": "histogram"
           }
          ],
          "histogram2d": [
           {
            "colorbar": {
             "outlinewidth": 0,
             "ticks": ""
            },
            "colorscale": [
             [
              0,
              "#0d0887"
             ],
             [
              0.1111111111111111,
              "#46039f"
             ],
             [
              0.2222222222222222,
              "#7201a8"
             ],
             [
              0.3333333333333333,
              "#9c179e"
             ],
             [
              0.4444444444444444,
              "#bd3786"
             ],
             [
              0.5555555555555556,
              "#d8576b"
             ],
             [
              0.6666666666666666,
              "#ed7953"
             ],
             [
              0.7777777777777778,
              "#fb9f3a"
             ],
             [
              0.8888888888888888,
              "#fdca26"
             ],
             [
              1,
              "#f0f921"
             ]
            ],
            "type": "histogram2d"
           }
          ],
          "histogram2dcontour": [
           {
            "colorbar": {
             "outlinewidth": 0,
             "ticks": ""
            },
            "colorscale": [
             [
              0,
              "#0d0887"
             ],
             [
              0.1111111111111111,
              "#46039f"
             ],
             [
              0.2222222222222222,
              "#7201a8"
             ],
             [
              0.3333333333333333,
              "#9c179e"
             ],
             [
              0.4444444444444444,
              "#bd3786"
             ],
             [
              0.5555555555555556,
              "#d8576b"
             ],
             [
              0.6666666666666666,
              "#ed7953"
             ],
             [
              0.7777777777777778,
              "#fb9f3a"
             ],
             [
              0.8888888888888888,
              "#fdca26"
             ],
             [
              1,
              "#f0f921"
             ]
            ],
            "type": "histogram2dcontour"
           }
          ],
          "mesh3d": [
           {
            "colorbar": {
             "outlinewidth": 0,
             "ticks": ""
            },
            "type": "mesh3d"
           }
          ],
          "parcoords": [
           {
            "line": {
             "colorbar": {
              "outlinewidth": 0,
              "ticks": ""
             }
            },
            "type": "parcoords"
           }
          ],
          "pie": [
           {
            "automargin": true,
            "type": "pie"
           }
          ],
          "scatter": [
           {
            "fillpattern": {
             "fillmode": "overlay",
             "size": 10,
             "solidity": 0.2
            },
            "type": "scatter"
           }
          ],
          "scatter3d": [
           {
            "line": {
             "colorbar": {
              "outlinewidth": 0,
              "ticks": ""
             }
            },
            "marker": {
             "colorbar": {
              "outlinewidth": 0,
              "ticks": ""
             }
            },
            "type": "scatter3d"
           }
          ],
          "scattercarpet": [
           {
            "marker": {
             "colorbar": {
              "outlinewidth": 0,
              "ticks": ""
             }
            },
            "type": "scattercarpet"
           }
          ],
          "scattergeo": [
           {
            "marker": {
             "colorbar": {
              "outlinewidth": 0,
              "ticks": ""
             }
            },
            "type": "scattergeo"
           }
          ],
          "scattergl": [
           {
            "marker": {
             "colorbar": {
              "outlinewidth": 0,
              "ticks": ""
             }
            },
            "type": "scattergl"
           }
          ],
          "scattermap": [
           {
            "marker": {
             "colorbar": {
              "outlinewidth": 0,
              "ticks": ""
             }
            },
            "type": "scattermap"
           }
          ],
          "scattermapbox": [
           {
            "marker": {
             "colorbar": {
              "outlinewidth": 0,
              "ticks": ""
             }
            },
            "type": "scattermapbox"
           }
          ],
          "scatterpolar": [
           {
            "marker": {
             "colorbar": {
              "outlinewidth": 0,
              "ticks": ""
             }
            },
            "type": "scatterpolar"
           }
          ],
          "scatterpolargl": [
           {
            "marker": {
             "colorbar": {
              "outlinewidth": 0,
              "ticks": ""
             }
            },
            "type": "scatterpolargl"
           }
          ],
          "scatterternary": [
           {
            "marker": {
             "colorbar": {
              "outlinewidth": 0,
              "ticks": ""
             }
            },
            "type": "scatterternary"
           }
          ],
          "surface": [
           {
            "colorbar": {
             "outlinewidth": 0,
             "ticks": ""
            },
            "colorscale": [
             [
              0,
              "#0d0887"
             ],
             [
              0.1111111111111111,
              "#46039f"
             ],
             [
              0.2222222222222222,
              "#7201a8"
             ],
             [
              0.3333333333333333,
              "#9c179e"
             ],
             [
              0.4444444444444444,
              "#bd3786"
             ],
             [
              0.5555555555555556,
              "#d8576b"
             ],
             [
              0.6666666666666666,
              "#ed7953"
             ],
             [
              0.7777777777777778,
              "#fb9f3a"
             ],
             [
              0.8888888888888888,
              "#fdca26"
             ],
             [
              1,
              "#f0f921"
             ]
            ],
            "type": "surface"
           }
          ],
          "table": [
           {
            "cells": {
             "fill": {
              "color": "#EBF0F8"
             },
             "line": {
              "color": "white"
             }
            },
            "header": {
             "fill": {
              "color": "#C8D4E3"
             },
             "line": {
              "color": "white"
             }
            },
            "type": "table"
           }
          ]
         },
         "layout": {
          "annotationdefaults": {
           "arrowcolor": "#2a3f5f",
           "arrowhead": 0,
           "arrowwidth": 1
          },
          "autotypenumbers": "strict",
          "coloraxis": {
           "colorbar": {
            "outlinewidth": 0,
            "ticks": ""
           }
          },
          "colorscale": {
           "diverging": [
            [
             0,
             "#8e0152"
            ],
            [
             0.1,
             "#c51b7d"
            ],
            [
             0.2,
             "#de77ae"
            ],
            [
             0.3,
             "#f1b6da"
            ],
            [
             0.4,
             "#fde0ef"
            ],
            [
             0.5,
             "#f7f7f7"
            ],
            [
             0.6,
             "#e6f5d0"
            ],
            [
             0.7,
             "#b8e186"
            ],
            [
             0.8,
             "#7fbc41"
            ],
            [
             0.9,
             "#4d9221"
            ],
            [
             1,
             "#276419"
            ]
           ],
           "sequential": [
            [
             0,
             "#0d0887"
            ],
            [
             0.1111111111111111,
             "#46039f"
            ],
            [
             0.2222222222222222,
             "#7201a8"
            ],
            [
             0.3333333333333333,
             "#9c179e"
            ],
            [
             0.4444444444444444,
             "#bd3786"
            ],
            [
             0.5555555555555556,
             "#d8576b"
            ],
            [
             0.6666666666666666,
             "#ed7953"
            ],
            [
             0.7777777777777778,
             "#fb9f3a"
            ],
            [
             0.8888888888888888,
             "#fdca26"
            ],
            [
             1,
             "#f0f921"
            ]
           ],
           "sequentialminus": [
            [
             0,
             "#0d0887"
            ],
            [
             0.1111111111111111,
             "#46039f"
            ],
            [
             0.2222222222222222,
             "#7201a8"
            ],
            [
             0.3333333333333333,
             "#9c179e"
            ],
            [
             0.4444444444444444,
             "#bd3786"
            ],
            [
             0.5555555555555556,
             "#d8576b"
            ],
            [
             0.6666666666666666,
             "#ed7953"
            ],
            [
             0.7777777777777778,
             "#fb9f3a"
            ],
            [
             0.8888888888888888,
             "#fdca26"
            ],
            [
             1,
             "#f0f921"
            ]
           ]
          },
          "colorway": [
           "#636efa",
           "#EF553B",
           "#00cc96",
           "#ab63fa",
           "#FFA15A",
           "#19d3f3",
           "#FF6692",
           "#B6E880",
           "#FF97FF",
           "#FECB52"
          ],
          "font": {
           "color": "#2a3f5f"
          },
          "geo": {
           "bgcolor": "white",
           "lakecolor": "white",
           "landcolor": "#E5ECF6",
           "showlakes": true,
           "showland": true,
           "subunitcolor": "white"
          },
          "hoverlabel": {
           "align": "left"
          },
          "hovermode": "closest",
          "mapbox": {
           "style": "light"
          },
          "paper_bgcolor": "white",
          "plot_bgcolor": "#E5ECF6",
          "polar": {
           "angularaxis": {
            "gridcolor": "white",
            "linecolor": "white",
            "ticks": ""
           },
           "bgcolor": "#E5ECF6",
           "radialaxis": {
            "gridcolor": "white",
            "linecolor": "white",
            "ticks": ""
           }
          },
          "scene": {
           "xaxis": {
            "backgroundcolor": "#E5ECF6",
            "gridcolor": "white",
            "gridwidth": 2,
            "linecolor": "white",
            "showbackground": true,
            "ticks": "",
            "zerolinecolor": "white"
           },
           "yaxis": {
            "backgroundcolor": "#E5ECF6",
            "gridcolor": "white",
            "gridwidth": 2,
            "linecolor": "white",
            "showbackground": true,
            "ticks": "",
            "zerolinecolor": "white"
           },
           "zaxis": {
            "backgroundcolor": "#E5ECF6",
            "gridcolor": "white",
            "gridwidth": 2,
            "linecolor": "white",
            "showbackground": true,
            "ticks": "",
            "zerolinecolor": "white"
           }
          },
          "shapedefaults": {
           "line": {
            "color": "#2a3f5f"
           }
          },
          "ternary": {
           "aaxis": {
            "gridcolor": "white",
            "linecolor": "white",
            "ticks": ""
           },
           "baxis": {
            "gridcolor": "white",
            "linecolor": "white",
            "ticks": ""
           },
           "bgcolor": "#E5ECF6",
           "caxis": {
            "gridcolor": "white",
            "linecolor": "white",
            "ticks": ""
           }
          },
          "title": {
           "x": 0.05
          },
          "xaxis": {
           "automargin": true,
           "gridcolor": "white",
           "linecolor": "white",
           "ticks": "",
           "title": {
            "standoff": 15
           },
           "zerolinecolor": "white",
           "zerolinewidth": 2
          },
          "yaxis": {
           "automargin": true,
           "gridcolor": "white",
           "linecolor": "white",
           "ticks": "",
           "title": {
            "standoff": 15
           },
           "zerolinecolor": "white",
           "zerolinewidth": 2
          }
         }
        },
        "title": {
         "text": "codexdiffs"
        }
       }
      }
     },
     "metadata": {},
     "output_type": "display_data"
    }
   ],
   "source": [
    "\n",
    "startphase = xp.polyval(coeffitlist[Config.preamble_len + 4], xp.polyval(coeff_time, Config.preamble_len + 5 - 0.75))\n",
    "\n",
    "coef2d_ests = []\n",
    "ifreqs = []\n",
    "# for pidx in range(Config.preamble_len + 5, Config.preamble_len + 5 + Config.payload_len):\n",
    "codephase2 = [] # !!! todo !!!\n",
    "powers = []\n",
    "codes = []\n",
    "codexdiffs = []\n",
    "for pidx in range(Config.preamble_len + 5, Config.total_len):\n",
    "    tstart = xp.polyval(coeff_time, pidx - 0.75)\n",
    "    tend = xp.polyval(coeff_time, pidx + 1 - 0.75)\n",
    "    x1 = math.ceil(tstart * Config.fs)\n",
    "    x2 = math.ceil(tend * Config.fs)\n",
    "    nsymbr = xp.arange(x1, x2)\n",
    "    sig = reader.get(x1, x2 - x1)\n",
    "    if xp.mean(xp.abs(sig)) < 0.01:\n",
    "        print(f\"{pidx=} {xp.mean(xp.abs(sig))=} too small. is symbol ending? quitting, payload_len={pidx - Config.preamble_len - 5}\")\n",
    "        break\n",
    "    \n",
    "    x1 = math.ceil(tstart * Config.fs)\n",
    "    x2 = math.ceil(tend * Config.fs)\n",
    "    nsymbr = xp.arange(x1, x2)\n",
    "    tsymbr = nsymbr / Config.fs\n",
    "\n",
    "    # pltfig1(tsymbr, xp.unwrap(xp.angle(reader.get(x1, x2-x1))), title=f\"{pidx=}\").show()\n",
    "    # pltfig1(tsymbr, xp.abs(reader.get(x1, x2-x1)), title=f\"{pidx=}\").show()\n",
    "    assert xp.mean(xp.abs(reader.get(x1, x2-x1))) > 0.1, f\"{pidx=} {xp.mean(xp.abs(reader.get(x1, x2-x1)))=} too small. is symbol ending?\"\n",
    "    estcoef_this = xp.polyval(coeff, pidx)\n",
    "\n",
    "    beta1 = Config.bw / ((2 ** Config.sf) / Config.bw) * xp.pi * (1 + 2 * estcoef_this / Config.sig_freq)\n",
    "    estbw = Config.bw * (1 + estcoef_this / Config.sig_freq)\n",
    "    beta2 = 2 * xp.pi * (xp.polyval(coeff, pidx) - estbw / 2) - tstart * 2 * beta1  # 2ax+b=differential b=differential - 2 * beta1 * time\n",
    "    coef2d_est = xp.array([beta1.get(), beta2.get(), 0])\n",
    "\n",
    "    sig2 = reader.get(x1, x2-x1) * xp.exp(-1j * xp.polyval(coef2d_est, tsymbr))\n",
    "    data0 = myfft(sig2, n=Config.fft_n, plan=Config.plan)\n",
    "    freq1 = xp.fft.fftshift(xp.fft.fftfreq(Config.fft_n, d=1 / Config.fs))[xp.argmax(xp.abs(data0))]\n",
    "    freq, valnew = optimize_1dfreq_fast(sig2, tsymbr, freq1, Config.fs / Config.fft_n * 5) # valnew may be as low as 0.3, only half the power will be collected\n",
    "    # freq = freq1 # todo !!!\n",
    "    # assert valnew > 0.3, f\"{freq=} {freq1=} {valnew=}\"\n",
    "    if freq < 0: freq += estbw\n",
    "    codex = freq / estbw * 2 ** Config.sf\n",
    "    code = around(codex)\n",
    "    # print(f\"{codex=} {code=}\")\n",
    "\n",
    "    tmid = tstart * (code / 2 ** Config.sf) + tend * (1 - code / 2 ** Config.sf)\n",
    "    tmid = tmid.item()\n",
    "    x3 = math.ceil(tmid * Config.fs)\n",
    "\n",
    "    nsymbr1 = xp.arange(x1, x3)\n",
    "    tsymbr1 = nsymbr1 / Config.fs\n",
    "    nsymbr2 = xp.arange(x3, x2)\n",
    "    tsymbr2 = nsymbr2 / Config.fs\n",
    "\n",
    "    beta2 = (2 * xp.pi * (xp.polyval(coeff, pidx) + estbw * (code / 2 ** Config.sf - 0.5))\n",
    "             - tstart * 2 * beta1)\n",
    "    coef2d_est2 = xp.array([beta1.get(), beta2.get(), 0])\n",
    "    coef2d_est2_2d = xp.polyval(coef2d_est2, tstart) - startphase\n",
    "    coef2d_est2[2] -= coef2d_est2_2d\n",
    "\n",
    "    beta2a = (2 * xp.pi * (xp.polyval(coeff, pidx) + estbw * (code / 2 ** Config.sf - 1.5))\n",
    "              - tstart * 2 * beta1)\n",
    "    coef2d_est2a = xp.array([beta1.get(), beta2a.get(), 0])\n",
    "    coef2d_est2a_2d = xp.polyval(coef2d_est2a, tmid) - xp.polyval(coef2d_est2, tmid)\n",
    "    coef2d_est2a[2] -= coef2d_est2a_2d\n",
    "\n",
    "    res2 = reader.get(x1, x3-x1).dot(xp.exp(-1j * xp.polyval(coef2d_est2, tsymbr1))) / xp.sum(xp.abs(reader.get(x1, x3-x1)))\n",
    "    res2a = reader.get(x3, x2-x3).dot(xp.exp(-1j * xp.polyval(coef2d_est2a, tsymbr2))) / xp.sum(xp.abs(reader.get(x3, x2-x3)))\n",
    "\n",
    "    if not (xp.abs(res2).item() > 0.7 or code > 2 ** Config.sf * 0.7) or not (xp.abs(res2a).item() > 0.7 or code < 2 ** Config.sf * 0.2):\n",
    "        pltfig1(tsymbr1, xp.angle(reader.get(x1, x3-x1) * xp.exp(-1j * xp.polyval(coef2d_est2, tsymbr1))), title=f\"{pidx=} 1st angle {codex=} pow={xp.abs(res2).item()}\").show()\n",
    "        pltfig1(tsymbr2, xp.angle(reader.get(x3, x2-x3) * xp.exp(-1j * xp.polyval(coef2d_est2a, tsymbr2))), title=f\"{pidx=} 2st angle {codex=} pow={xp.abs(res2a).item()}\").show()\n",
    "\n",
    "    assert xp.abs(res2).item() > 0.7 or code > 2 ** Config.sf * 0.7, f\"{pidx=} {code=} 1st power {xp.abs(res2).item()}<0.7\"\n",
    "    assert xp.abs(res2a).item() > 0.7 or code < 2 ** Config.sf * 0.2, f\"{pidx=} {code=} 2nd power {xp.abs(res2a).item()}<0.7\"\n",
    "\n",
    "    endphase = xp.polyval(coef2d_est2a, tend)\n",
    "    ifreq1 = 2 * xp.pi * (xp.polyval(coeff, pidx) + estbw * (code / 2 ** Config.sf - 0.5))\n",
    "    ifreq2 = 2 * xp.pi * (xp.polyval(coeff, pidx) + estbw * (code / 2 ** Config.sf - 1.5))\n",
    "\n",
    "    startphase = endphase\n",
    "    powers.append(xp.abs(res2).item())\n",
    "    powers.append(xp.abs(res2a).item())\n",
    "    codephase2.append(xp.angle(res2).item())\n",
    "    codephase2.append(xp.angle(res2a).item())\n",
    "    codephase.append(xp.angle(res2).item())\n",
    "    codephase.append(xp.angle(res2a).item())\n",
    "    coef2d_ests.append(coef2d_est2)\n",
    "    coef2d_ests.append(coef2d_est2a)\n",
    "    codes.append(code)\n",
    "    codexdiffs.append(abs(codex - code))\n",
    "pltfig1(None, xp.unwrap(codexdiffs), title=\"codexdiffs\").show()"
   ]
  },
  {
   "cell_type": "code",
   "execution_count": null,
   "id": "122daa63",
   "metadata": {},
   "outputs": [],
   "source": [
    "\n",
    "anslist = []\n",
    "anslista = []\n",
    "anslistb = []\n",
    "anslist2 = []\n",
    "anslist2a = []\n",
    "anslist2b = []\n",
    "for pidx in range(2, len(codephase2), 2):\n",
    "    code = codes[pidx // 2]\n",
    "    tmid = tstart * (code / 2 ** Config.sf) + tend * (1 - code / 2 ** Config.sf)\n",
    "    tmid = tmid.item()\n",
    "    ifreq1 = xp.polyval(sqlist([2 * coef2d_ests[pidx][0], coef2d_ests[pidx][1]]), tstart ) - xp.polyval(sqlist([2 * coef2d_ests[pidx - 1][0], coef2d_ests[pidx - 1][1]]), tstart )\n",
    "    ifreq2 = xp.polyval(sqlist([2 * coef2d_ests[pidx + 1][0], coef2d_ests[pidx + 1][1]]), tmid ) - xp.polyval(sqlist([2 * coef2d_ests[pidx][0], coef2d_ests[pidx][1]]), tmid )\n",
    "    print(pidx, ifreq1, ifreq2)\n",
    "    a1 = (wrap(codephase2[pidx] - codephase2[pidx - 1] - xp.pi) + xp.pi) / 2 / xp.pi / ifreq1\n",
    "    if ifreq1 < 0: a1 = (wrap(codephase2[pidx] - codephase2[pidx - 1] + xp.pi) - xp.pi) / 2 / xp.pi / ifreq1\n",
    "    assert a1>=0\n",
    "    a1a = a1 + 1 / abs(ifreq1)\n",
    "    a1b = a1 - 1 / abs(ifreq1)\n",
    "    anslist.append(a1)\n",
    "    anslista.append(a1a)\n",
    "    anslistb.append(a1b)\n",
    "    a2 = wrap(codephase2[pidx + 1] - codephase2[pidx]) / 2 / xp.pi / ifreq2\n",
    "    a2a = a2 + 1 / abs(ifreq2)\n",
    "    a2b = a2 - 1 / abs(ifreq2)\n",
    "    anslist2.append(a2)\n",
    "    anslist2a.append(a2a)\n",
    "    anslist2b.append(a2b)\n",
    "\n",
    "anslist = xp.unwrap(sqlist(anslist))\n",
    "tdifflist = anslist\n",
    "fig = pltfig1(None, tdifflist, title=\"tdifflist\")\n",
    "fig = pltfig1(None, anslista, title=\"tdifflist\", fig=fig)\n",
    "pltfig1(None, anslistb, title=\"tdifflista\", fig=fig).show()\n",
    "anslist2 = xp.unwrap(sqlist(anslist2))\n",
    "tdifflist2 = anslist2\n",
    "fig = pltfig1(None, tdifflist2, title=\"tdifflist\")\n",
    "fig = pltfig1(None, anslist2a, title=\"tdifflist\", fig=fig)\n",
    "pltfig1(None, anslist2b, title=\"tdifflista\", fig=fig).show()\n",
    "\n",
    "\n",
    "pltfig1(None, powers, title=\"powers\").show()\n",
    "pltfig1(None, xp.unwrap(codephase), title=\"unwrap phase\").show()\n",
    "\n",
    "\n"
   ]
  }
 ],
 "metadata": {
  "kernelspec": {
   "display_name": "cupy310",
   "language": "python",
   "name": "python3"
  },
  "language_info": {
   "codemirror_mode": {
    "name": "ipython",
    "version": 3
   },
   "file_extension": ".py",
   "mimetype": "text/x-python",
   "name": "python",
   "nbconvert_exporter": "python",
   "pygments_lexer": "ipython3",
   "version": "3.10.18"
  }
 },
 "nbformat": 4,
 "nbformat_minor": 5
}
